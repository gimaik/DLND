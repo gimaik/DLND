{
 "cells": [
  {
   "cell_type": "markdown",
   "metadata": {},
   "source": [
    "# Creating a Sentiment Analysis Web App\n",
    "## Using PyTorch and SageMaker\n",
    "\n",
    "_Deep Learning Nanodegree Program | Deployment_\n",
    "\n",
    "---\n",
    "\n",
    "Now that we have a basic understanding of how SageMaker works we will try to use it to construct a complete project from end to end. Our goal will be to have a simple web page which a user can use to enter a movie review. The web page will then send the review off to our deployed model which will predict the sentiment of the entered review.\n",
    "\n",
    "## Instructions\n",
    "\n",
    "Some template code has already been provided for you, and you will need to implement additional functionality to successfully complete this notebook. You will not need to modify the included code beyond what is requested. Sections that begin with '**TODO**' in the header indicate that you need to complete or implement some portion within them. Instructions will be provided for each section and the specifics of the implementation are marked in the code block with a `# TODO: ...` comment. Please be sure to read the instructions carefully!\n",
    "\n",
    "In addition to implementing code, there will be questions for you to answer which relate to the task and your implementation. Each section where you will answer a question is preceded by a '**Question:**' header. Carefully read each question and provide your answer below the '**Answer:**' header by editing the Markdown cell.\n",
    "\n",
    "> **Note**: Code and Markdown cells can be executed using the **Shift+Enter** keyboard shortcut. In addition, a cell can be edited by typically clicking it (double-click for Markdown cells) or by pressing **Enter** while it is highlighted.\n",
    "\n",
    "## General Outline\n",
    "\n",
    "Recall the general outline for SageMaker projects using a notebook instance.\n",
    "\n",
    "1. Download or otherwise retrieve the data.\n",
    "2. Process / Prepare the data.\n",
    "3. Upload the processed data to S3.\n",
    "4. Train a chosen model.\n",
    "5. Test the trained model (typically using a batch transform job).\n",
    "6. Deploy the trained model.\n",
    "7. Use the deployed model.\n",
    "\n",
    "For this project, you will be following the steps in the general outline with some modifications. \n",
    "\n",
    "First, you will not be testing the model in its own step. You will still be testing the model, however, you will do it by deploying your model and then using the deployed model by sending the test data to it. One of the reasons for doing this is so that you can make sure that your deployed model is working correctly before moving forward.\n",
    "\n",
    "In addition, you will deploy and use your trained model a second time. In the second iteration you will customize the way that your trained model is deployed by including some of your own code. In addition, your newly deployed model will be used in the sentiment analysis web app."
   ]
  },
  {
   "cell_type": "markdown",
   "metadata": {},
   "source": [
    "## Step 1: Downloading the data\n",
    "\n",
    "As in the XGBoost in SageMaker notebook, we will be using the [IMDb dataset](http://ai.stanford.edu/~amaas/data/sentiment/)\n",
    "\n",
    "> Maas, Andrew L., et al. [Learning Word Vectors for Sentiment Analysis](http://ai.stanford.edu/~amaas/data/sentiment/). In _Proceedings of the 49th Annual Meeting of the Association for Computational Linguistics: Human Language Technologies_. Association for Computational Linguistics, 2011."
   ]
  },
  {
   "cell_type": "code",
   "execution_count": 1,
   "metadata": {},
   "outputs": [
    {
     "name": "stdout",
     "output_type": "stream",
     "text": [
      "mkdir: cannot create directory ‘../data’: File exists\n",
      "--2019-01-05 04:32:17--  http://ai.stanford.edu/~amaas/data/sentiment/aclImdb_v1.tar.gz\n",
      "Resolving ai.stanford.edu (ai.stanford.edu)... 171.64.68.10\n",
      "Connecting to ai.stanford.edu (ai.stanford.edu)|171.64.68.10|:80... connected.\n",
      "HTTP request sent, awaiting response... 200 OK\n",
      "Length: 84125825 (80M) [application/x-gzip]\n",
      "Saving to: ‘../data/aclImdb_v1.tar.gz’\n",
      "\n",
      "../data/aclImdb_v1. 100%[===================>]  80.23M  13.2MB/s    in 7.1s    \n",
      "\n",
      "2019-01-05 04:32:24 (11.2 MB/s) - ‘../data/aclImdb_v1.tar.gz’ saved [84125825/84125825]\n",
      "\n"
     ]
    }
   ],
   "source": [
    "%mkdir ../data\n",
    "!wget -O ../data/aclImdb_v1.tar.gz http://ai.stanford.edu/~amaas/data/sentiment/aclImdb_v1.tar.gz\n",
    "!tar -zxf ../data/aclImdb_v1.tar.gz -C ../data"
   ]
  },
  {
   "cell_type": "markdown",
   "metadata": {},
   "source": [
    "## Step 2: Preparing and Processing the data\n",
    "\n",
    "Also, as in the XGBoost notebook, we will be doing some initial data processing. The first few steps are the same as in the XGBoost example. To begin with, we will read in each of the reviews and combine them into a single input structure. Then, we will split the dataset into a training set and a testing set."
   ]
  },
  {
   "cell_type": "code",
   "execution_count": 2,
   "metadata": {},
   "outputs": [],
   "source": [
    "import os\n",
    "import glob\n",
    "\n",
    "def read_imdb_data(data_dir='../data/aclImdb'):\n",
    "    data = {}\n",
    "    labels = {}\n",
    "    \n",
    "    for data_type in ['train', 'test']:\n",
    "        data[data_type] = {}\n",
    "        labels[data_type] = {}\n",
    "        \n",
    "        for sentiment in ['pos', 'neg']:\n",
    "            data[data_type][sentiment] = []\n",
    "            labels[data_type][sentiment] = []\n",
    "            \n",
    "            path = os.path.join(data_dir, data_type, sentiment, '*.txt')\n",
    "            files = glob.glob(path)\n",
    "            \n",
    "            for f in files:\n",
    "                with open(f) as review:\n",
    "                    data[data_type][sentiment].append(review.read())\n",
    "                    # Here we represent a positive review by '1' and a negative review by '0'\n",
    "                    labels[data_type][sentiment].append(1 if sentiment == 'pos' else 0)\n",
    "                    \n",
    "            assert len(data[data_type][sentiment]) == len(labels[data_type][sentiment]), \\\n",
    "                    \"{}/{} data size does not match labels size\".format(data_type, sentiment)\n",
    "                \n",
    "    return data, labels"
   ]
  },
  {
   "cell_type": "code",
   "execution_count": 3,
   "metadata": {},
   "outputs": [
    {
     "name": "stdout",
     "output_type": "stream",
     "text": [
      "IMDB reviews: train = 12500 pos / 12500 neg, test = 12500 pos / 12500 neg\n"
     ]
    }
   ],
   "source": [
    "data, labels = read_imdb_data()\n",
    "print(\"IMDB reviews: train = {} pos / {} neg, test = {} pos / {} neg\".format(\n",
    "            len(data['train']['pos']), len(data['train']['neg']),\n",
    "            len(data['test']['pos']), len(data['test']['neg'])))"
   ]
  },
  {
   "cell_type": "markdown",
   "metadata": {},
   "source": [
    "Now that we've read the raw training and testing data from the downloaded dataset, we will combine the positive and negative reviews and shuffle the resulting records."
   ]
  },
  {
   "cell_type": "code",
   "execution_count": 4,
   "metadata": {},
   "outputs": [],
   "source": [
    "from sklearn.utils import shuffle\n",
    "\n",
    "def prepare_imdb_data(data, labels):\n",
    "    \"\"\"Prepare training and test sets from IMDb movie reviews.\"\"\"\n",
    "    \n",
    "    #Combine positive and negative reviews and labels\n",
    "    data_train = data['train']['pos'] + data['train']['neg']\n",
    "    data_test = data['test']['pos'] + data['test']['neg']\n",
    "    labels_train = labels['train']['pos'] + labels['train']['neg']\n",
    "    labels_test = labels['test']['pos'] + labels['test']['neg']\n",
    "    \n",
    "    #Shuffle reviews and corresponding labels within training and test sets\n",
    "    data_train, labels_train = shuffle(data_train, labels_train)\n",
    "    data_test, labels_test = shuffle(data_test, labels_test)\n",
    "    \n",
    "    # Return a unified training data, test data, training labels, test labets\n",
    "    return data_train, data_test, labels_train, labels_test"
   ]
  },
  {
   "cell_type": "code",
   "execution_count": 5,
   "metadata": {},
   "outputs": [
    {
     "name": "stdout",
     "output_type": "stream",
     "text": [
      "IMDb reviews (combined): train = 25000, test = 25000\n"
     ]
    }
   ],
   "source": [
    "train_X, test_X, train_y, test_y = prepare_imdb_data(data, labels)\n",
    "print(\"IMDb reviews (combined): train = {}, test = {}\".format(len(train_X), len(test_X)))"
   ]
  },
  {
   "cell_type": "markdown",
   "metadata": {},
   "source": [
    "Now that we have our training and testing sets unified and prepared, we should do a quick check and see an example of the data our model will be trained on. This is generally a good idea as it allows you to see how each of the further processing steps affects the reviews and it also ensures that the data has been loaded correctly."
   ]
  },
  {
   "cell_type": "code",
   "execution_count": 6,
   "metadata": {},
   "outputs": [
    {
     "name": "stdout",
     "output_type": "stream",
     "text": [
      "There's nothing particularly original about this story of corrupt unions on one side and the \"chief attorney\" on the other. The stark but unimaginative lighting and photography stems from the fagged out noir cycle. The story could easily have been out of a Warner Brothers drawer with George Raft in the lead. The performances are routine, the direction flat, and even the set dressing perfunctory. (An alley is shown by a single plaster wall of simulated brick. It has one poster on it. The poster says, \"Post No Bills.\") We are introduced to the story and some of the characters by a portentous narrator who informs us that, while most unions work hard and honestly to advance the causes of their members, a few are corrupt. But we don't really get to know much about the unions or how they operate, although I suppose they were fair game after the success of \"On the Waterfront\" a few years earlier. Here they're just a peg to hang the tale on. The real ring leader is a disbarred lawyer who runs things through three or four thugs. The District Attorney (or whatever he is) finds out, like Dana Andrews did in \"Boomerang,\" that the wrong man (Dick Foran) is charged with a murder and he spends the rest of the film almost alone, digging up evidence of Foran's innocence. He gets into fist fights and shoot outs like any inexpensive movie private eye.<br /><br />Brian Keith is the D.A. He's shown some insinuating displays of talent elsewhere, but here he spends most of the time speaking quietly and staring at the floor. Elisha Cook, Jr., is a likable rummy but can't do a good drunk. Beverley Garland is okay but is undermined by the direction, which has her gawking in a night club when she should be furtive. The remainder of the cast would be suitable for a TV series.<br /><br />And nobody is helped by the writing. When a \"B girl\" is about to be shipped by the union mob to the Filippines, someone advises her that she only has to learn a few words of Spanish. \"I only know one word,\" she says, \"Si. Yes.\" The writers have not trusted the audience to know that \"si\" in Spanish means \"yes.\" The plot is clumsy and has holes in it. Keith visits a witness in her flat over a night club. He enters the door and has a gun shoved in his back by a yegg, but he outwits the heavy and knocks him out. Then the orders someone to call the police. The rest of the scene, played out at some length in the night club downstairs, forgets all about the police and they never show up, nor are they expected by anyone.<br /><br />It's nothing to be ashamed of, and some people might enjoy it, but there is similar stuff, better done, elsewhere.\n",
      "0\n"
     ]
    }
   ],
   "source": [
    "print(train_X[100])\n",
    "print(train_y[100])"
   ]
  },
  {
   "cell_type": "markdown",
   "metadata": {},
   "source": [
    "The first step in processing the reviews is to make sure that any html tags that appear should be removed. In addition we wish to tokenize our input, that way words such as *entertained* and *entertaining* are considered the same with regard to sentiment analysis."
   ]
  },
  {
   "cell_type": "code",
   "execution_count": 7,
   "metadata": {},
   "outputs": [],
   "source": [
    "import nltk\n",
    "from nltk.corpus import stopwords\n",
    "from nltk.stem.porter import *\n",
    "\n",
    "import re\n",
    "from bs4 import BeautifulSoup\n",
    "\n",
    "def review_to_words(review):\n",
    "    nltk.download(\"stopwords\", quiet=True)\n",
    "    stemmer = PorterStemmer()\n",
    "    \n",
    "    text = BeautifulSoup(review, \"html.parser\").get_text() # Remove HTML tags\n",
    "    text = re.sub(r\"[^a-zA-Z0-9]\", \" \", text.lower()) # Convert to lower case\n",
    "    words = text.split() # Split string into words\n",
    "    words = [w for w in words if w not in stopwords.words(\"english\")] # Remove stopwords\n",
    "    words = [PorterStemmer().stem(w) for w in words] # stem\n",
    "    \n",
    "    return words"
   ]
  },
  {
   "cell_type": "markdown",
   "metadata": {},
   "source": [
    "The `review_to_words` method defined above uses `BeautifulSoup` to remove any html tags that appear and uses the `nltk` package to tokenize the reviews. As a check to ensure we know how everything is working, try applying `review_to_words` to one of the reviews in the training set."
   ]
  },
  {
   "cell_type": "code",
   "execution_count": 8,
   "metadata": {},
   "outputs": [
    {
     "data": {
      "text/plain": [
       "['noth',\n",
       " 'particularli',\n",
       " 'origin',\n",
       " 'stori',\n",
       " 'corrupt',\n",
       " 'union',\n",
       " 'one',\n",
       " 'side',\n",
       " 'chief',\n",
       " 'attorney',\n",
       " 'stark',\n",
       " 'unimagin',\n",
       " 'light',\n",
       " 'photographi',\n",
       " 'stem',\n",
       " 'fag',\n",
       " 'noir',\n",
       " 'cycl',\n",
       " 'stori',\n",
       " 'could',\n",
       " 'easili',\n",
       " 'warner',\n",
       " 'brother',\n",
       " 'drawer',\n",
       " 'georg',\n",
       " 'raft',\n",
       " 'lead',\n",
       " 'perform',\n",
       " 'routin',\n",
       " 'direct',\n",
       " 'flat',\n",
       " 'even',\n",
       " 'set',\n",
       " 'dress',\n",
       " 'perfunctori',\n",
       " 'alley',\n",
       " 'shown',\n",
       " 'singl',\n",
       " 'plaster',\n",
       " 'wall',\n",
       " 'simul',\n",
       " 'brick',\n",
       " 'one',\n",
       " 'poster',\n",
       " 'poster',\n",
       " 'say',\n",
       " 'post',\n",
       " 'bill',\n",
       " 'introduc',\n",
       " 'stori',\n",
       " 'charact',\n",
       " 'portent',\n",
       " 'narrat',\n",
       " 'inform',\n",
       " 'us',\n",
       " 'union',\n",
       " 'work',\n",
       " 'hard',\n",
       " 'honestli',\n",
       " 'advanc',\n",
       " 'caus',\n",
       " 'member',\n",
       " 'corrupt',\n",
       " 'realli',\n",
       " 'get',\n",
       " 'know',\n",
       " 'much',\n",
       " 'union',\n",
       " 'oper',\n",
       " 'although',\n",
       " 'suppos',\n",
       " 'fair',\n",
       " 'game',\n",
       " 'success',\n",
       " 'waterfront',\n",
       " 'year',\n",
       " 'earlier',\n",
       " 'peg',\n",
       " 'hang',\n",
       " 'tale',\n",
       " 'real',\n",
       " 'ring',\n",
       " 'leader',\n",
       " 'disbar',\n",
       " 'lawyer',\n",
       " 'run',\n",
       " 'thing',\n",
       " 'three',\n",
       " 'four',\n",
       " 'thug',\n",
       " 'district',\n",
       " 'attorney',\n",
       " 'whatev',\n",
       " 'find',\n",
       " 'like',\n",
       " 'dana',\n",
       " 'andrew',\n",
       " 'boomerang',\n",
       " 'wrong',\n",
       " 'man',\n",
       " 'dick',\n",
       " 'foran',\n",
       " 'charg',\n",
       " 'murder',\n",
       " 'spend',\n",
       " 'rest',\n",
       " 'film',\n",
       " 'almost',\n",
       " 'alon',\n",
       " 'dig',\n",
       " 'evid',\n",
       " 'foran',\n",
       " 'innoc',\n",
       " 'get',\n",
       " 'fist',\n",
       " 'fight',\n",
       " 'shoot',\n",
       " 'out',\n",
       " 'like',\n",
       " 'inexpens',\n",
       " 'movi',\n",
       " 'privat',\n",
       " 'eye',\n",
       " 'brian',\n",
       " 'keith',\n",
       " 'shown',\n",
       " 'insinu',\n",
       " 'display',\n",
       " 'talent',\n",
       " 'elsewher',\n",
       " 'spend',\n",
       " 'time',\n",
       " 'speak',\n",
       " 'quietli',\n",
       " 'stare',\n",
       " 'floor',\n",
       " 'elisha',\n",
       " 'cook',\n",
       " 'jr',\n",
       " 'likabl',\n",
       " 'rummi',\n",
       " 'good',\n",
       " 'drunk',\n",
       " 'beverley',\n",
       " 'garland',\n",
       " 'okay',\n",
       " 'undermin',\n",
       " 'direct',\n",
       " 'gawk',\n",
       " 'night',\n",
       " 'club',\n",
       " 'furtiv',\n",
       " 'remaind',\n",
       " 'cast',\n",
       " 'would',\n",
       " 'suitabl',\n",
       " 'tv',\n",
       " 'seri',\n",
       " 'nobodi',\n",
       " 'help',\n",
       " 'write',\n",
       " 'b',\n",
       " 'girl',\n",
       " 'ship',\n",
       " 'union',\n",
       " 'mob',\n",
       " 'filippin',\n",
       " 'someon',\n",
       " 'advis',\n",
       " 'learn',\n",
       " 'word',\n",
       " 'spanish',\n",
       " 'know',\n",
       " 'one',\n",
       " 'word',\n",
       " 'say',\n",
       " 'si',\n",
       " 'ye',\n",
       " 'writer',\n",
       " 'trust',\n",
       " 'audienc',\n",
       " 'know',\n",
       " 'si',\n",
       " 'spanish',\n",
       " 'mean',\n",
       " 'ye',\n",
       " 'plot',\n",
       " 'clumsi',\n",
       " 'hole',\n",
       " 'keith',\n",
       " 'visit',\n",
       " 'wit',\n",
       " 'flat',\n",
       " 'night',\n",
       " 'club',\n",
       " 'enter',\n",
       " 'door',\n",
       " 'gun',\n",
       " 'shove',\n",
       " 'back',\n",
       " 'yegg',\n",
       " 'outwit',\n",
       " 'heavi',\n",
       " 'knock',\n",
       " 'order',\n",
       " 'someon',\n",
       " 'call',\n",
       " 'polic',\n",
       " 'rest',\n",
       " 'scene',\n",
       " 'play',\n",
       " 'length',\n",
       " 'night',\n",
       " 'club',\n",
       " 'downstair',\n",
       " 'forget',\n",
       " 'polic',\n",
       " 'never',\n",
       " 'show',\n",
       " 'expect',\n",
       " 'anyon',\n",
       " 'noth',\n",
       " 'asham',\n",
       " 'peopl',\n",
       " 'might',\n",
       " 'enjoy',\n",
       " 'similar',\n",
       " 'stuff',\n",
       " 'better',\n",
       " 'done',\n",
       " 'elsewher']"
      ]
     },
     "execution_count": 8,
     "metadata": {},
     "output_type": "execute_result"
    }
   ],
   "source": [
    "# TODO: Apply review_to_words to a review (train_X[100] or any other review)\n",
    "review_to_words(train_X[100])"
   ]
  },
  {
   "cell_type": "markdown",
   "metadata": {},
   "source": [
    "**Question:** Above we mentioned that `review_to_words` method removes html formatting and allows us to tokenize the words found in a review, for example, converting *entertained* and *entertaining* into *entertain* so that they are treated as though they are the same word. What else, if anything, does this method do to the input?"
   ]
  },
  {
   "cell_type": "markdown",
   "metadata": {},
   "source": [
    "**Answer:** The function does the following:\n",
    "\n",
    "1. Stemming\n",
    "2. Remove HTML tags\n",
    "3. Convert to lower cases\n",
    "4. Remove stopwords\n",
    "5. Split the strings in to words"
   ]
  },
  {
   "cell_type": "markdown",
   "metadata": {},
   "source": [
    "The method below applies the `review_to_words` method to each of the reviews in the training and testing datasets. In addition it caches the results. This is because performing this processing step can take a long time. This way if you are unable to complete the notebook in the current session, you can come back without needing to process the data a second time."
   ]
  },
  {
   "cell_type": "code",
   "execution_count": 9,
   "metadata": {},
   "outputs": [],
   "source": [
    "import pickle\n",
    "\n",
    "cache_dir = os.path.join(\"../cache\", \"sentiment_analysis\")  # where to store cache files\n",
    "os.makedirs(cache_dir, exist_ok=True)  # ensure cache directory exists\n",
    "\n",
    "def preprocess_data(data_train, data_test, labels_train, labels_test,\n",
    "                    cache_dir=cache_dir, cache_file=\"preprocessed_data.pkl\"):\n",
    "    \"\"\"Convert each review to words; read from cache if available.\"\"\"\n",
    "\n",
    "    # If cache_file is not None, try to read from it first\n",
    "    cache_data = None\n",
    "    if cache_file is not None:\n",
    "        try:\n",
    "            with open(os.path.join(cache_dir, cache_file), \"rb\") as f:\n",
    "                cache_data = pickle.load(f)\n",
    "            print(\"Read preprocessed data from cache file:\", cache_file)\n",
    "        except:\n",
    "            pass  # unable to read from cache, but that's okay\n",
    "    \n",
    "    # If cache is missing, then do the heavy lifting\n",
    "    if cache_data is None:\n",
    "        # Preprocess training and test data to obtain words for each review\n",
    "        #words_train = list(map(review_to_words, data_train))\n",
    "        #words_test = list(map(review_to_words, data_test))\n",
    "        words_train = [review_to_words(review) for review in data_train]\n",
    "        words_test = [review_to_words(review) for review in data_test]\n",
    "        \n",
    "        # Write to cache file for future runs\n",
    "        if cache_file is not None:\n",
    "            cache_data = dict(words_train=words_train, words_test=words_test,\n",
    "                              labels_train=labels_train, labels_test=labels_test)\n",
    "            with open(os.path.join(cache_dir, cache_file), \"wb\") as f:\n",
    "                pickle.dump(cache_data, f)\n",
    "            print(\"Wrote preprocessed data to cache file:\", cache_file)\n",
    "    else:\n",
    "        # Unpack data loaded from cache file\n",
    "        words_train, words_test, labels_train, labels_test = (cache_data['words_train'],\n",
    "                cache_data['words_test'], cache_data['labels_train'], cache_data['labels_test'])\n",
    "    \n",
    "    return words_train, words_test, labels_train, labels_test"
   ]
  },
  {
   "cell_type": "code",
   "execution_count": 10,
   "metadata": {},
   "outputs": [
    {
     "name": "stdout",
     "output_type": "stream",
     "text": [
      "Read preprocessed data from cache file: preprocessed_data.pkl\n"
     ]
    }
   ],
   "source": [
    "# Preprocess data\n",
    "train_X, test_X, train_y, test_y = preprocess_data(train_X, test_X, train_y, test_y)"
   ]
  },
  {
   "cell_type": "markdown",
   "metadata": {},
   "source": [
    "## Transform the data\n",
    "\n",
    "In the XGBoost notebook we transformed the data from its word representation to a bag-of-words feature representation. For the model we are going to construct in this notebook we will construct a feature representation which is very similar. To start, we will represent each word as an integer. Of course, some of the words that appear in the reviews occur very infrequently and so likely don't contain much information for the purposes of sentiment analysis. The way we will deal with this problem is that we will fix the size of our working vocabulary and we will only include the words that appear most frequently. We will then combine all of the infrequent words into a single category and, in our case, we will label it as `1`.\n",
    "\n",
    "Since we will be using a recurrent neural network, it will be convenient if the length of each review is the same. To do this, we will fix a size for our reviews and then pad short reviews with the category 'no word' (which we will label `0`) and truncate long reviews."
   ]
  },
  {
   "cell_type": "markdown",
   "metadata": {},
   "source": [
    "### (TODO) Create a word dictionary\n",
    "\n",
    "To begin with, we need to construct a way to map words that appear in the reviews to integers. Here we fix the size of our vocabulary (including the 'no word' and 'infrequent' categories) to be `5000` but you may wish to change this to see how it affects the model.\n",
    "\n",
    "> **TODO:** Complete the implementation for the `build_dict()` method below. Note that even though the vocab_size is set to `5000`, we only want to construct a mapping for the most frequently appearing `4998` words. This is because we want to reserve the special labels `0` for 'no word' and `1` for 'infrequent word'."
   ]
  },
  {
   "cell_type": "code",
   "execution_count": 11,
   "metadata": {},
   "outputs": [],
   "source": [
    "import numpy as np\n",
    "from collections import Counter\n",
    "\n",
    "\n",
    "def word_counter(data):\n",
    "    \n",
    "    word_count = Counter()\n",
    "    for review in data:\n",
    "        word_count += Counter(review)\n",
    "    \n",
    "    return word_count\n",
    "\n",
    "\n",
    "def build_dict(data, vocab_size = 5000):\n",
    "    \"\"\"Construct and return a dictionary mapping each of the most frequently appearing words to a unique integer.\"\"\"\n",
    "    \n",
    "    # TODO: Determine how often each word appears in `data`. Note that `data` is a list of sentences and that a\n",
    "    #       sentence is a list of words.\n",
    "    \n",
    "    word_count = word_counter(data) # A dict storing the words that appear in the reviews along with how often they occur\n",
    "    \n",
    "    # TODO: Sort the words found in `data` so that sorted_words[0] is the most frequently appearing word and\n",
    "    #       sorted_words[-1] is the least frequently appearing word.\n",
    "    \n",
    "    sorted_words = [k for k, v in word_count.most_common()]\n",
    "    \n",
    "    word_dict = {} # This is what we are building, a dictionary that translates words into integers\n",
    "    for idx, word in enumerate(sorted_words[:vocab_size - 2]): # The -2 is so that we save room for the 'no word'\n",
    "        word_dict[word] = idx + 2                              # 'infrequent' labels\n",
    "        \n",
    "    return word_dict"
   ]
  },
  {
   "cell_type": "code",
   "execution_count": 12,
   "metadata": {},
   "outputs": [],
   "source": [
    "word_dict = build_dict(train_X)"
   ]
  },
  {
   "cell_type": "code",
   "execution_count": 13,
   "metadata": {
    "scrolled": true
   },
   "outputs": [
    {
     "name": "stdout",
     "output_type": "stream",
     "text": [
      "{'movi': 2, 'film': 3, 'one': 4, 'like': 5, 'time': 6, 'good': 7, 'make': 8, 'charact': 9, 'get': 10, 'see': 11, 'watch': 12, 'stori': 13, 'even': 14, 'would': 15, 'realli': 16, 'well': 17, 'scene': 18, 'look': 19, 'show': 20, 'much': 21, 'end': 22, 'peopl': 23, 'bad': 24, 'go': 25, 'great': 26, 'also': 27, 'first': 28, 'love': 29, 'think': 30, 'way': 31, 'act': 32, 'play': 33, 'made': 34, 'thing': 35, 'could': 36, 'know': 37, 'say': 38, 'seem': 39, 'work': 40, 'plot': 41, 'two': 42, 'actor': 43, 'year': 44, 'come': 45, 'mani': 46, 'seen': 47, 'take': 48, 'life': 49, 'want': 50, 'never': 51, 'littl': 52, 'best': 53, 'tri': 54, 'man': 55, 'ever': 56, 'give': 57, 'better': 58, 'still': 59, 'perform': 60, 'find': 61, 'feel': 62, 'part': 63, 'back': 64, 'use': 65, 'someth': 66, 'director': 67, 'actual': 68, 'interest': 69, 'lot': 70, 'real': 71, 'old': 72, 'cast': 73, 'though': 74, 'live': 75, 'star': 76, 'enjoy': 77, 'guy': 78, 'anoth': 79, 'new': 80, 'role': 81, 'noth': 82, '10': 83, 'funni': 84, 'music': 85, 'point': 86, 'start': 87, 'set': 88, 'girl': 89, 'origin': 90, 'day': 91, 'world': 92, 'everi': 93, 'believ': 94, 'turn': 95, 'quit': 96, 'direct': 97, 'us': 98, 'thought': 99, 'fact': 100, 'minut': 101, 'horror': 102, 'kill': 103, 'action': 104, 'comedi': 105, 'pretti': 106, 'young': 107, 'wonder': 108, 'happen': 109, 'around': 110, 'got': 111, 'effect': 112, 'right': 113, 'long': 114, 'howev': 115, 'big': 116, 'line': 117, 'famili': 118, 'enough': 119, 'seri': 120, 'may': 121, 'need': 122, 'fan': 123, 'bit': 124, 'script': 125, 'beauti': 126, 'person': 127, 'becom': 128, 'without': 129, 'must': 130, 'alway': 131, 'friend': 132, 'tell': 133, 'reason': 134, 'saw': 135, 'last': 136, 'final': 137, 'kid': 138, 'almost': 139, 'put': 140, 'least': 141, 'sure': 142, 'done': 143, 'whole': 144, 'place': 145, 'complet': 146, 'kind': 147, 'expect': 148, 'differ': 149, 'shot': 150, 'far': 151, 'mean': 152, 'anyth': 153, 'book': 154, 'laugh': 155, 'might': 156, 'name': 157, 'sinc': 158, 'begin': 159, '2': 160, 'probabl': 161, 'woman': 162, 'help': 163, 'entertain': 164, 'let': 165, 'screen': 166, 'call': 167, 'tv': 168, 'moment': 169, 'away': 170, 'read': 171, 'yet': 172, 'rather': 173, 'worst': 174, 'run': 175, 'fun': 176, 'lead': 177, 'hard': 178, 'audienc': 179, 'idea': 180, 'anyon': 181, 'episod': 182, 'american': 183, 'found': 184, 'appear': 185, 'bore': 186, 'especi': 187, 'although': 188, 'hope': 189, 'keep': 190, 'cours': 191, 'anim': 192, 'job': 193, 'goe': 194, 'move': 195, 'sens': 196, 'version': 197, 'dvd': 198, 'war': 199, 'money': 200, 'someon': 201, 'mind': 202, 'mayb': 203, 'problem': 204, 'true': 205, 'hous': 206, 'everyth': 207, 'nice': 208, 'second': 209, 'rate': 210, 'three': 211, 'night': 212, 'face': 213, 'follow': 214, 'recommend': 215, 'product': 216, 'main': 217, 'worth': 218, 'leav': 219, 'human': 220, 'special': 221, 'excel': 222, 'togeth': 223, 'wast': 224, 'everyon': 225, 'sound': 226, 'john': 227, 'hand': 228, '1': 229, 'father': 230, 'later': 231, 'eye': 232, 'said': 233, 'view': 234, 'instead': 235, 'review': 236, 'boy': 237, 'high': 238, 'hour': 239, 'miss': 240, 'talk': 241, 'classic': 242, 'wife': 243, 'understand': 244, 'left': 245, 'care': 246, 'black': 247, 'death': 248, 'open': 249, 'murder': 250, 'write': 251, 'half': 252, 'head': 253, 'rememb': 254, 'chang': 255, 'viewer': 256, 'fight': 257, 'gener': 258, 'surpris': 259, 'includ': 260, 'short': 261, 'die': 262, 'fall': 263, 'less': 264, 'els': 265, 'entir': 266, 'piec': 267, 'involv': 268, 'pictur': 269, 'simpli': 270, 'home': 271, 'power': 272, 'top': 273, 'total': 274, 'usual': 275, 'budget': 276, 'attempt': 277, 'suppos': 278, 'releas': 279, 'hollywood': 280, 'terribl': 281, 'song': 282, 'men': 283, 'possibl': 284, 'featur': 285, 'portray': 286, 'disappoint': 287, 'poor': 288, '3': 289, 'coupl': 290, 'stupid': 291, 'camera': 292, 'dead': 293, 'wrong': 294, 'low': 295, 'produc': 296, 'either': 297, 'video': 298, 'aw': 299, 'definit': 300, 'except': 301, 'rest': 302, 'given': 303, 'absolut': 304, 'women': 305, 'lack': 306, 'word': 307, 'writer': 308, 'titl': 309, 'talent': 310, 'decid': 311, 'full': 312, 'perfect': 313, 'along': 314, 'style': 315, 'close': 316, 'truli': 317, 'school': 318, 'emot': 319, 'save': 320, 'sex': 321, 'age': 322, 'next': 323, 'bring': 324, 'mr': 325, 'case': 326, 'killer': 327, 'heart': 328, 'comment': 329, 'sort': 330, 'creat': 331, 'perhap': 332, 'came': 333, 'brother': 334, 'sever': 335, 'joke': 336, 'art': 337, 'dialogu': 338, 'game': 339, 'small': 340, 'base': 341, 'flick': 342, 'written': 343, 'sequenc': 344, 'meet': 345, 'earli': 346, 'often': 347, 'other': 348, 'mother': 349, 'develop': 350, 'humor': 351, 'actress': 352, 'consid': 353, 'dark': 354, 'guess': 355, 'amaz': 356, 'unfortun': 357, 'light': 358, 'lost': 359, 'exampl': 360, 'cinema': 361, 'drama': 362, 'ye': 363, 'white': 364, 'experi': 365, 'imagin': 366, 'mention': 367, 'stop': 368, 'natur': 369, 'forc': 370, 'manag': 371, 'felt': 372, 'cut': 373, 'present': 374, 'children': 375, 'fail': 376, 'son': 377, 'support': 378, 'qualiti': 379, 'car': 380, 'ask': 381, 'hit': 382, 'side': 383, 'voic': 384, 'extrem': 385, 'impress': 386, 'evil': 387, 'wors': 388, 'went': 389, 'stand': 390, 'certainli': 391, 'basic': 392, 'oh': 393, 'overal': 394, 'favorit': 395, 'horribl': 396, 'mysteri': 397, 'number': 398, 'type': 399, 'danc': 400, 'wait': 401, 'hero': 402, 'alreadi': 403, '5': 404, 'learn': 405, 'matter': 406, '4': 407, 'michael': 408, 'genr': 409, 'fine': 410, 'despit': 411, 'throughout': 412, 'walk': 413, 'success': 414, 'histori': 415, 'question': 416, 'zombi': 417, 'town': 418, 'realiz': 419, 'relationship': 420, 'past': 421, 'child': 422, 'daughter': 423, 'late': 424, 'b': 425, 'wish': 426, 'credit': 427, 'hate': 428, 'event': 429, 'theme': 430, 'touch': 431, 'citi': 432, 'today': 433, 'sometim': 434, 'behind': 435, 'god': 436, 'twist': 437, 'sit': 438, 'annoy': 439, 'deal': 440, 'stay': 441, 'abl': 442, 'rent': 443, 'pleas': 444, 'edit': 445, 'blood': 446, 'deserv': 447, 'comic': 448, 'anyway': 449, 'appar': 450, 'soon': 451, 'gave': 452, 'etc': 453, 'level': 454, 'slow': 455, 'chanc': 456, 'score': 457, 'bodi': 458, 'brilliant': 459, 'incred': 460, 'figur': 461, 'situat': 462, 'self': 463, 'major': 464, 'stuff': 465, 'decent': 466, 'element': 467, 'dream': 468, 'return': 469, 'obvious': 470, 'order': 471, 'continu': 472, 'pace': 473, 'ridicul': 474, 'happi': 475, 'group': 476, 'add': 477, 'highli': 478, 'thank': 479, 'ladi': 480, 'novel': 481, 'pain': 482, 'speak': 483, 'career': 484, 'shoot': 485, 'strang': 486, 'heard': 487, 'sad': 488, 'husband': 489, 'polic': 490, 'import': 491, 'break': 492, 'took': 493, 'strong': 494, 'cannot': 495, 'robert': 496, 'predict': 497, 'violenc': 498, 'hilari': 499, 'recent': 500, 'countri': 501, 'known': 502, 'particularli': 503, 'pick': 504, 'documentari': 505, 'season': 506, 'critic': 507, 'jame': 508, 'compar': 509, 'obviou': 510, 'alon': 511, 'told': 512, 'state': 513, 'visual': 514, 'rock': 515, 'theater': 516, 'offer': 517, 'exist': 518, 'opinion': 519, 'gore': 520, 'crap': 521, 'hold': 522, 'result': 523, 'room': 524, 'hear': 525, 'realiti': 526, 'clich': 527, 'effort': 528, 'thriller': 529, 'caus': 530, 'explain': 531, 'serious': 532, 'sequel': 533, 'king': 534, 'local': 535, 'ago': 536, 'none': 537, 'hell': 538, 'note': 539, 'allow': 540, 'david': 541, 'sister': 542, 'simpl': 543, 'femal': 544, 'deliv': 545, 'ok': 546, 'class': 547, 'convinc': 548, 'check': 549, 'suspens': 550, 'win': 551, 'oscar': 552, 'buy': 553, 'huge': 554, 'valu': 555, 'sexual': 556, 'cool': 557, 'scari': 558, 'similar': 559, 'excit': 560, 'apart': 561, 'provid': 562, 'exactli': 563, 'avoid': 564, 'shown': 565, 'seriou': 566, 'english': 567, 'whose': 568, 'taken': 569, 'cinematographi': 570, 'shock': 571, 'polit': 572, 'spoiler': 573, 'offic': 574, 'across': 575, 'middl': 576, 'pass': 577, 'street': 578, 'messag': 579, 'charm': 580, 'silli': 581, 'somewhat': 582, 'modern': 583, 'confus': 584, 'filmmak': 585, 'form': 586, 'tale': 587, 'singl': 588, 'jack': 589, 'mostli': 590, 'carri': 591, 'attent': 592, 'william': 593, 'sing': 594, 'five': 595, 'subject': 596, 'prove': 597, 'richard': 598, 'stage': 599, 'team': 600, 'unlik': 601, 'cop': 602, 'georg': 603, 'televis': 604, 'monster': 605, 'earth': 606, 'villain': 607, 'cover': 608, 'pay': 609, 'marri': 610, 'toward': 611, 'build': 612, 'pull': 613, 'parent': 614, 'due': 615, 'fill': 616, 'respect': 617, 'four': 618, 'dialog': 619, 'remind': 620, 'futur': 621, 'typic': 622, 'weak': 623, '7': 624, 'cheap': 625, 'intellig': 626, 'british': 627, 'atmospher': 628, 'clearli': 629, '80': 630, 'non': 631, 'paul': 632, 'dog': 633, '8': 634, 'fast': 635, 'knew': 636, 'artist': 637, 'crime': 638, 'easili': 639, 'escap': 640, 'doubt': 641, 'adult': 642, 'detail': 643, 'date': 644, 'fire': 645, 'romant': 646, 'member': 647, 'drive': 648, 'gun': 649, 'straight': 650, 'fit': 651, 'beyond': 652, 'attack': 653, 'imag': 654, 'upon': 655, 'posit': 656, 'whether': 657, 'fantast': 658, 'peter': 659, 'appreci': 660, 'aspect': 661, 'captur': 662, 'ten': 663, 'plan': 664, 'discov': 665, 'remain': 666, 'period': 667, 'near': 668, 'realist': 669, 'air': 670, 'mark': 671, 'red': 672, 'dull': 673, 'adapt': 674, 'within': 675, 'spend': 676, 'lose': 677, 'color': 678, 'materi': 679, 'chase': 680, 'mari': 681, 'storylin': 682, 'forget': 683, 'bunch': 684, 'clear': 685, 'lee': 686, 'victim': 687, 'nearli': 688, 'box': 689, 'york': 690, 'match': 691, 'inspir': 692, 'finish': 693, 'mess': 694, 'standard': 695, 'easi': 696, 'truth': 697, 'suffer': 698, 'busi': 699, 'dramat': 700, 'space': 701, 'bill': 702, 'western': 703, 'e': 704, 'list': 705, 'battl': 706, 'notic': 707, 'de': 708, 'french': 709, 'ad': 710, '9': 711, 'tom': 712, 'larg': 713, 'among': 714, 'eventu': 715, 'train': 716, 'accept': 717, 'agre': 718, 'soundtrack': 719, 'spirit': 720, 'third': 721, 'teenag': 722, 'soldier': 723, 'adventur': 724, 'suggest': 725, 'sorri': 726, 'famou': 727, 'drug': 728, 'normal': 729, 'babi': 730, 'cri': 731, 'ultim': 732, 'troubl': 733, 'contain': 734, 'certain': 735, 'cultur': 736, 'romanc': 737, 'rare': 738, 'lame': 739, 'somehow': 740, 'mix': 741, 'disney': 742, 'gone': 743, 'cartoon': 744, 'student': 745, 'reveal': 746, 'fear': 747, 'kept': 748, 'suck': 749, 'attract': 750, 'appeal': 751, 'premis': 752, 'design': 753, 'secret': 754, 'greatest': 755, 'shame': 756, 'throw': 757, 'copi': 758, 'scare': 759, 'wit': 760, 'admit': 761, 'america': 762, 'particular': 763, 'relat': 764, 'brought': 765, 'screenplay': 766, 'whatev': 767, 'pure': 768, '70': 769, 'averag': 770, 'harri': 771, 'master': 772, 'describ': 773, 'male': 774, 'treat': 775, '20': 776, 'issu': 777, 'fantasi': 778, 'warn': 779, 'inde': 780, 'forward': 781, 'background': 782, 'project': 783, 'free': 784, 'memor': 785, 'japanes': 786, 'poorli': 787, 'award': 788, 'locat': 789, 'potenti': 790, 'amus': 791, 'struggl': 792, 'weird': 793, 'magic': 794, 'societi': 795, 'okay': 796, 'accent': 797, 'imdb': 798, 'doctor': 799, 'hot': 800, 'water': 801, '30': 802, 'alien': 803, 'dr': 804, 'express': 805, 'odd': 806, 'crazi': 807, 'choic': 808, 'fiction': 809, 'studio': 810, 'becam': 811, 'control': 812, 'masterpiec': 813, 'fli': 814, 'difficult': 815, 'joe': 816, 'scream': 817, 'costum': 818, 'lover': 819, 'refer': 820, 'uniqu': 821, 'remak': 822, 'girlfriend': 823, 'vampir': 824, 'prison': 825, 'execut': 826, 'wear': 827, 'jump': 828, 'wood': 829, 'unless': 830, 'creepi': 831, 'cheesi': 832, 'superb': 833, 'otherwis': 834, 'parti': 835, 'ghost': 836, 'roll': 837, 'public': 838, 'mad': 839, 'depict': 840, 'badli': 841, 'week': 842, 'earlier': 843, 'jane': 844, 'moral': 845, 'fi': 846, 'dumb': 847, 'flaw': 848, 'grow': 849, 'sci': 850, 'deep': 851, 'maker': 852, 'cat': 853, 'connect': 854, 'older': 855, 'footag': 856, 'bother': 857, 'plenti': 858, 'outsid': 859, 'stick': 860, 'gay': 861, 'catch': 862, 'co': 863, 'plu': 864, 'popular': 865, 'equal': 866, 'social': 867, 'quickli': 868, 'disturb': 869, 'perfectli': 870, 'dress': 871, 'era': 872, '90': 873, 'mistak': 874, 'lie': 875, 'ride': 876, 'previou': 877, 'combin': 878, 'concept': 879, 'band': 880, 'surviv': 881, 'rich': 882, 'answer': 883, 'front': 884, 'sweet': 885, 'christma': 886, 'insid': 887, 'concern': 888, 'eat': 889, 'bare': 890, 'listen': 891, 'beat': 892, 'ben': 893, 'c': 894, 'term': 895, 'serv': 896, 'german': 897, 'la': 898, 'meant': 899, 'stereotyp': 900, 'hardli': 901, 'innoc': 902, 'law': 903, 'desper': 904, 'promis': 905, 'memori': 906, 'cute': 907, 'intent': 908, 'steal': 909, 'inform': 910, 'variou': 911, 'brain': 912, 'post': 913, 'tone': 914, 'island': 915, 'amount': 916, 'compani': 917, 'nuditi': 918, 'track': 919, 'claim': 920, 'store': 921, 'flat': 922, 'hair': 923, '50': 924, 'land': 925, 'univers': 926, 'scott': 927, 'fairli': 928, 'kick': 929, 'danger': 930, 'player': 931, 'crew': 932, 'step': 933, 'plain': 934, 'toni': 935, 'share': 936, 'centuri': 937, 'tast': 938, 'achiev': 939, 'engag': 940, 'travel': 941, 'cold': 942, 'rip': 943, 'suit': 944, 'record': 945, 'sadli': 946, 'manner': 947, 'spot': 948, 'tension': 949, 'wrote': 950, 'intens': 951, 'fascin': 952, 'familiar': 953, 'remark': 954, 'burn': 955, 'depth': 956, 'destroy': 957, 'histor': 958, 'sleep': 959, 'purpos': 960, 'languag': 961, 'ruin': 962, 'ignor': 963, 'delight': 964, 'italian': 965, 'unbeliev': 966, 'collect': 967, 'soul': 968, 'abil': 969, 'clever': 970, 'detect': 971, 'violent': 972, 'rape': 973, 'reach': 974, 'door': 975, 'scienc': 976, 'trash': 977, 'liter': 978, 'commun': 979, 'caught': 980, 'reveng': 981, 'creatur': 982, 'approach': 983, 'trip': 984, 'fashion': 985, 'intrigu': 986, 'skill': 987, 'paint': 988, 'introduc': 989, 'complex': 990, 'channel': 991, 'camp': 992, 'christian': 993, 'hole': 994, 'extra': 995, 'mental': 996, 'immedi': 997, 'limit': 998, 'ann': 999, 'slightli': 1000, '6': 1001, 'million': 1002, 'comput': 1003, 'mere': 1004, 'slasher': 1005, 'conclus': 1006, 'imposs': 1007, 'suddenli': 1008, 'teen': 1009, 'neither': 1010, 'crimin': 1011, 'spent': 1012, 'physic': 1013, 'nation': 1014, 'respons': 1015, 'planet': 1016, 'fake': 1017, 'receiv': 1018, 'sick': 1019, 'blue': 1020, 'bizarr': 1021, 'embarrass': 1022, 'indian': 1023, '15': 1024, 'ring': 1025, 'drop': 1026, 'pop': 1027, 'drag': 1028, 'haunt': 1029, 'suspect': 1030, 'pointless': 1031, 'search': 1032, 'edg': 1033, 'handl': 1034, 'common': 1035, 'biggest': 1036, 'hurt': 1037, 'arriv': 1038, 'faith': 1039, 'technic': 1040, 'angel': 1041, 'genuin': 1042, 'dad': 1043, 'solid': 1044, 'awesom': 1045, 'f': 1046, 'van': 1047, 'focu': 1048, 'colleg': 1049, 'former': 1050, 'count': 1051, 'tear': 1052, 'heavi': 1053, 'wall': 1054, 'rais': 1055, 'laughabl': 1056, 'younger': 1057, 'visit': 1058, 'fair': 1059, 'excus': 1060, 'sign': 1061, 'cult': 1062, 'motion': 1063, 'key': 1064, 'tough': 1065, 'super': 1066, 'desir': 1067, 'addit': 1068, 'stun': 1069, 'cloth': 1070, 'exploit': 1071, 'smith': 1072, 'tortur': 1073, 'race': 1074, 'davi': 1075, 'author': 1076, 'cross': 1077, 'jim': 1078, 'compel': 1079, 'focus': 1080, 'minor': 1081, 'consist': 1082, 'pathet': 1083, 'chemistri': 1084, 'commit': 1085, 'park': 1086, 'tradit': 1087, 'obsess': 1088, 'frank': 1089, 'grade': 1090, '60': 1091, 'asid': 1092, 'brutal': 1093, 'somewher': 1094, 'steve': 1095, 'u': 1096, 'rule': 1097, 'depress': 1098, 'explor': 1099, 'opportun': 1100, 'grant': 1101, 'besid': 1102, 'honest': 1103, 'dub': 1104, 'anti': 1105, 'trailer': 1106, 'intend': 1107, 'bar': 1108, 'regard': 1109, 'scientist': 1110, 'west': 1111, 'longer': 1112, 'decad': 1113, 'judg': 1114, 'silent': 1115, 'creativ': 1116, 'armi': 1117, 'wild': 1118, 'g': 1119, 'stewart': 1120, 'south': 1121, 'draw': 1122, 'road': 1123, 'govern': 1124, 'boss': 1125, 'ex': 1126, 'practic': 1127, 'festiv': 1128, 'motiv': 1129, 'gang': 1130, 'club': 1131, 'surprisingli': 1132, 'page': 1133, 'redeem': 1134, 'london': 1135, 'green': 1136, 'display': 1137, 'aliv': 1138, 'idiot': 1139, 'machin': 1140, 'militari': 1141, 'thrill': 1142, 'repeat': 1143, 'folk': 1144, 'nobodi': 1145, '100': 1146, 'yeah': 1147, '40': 1148, 'journey': 1149, 'garbag': 1150, 'smile': 1151, 'ground': 1152, 'tire': 1153, 'mood': 1154, 'bought': 1155, 'cost': 1156, 'stone': 1157, 'sam': 1158, 'mouth': 1159, 'noir': 1160, 'agent': 1161, 'terrif': 1162, 'utterli': 1163, 'requir': 1164, 'sexi': 1165, 'honestli': 1166, 'area': 1167, 'geniu': 1168, 'report': 1169, 'enter': 1170, 'humour': 1171, 'glad': 1172, 'investig': 1173, 'serial': 1174, 'passion': 1175, 'narr': 1176, 'occasion': 1177, 'climax': 1178, 'marriag': 1179, 'industri': 1180, 'studi': 1181, 'ship': 1182, 'center': 1183, 'charli': 1184, 'demon': 1185, 'nowher': 1186, 'bear': 1187, 'loos': 1188, 'hors': 1189, 'wow': 1190, 'hang': 1191, 'graphic': 1192, 'giant': 1193, 'admir': 1194, 'send': 1195, 'damn': 1196, 'loud': 1197, 'rel': 1198, 'profession': 1199, 'nake': 1200, 'subtl': 1201, 'blow': 1202, 'bottom': 1203, 'insult': 1204, 'batman': 1205, 'doubl': 1206, 'boyfriend': 1207, 'r': 1208, 'kelli': 1209, 'initi': 1210, 'frame': 1211, 'opera': 1212, 'gem': 1213, 'affect': 1214, 'cinemat': 1215, 'challeng': 1216, 'drawn': 1217, 'church': 1218, 'seek': 1219, 'j': 1220, 'nightmar': 1221, 'fulli': 1222, 'l': 1223, 'evid': 1224, 'essenti': 1225, 'arm': 1226, 'conflict': 1227, 'grace': 1228, 'henri': 1229, 'wind': 1230, 'christoph': 1231, 'assum': 1232, 'witch': 1233, 'narrat': 1234, 'hunt': 1235, 'push': 1236, 'chri': 1237, 'wise': 1238, 'nomin': 1239, 'repres': 1240, 'month': 1241, 'avail': 1242, 'hide': 1243, 'sceneri': 1244, 'affair': 1245, 'bond': 1246, 'smart': 1247, 'thu': 1248, 'justic': 1249, 'interview': 1250, 'flashback': 1251, 'outstand': 1252, 'presenc': 1253, 'satisfi': 1254, 'constantli': 1255, 'bed': 1256, 'central': 1257, 'iron': 1258, 'sell': 1259, 'content': 1260, 'gag': 1261, 'everybodi': 1262, 'slowli': 1263, 'hotel': 1264, 'hire': 1265, 'system': 1266, 'thrown': 1267, 'hey': 1268, 'individu': 1269, 'adam': 1270, 'charl': 1271, 'jone': 1272, 'allen': 1273, 'mediocr': 1274, 'lesson': 1275, 'ray': 1276, 'billi': 1277, 'cameo': 1278, 'photographi': 1279, 'fellow': 1280, 'pari': 1281, 'strike': 1282, 'brief': 1283, 'absurd': 1284, 'independ': 1285, 'rise': 1286, 'neg': 1287, 'impact': 1288, 'phone': 1289, 'ill': 1290, 'model': 1291, 'born': 1292, 'spoil': 1293, 'fresh': 1294, 'angl': 1295, 'likabl': 1296, 'abus': 1297, 'hill': 1298, 'discuss': 1299, 'sight': 1300, 'ahead': 1301, 'sent': 1302, 'photograph': 1303, 'blame': 1304, 'shine': 1305, 'occur': 1306, 'logic': 1307, 'bruce': 1308, 'mainli': 1309, 'commerci': 1310, 'forev': 1311, 'skip': 1312, 'segment': 1313, 'held': 1314, 'teacher': 1315, 'surround': 1316, 'blond': 1317, 'zero': 1318, 'resembl': 1319, 'satir': 1320, 'trap': 1321, 'summer': 1322, 'fool': 1323, 'ball': 1324, 'six': 1325, 'queen': 1326, 'sub': 1327, 'twice': 1328, 'tragedi': 1329, 'pack': 1330, 'reaction': 1331, 'bomb': 1332, 'hospit': 1333, 'protagonist': 1334, 'will': 1335, 'sport': 1336, 'mile': 1337, 'trust': 1338, 'vote': 1339, 'drink': 1340, 'jerri': 1341, 'mom': 1342, 'encount': 1343, 'plane': 1344, 'station': 1345, 'current': 1346, 'al': 1347, 'program': 1348, 'choos': 1349, 'martin': 1350, 'celebr': 1351, 'join': 1352, 'lord': 1353, 'tragic': 1354, 'field': 1355, 'favourit': 1356, 'round': 1357, 'vision': 1358, 'jean': 1359, 'robot': 1360, 'arthur': 1361, 'tie': 1362, 'fortun': 1363, 'random': 1364, 'roger': 1365, 'intern': 1366, 'dread': 1367, 'psycholog': 1368, 'epic': 1369, 'prefer': 1370, 'nonsens': 1371, 'improv': 1372, 'formula': 1373, 'pleasur': 1374, 'legend': 1375, 'highlight': 1376, '11': 1377, 'tape': 1378, 'dollar': 1379, 'object': 1380, 'thin': 1381, 'wide': 1382, 'fox': 1383, 'gorgeou': 1384, 'porn': 1385, 'ugli': 1386, 'buddi': 1387, 'influenc': 1388, 'nasti': 1389, 'ii': 1390, 'prepar': 1391, 'warm': 1392, 'progress': 1393, 'reflect': 1394, 'supposedli': 1395, 'worthi': 1396, 'youth': 1397, 'unusu': 1398, 'latter': 1399, 'length': 1400, 'crash': 1401, 'shop': 1402, 'seven': 1403, 'superior': 1404, 'childhood': 1405, 'theatr': 1406, 'remot': 1407, 'paid': 1408, 'disgust': 1409, 'pilot': 1410, 'funniest': 1411, 'trick': 1412, 'fell': 1413, 'convers': 1414, 'castl': 1415, 'rob': 1416, 'establish': 1417, 'gangster': 1418, 'disast': 1419, 'mine': 1420, 'suicid': 1421, 'ident': 1422, 'disappear': 1423, 'heaven': 1424, 'tend': 1425, 'forgotten': 1426, 'mask': 1427, 'singer': 1428, 'decis': 1429, 'heroin': 1430, 'brian': 1431, 'partner': 1432, 'alan': 1433, 'desert': 1434, 'recogn': 1435, 'p': 1436, 'thoroughli': 1437, 'sky': 1438, 'stuck': 1439, 'ms': 1440, 'accur': 1441, 'replac': 1442, 'market': 1443, 'seemingli': 1444, 'uncl': 1445, 'andi': 1446, 'commentari': 1447, 'clue': 1448, 'danni': 1449, 'eddi': 1450, 'jackson': 1451, 'devil': 1452, 'therefor': 1453, 'refus': 1454, 'pair': 1455, 'that': 1456, 'fate': 1457, 'unit': 1458, 'river': 1459, 'fault': 1460, 'accid': 1461, 'ed': 1462, 'tune': 1463, 'afraid': 1464, 'stephen': 1465, 'hidden': 1466, 'clean': 1467, 'russian': 1468, 'irrit': 1469, 'instanc': 1470, 'test': 1471, 'captain': 1472, 'convey': 1473, 'quick': 1474, 'readi': 1475, 'european': 1476, 'daniel': 1477, 'frustrat': 1478, 'insan': 1479, 'food': 1480, 'chines': 1481, 'rescu': 1482, 'wed': 1483, '1950': 1484, 'angri': 1485, 'dirti': 1486, 'lock': 1487, 'joy': 1488, 'price': 1489, 'steven': 1490, 'bland': 1491, 'cage': 1492, 'anymor': 1493, 'rang': 1494, 'wooden': 1495, 'n': 1496, 'news': 1497, 'rush': 1498, 'jason': 1499, 'board': 1500, 'martial': 1501, 'twenti': 1502, 'led': 1503, '12': 1504, 'worri': 1505, 'hunter': 1506, 'transform': 1507, 'cgi': 1508, 'symbol': 1509, 'x': 1510, 'johnni': 1511, 'onto': 1512, 'piti': 1513, 'invent': 1514, 'sentiment': 1515, 'process': 1516, 'explan': 1517, 'attitud': 1518, 'owner': 1519, 'awar': 1520, 'aim': 1521, 'favor': 1522, 'floor': 1523, 'energi': 1524, 'necessari': 1525, 'target': 1526, 'opposit': 1527, 'religi': 1528, 'chick': 1529, 'blind': 1530, 'insight': 1531, 'window': 1532, 'movement': 1533, 'mountain': 1534, 'research': 1535, 'comparison': 1536, 'possess': 1537, 'deepli': 1538, 'grand': 1539, 'rain': 1540, 'whatsoev': 1541, 'comed': 1542, 'bank': 1543, 'mid': 1544, 'began': 1545, 'shadow': 1546, 'princ': 1547, 'parodi': 1548, 'friendship': 1549, 'weapon': 1550, 'pre': 1551, 'credibl': 1552, 'taylor': 1553, 'teach': 1554, 'dougla': 1555, 'flesh': 1556, 'protect': 1557, 'bloodi': 1558, 'hint': 1559, 'terror': 1560, 'marvel': 1561, 'accord': 1562, 'superman': 1563, 'drunk': 1564, 'leader': 1565, 'load': 1566, 'anybodi': 1567, 'watchabl': 1568, 'brown': 1569, 'freddi': 1570, 'tim': 1571, 'jeff': 1572, 'seat': 1573, 'appropri': 1574, 'hitler': 1575, 'knock': 1576, 'charg': 1577, 'villag': 1578, 'keaton': 1579, 'unknown': 1580, 'unnecessari': 1581, 'empti': 1582, 'enemi': 1583, 'media': 1584, 'england': 1585, 'utter': 1586, 'craft': 1587, 'wave': 1588, 'perspect': 1589, 'strength': 1590, 'dare': 1591, 'buck': 1592, 'contrast': 1593, 'correct': 1594, 'kiss': 1595, 'nativ': 1596, 'ford': 1597, 'magnific': 1598, 'distract': 1599, 'soap': 1600, 'speed': 1601, 'knowledg': 1602, 'anywher': 1603, 'nazi': 1604, 'chill': 1605, '1980': 1606, 'breath': 1607, 'mission': 1608, 'fred': 1609, 'ice': 1610, 'jr': 1611, 'crowd': 1612, 'joan': 1613, 'moon': 1614, 'soft': 1615, 'frighten': 1616, 'kate': 1617, '000': 1618, 'dick': 1619, 'hundr': 1620, 'nick': 1621, 'dan': 1622, 'somebodi': 1623, 'radio': 1624, 'dozen': 1625, 'simon': 1626, 'andrew': 1627, 'thousand': 1628, 'loss': 1629, 'academi': 1630, 'shakespear': 1631, 'sum': 1632, 'root': 1633, 'account': 1634, 'vehicl': 1635, 'quot': 1636, 'convent': 1637, 'leg': 1638, 'behavior': 1639, '1970': 1640, 'regular': 1641, 'gold': 1642, 'demand': 1643, 'compet': 1644, 'worker': 1645, 'pretenti': 1646, 'explos': 1647, 'privat': 1648, 'candi': 1649, 'notabl': 1650, 'stretch': 1651, 'interpret': 1652, 'japan': 1653, 'lynch': 1654, 'tarzan': 1655, 'debut': 1656, 'constant': 1657, 'sea': 1658, 'prais': 1659, 'spi': 1660, 'translat': 1661, 'revolv': 1662, 'threaten': 1663, 'ass': 1664, 'failur': 1665, 'franc': 1666, 'technolog': 1667, 'quiet': 1668, 'sat': 1669, 'jesu': 1670, 'toy': 1671, 'kevin': 1672, 'aid': 1673, 'higher': 1674, 'met': 1675, 'punch': 1676, 'abandon': 1677, 'interact': 1678, 'mike': 1679, 'vh': 1680, 'confront': 1681, 'separ': 1682, 'command': 1683, 'bet': 1684, 'servic': 1685, 'belong': 1686, 'techniqu': 1687, 'site': 1688, 'stunt': 1689, 'gotten': 1690, 'recal': 1691, 'foot': 1692, 'freak': 1693, 'bug': 1694, 'cabl': 1695, 'fu': 1696, 'bright': 1697, 'capabl': 1698, 'african': 1699, 'jimmi': 1700, 'succeed': 1701, 'fat': 1702, 'presid': 1703, 'stock': 1704, 'boat': 1705, 'clark': 1706, 'structur': 1707, 'gene': 1708, 'spanish': 1709, 'kidnap': 1710, 'paper': 1711, 'factor': 1712, 'whilst': 1713, 'belief': 1714, 'attend': 1715, 'tree': 1716, 'witti': 1717, 'realis': 1718, 'bob': 1719, 'realism': 1720, 'complic': 1721, 'educ': 1722, 'assist': 1723, 'finest': 1724, 'broken': 1725, 'santa': 1726, 'determin': 1727, 'up': 1728, 'depart': 1729, 'smoke': 1730, 'v': 1731, 'observ': 1732, 'lewi': 1733, 'domin': 1734, 'rubbish': 1735, 'oper': 1736, 'hat': 1737, 'routin': 1738, 'fame': 1739, 'safe': 1740, 'hook': 1741, 'kinda': 1742, 'lone': 1743, 'advanc': 1744, 'morgan': 1745, 'foreign': 1746, 'rank': 1747, 'numer': 1748, 'shallow': 1749, 'shape': 1750, 'vs': 1751, 'washington': 1752, 'civil': 1753, 'rose': 1754, 'werewolf': 1755, 'morn': 1756, 'gari': 1757, 'winner': 1758, 'accomplish': 1759, 'ordinari': 1760, 'kong': 1761, 'whenev': 1762, 'virtual': 1763, 'grab': 1764, 'peac': 1765, 'luck': 1766, 'h': 1767, 'offens': 1768, 'bigger': 1769, 'unfunni': 1770, 'patient': 1771, 'welcom': 1772, 'complain': 1773, 'contriv': 1774, 'activ': 1775, 'dimension': 1776, 'trek': 1777, 'con': 1778, 'pretend': 1779, 'flash': 1780, 'wake': 1781, 'code': 1782, 'dri': 1783, 'cain': 1784, 'lesbian': 1785, 'eric': 1786, 'manipul': 1787, 'statu': 1788, 'corrupt': 1789, 'albert': 1790, 'guard': 1791, 'dancer': 1792, 'sourc': 1793, 'context': 1794, 'gain': 1795, 'speech': 1796, 'awkward': 1797, 'signific': 1798, 'anthoni': 1799, 'corni': 1800, 'psycho': 1801, '13': 1802, 'sean': 1803, 'clip': 1804, 'reli': 1805, 'w': 1806, 'advic': 1807, 'religion': 1808, 'theatric': 1809, 'curiou': 1810, 'priest': 1811, 'flow': 1812, 'addict': 1813, 'jennif': 1814, 'howard': 1815, 'specif': 1816, 'asian': 1817, 'secur': 1818, 'skin': 1819, 'luke': 1820, 'comfort': 1821, 'promot': 1822, 'golden': 1823, 'organ': 1824, 'core': 1825, 'cheat': 1826, 'cash': 1827, 'lucki': 1828, 'dislik': 1829, 'lower': 1830, 'associ': 1831, 'devic': 1832, 'degre': 1833, 'spell': 1834, 'contribut': 1835, 'balanc': 1836, 'wing': 1837, 'frequent': 1838, 'frankli': 1839, 'regret': 1840, 'print': 1841, 'sake': 1842, 'forgiv': 1843, 'lake': 1844, 'thoma': 1845, 'betti': 1846, 'mass': 1847, 'unexpect': 1848, 'gordon': 1849, 'crack': 1850, 'unfold': 1851, 'categori': 1852, 'amateur': 1853, 'grown': 1854, 'invit': 1855, 'depend': 1856, 'construct': 1857, 'walter': 1858, 'honor': 1859, 'anna': 1860, 'intellectu': 1861, 'grew': 1862, 'matur': 1863, 'condit': 1864, 'sole': 1865, 'spectacular': 1866, 'sudden': 1867, 'veteran': 1868, 'mirror': 1869, 'meanwhil': 1870, 'overli': 1871, 'card': 1872, 'demonstr': 1873, 'experienc': 1874, 'liner': 1875, 'grip': 1876, 'gift': 1877, 'freedom': 1878, 'robin': 1879, 'subtitl': 1880, 'circumst': 1881, 'crappi': 1882, 'drew': 1883, 'theori': 1884, 'sheriff': 1885, 'colour': 1886, 'section': 1887, 'unabl': 1888, 'brilliantli': 1889, 'oliv': 1890, 'sheer': 1891, 'laughter': 1892, 'path': 1893, 'cook': 1894, 'parker': 1895, 'altern': 1896, 'pile': 1897, 'matt': 1898, 'accident': 1899, 'hall': 1900, 'treatment': 1901, 'lawyer': 1902, 'wander': 1903, 'defin': 1904, 'relief': 1905, 'sinatra': 1906, 'captiv': 1907, 'dragon': 1908, 'hank': 1909, 'moor': 1910, 'gratuit': 1911, 'halloween': 1912, 'kung': 1913, 'jacki': 1914, 'wound': 1915, 'k': 1916, 'broadway': 1917, 'cowboy': 1918, 'unintent': 1919, 'barbara': 1920, 'wayn': 1921, 'spoof': 1922, 'winter': 1923, 'statement': 1924, 'surreal': 1925, 'canadian': 1926, 'compos': 1927, 'cheer': 1928, 'fish': 1929, 'treasur': 1930, 'fare': 1931, 'gonna': 1932, 'unrealist': 1933, 'emerg': 1934, 'woodi': 1935, 'victor': 1936, 'sensit': 1937, 'driven': 1938, 'sympathet': 1939, 'ran': 1940, 'neighbor': 1941, 'expos': 1942, 'overlook': 1943, 'glass': 1944, 'authent': 1945, 'topic': 1946, 'menac': 1947, 'handsom': 1948, 'ancient': 1949, 'gross': 1950, 'michel': 1951, 'chief': 1952, 'pleasant': 1953, 'feet': 1954, 'comedian': 1955, 'built': 1956, 'contemporari': 1957, 'russel': 1958, 'nevertheless': 1959, 'network': 1960, 'stranger': 1961, 'cinderella': 1962, 'earn': 1963, 'endless': 1964, 'blockbust': 1965, 'letter': 1966, 'consider': 1967, 'miser': 1968, 'underr': 1969, 'gori': 1970, 'switch': 1971, 'brook': 1972, 'solv': 1973, 'edward': 1974, 'bullet': 1975, 'virgin': 1976, 'convict': 1977, 'joseph': 1978, 'victoria': 1979, 'scale': 1980, 'cynic': 1981, 'chosen': 1982, 'alex': 1983, '0': 1984, 'scenario': 1985, 'sword': 1986, 'curs': 1987, 'com': 1988, 'outrag': 1989, 'gut': 1990, 'screenwrit': 1991, 'proper': 1992, 'substanc': 1993, 'juli': 1994, 'monkey': 1995, 'wrap': 1996, 'uk': 1997, 'driver': 1998, 'court': 1999, 'par': 2000, 'indic': 2001, 'remov': 2002, 'bird': 2003, 'roy': 2004, 'advertis': 2005, 'loser': 2006, 'rental': 2007, 'inevit': 2008, 'naiv': 2009, 'nanci': 2010, 'grave': 2011, 'consequ': 2012, 'germani': 2013, 'bridg': 2014, 'invis': 2015, 'brave': 2016, 'le': 2017, 'slap': 2018, 'fatal': 2019, 'provok': 2020, 'anger': 2021, 'footbal': 2022, 'ador': 2023, 'loui': 2024, 'anderson': 2025, 'alcohol': 2026, 'chan': 2027, 'willi': 2028, 'ryan': 2029, 'stumbl': 2030, 'professor': 2031, 'sharp': 2032, 'bat': 2033, '1930': 2034, 'patrick': 2035, 'australian': 2036, 'assassin': 2037, 'amateurish': 2038, 'ape': 2039, 'cell': 2040, 'lousi': 2041, 'refresh': 2042, 'eight': 2043, 'saturday': 2044, 'deni': 2045, 'trilog': 2046, 'heck': 2047, 'liber': 2048, 'strongli': 2049, 'sin': 2050, 'vagu': 2051, 'resid': 2052, 'justifi': 2053, 'san': 2054, 'reput': 2055, 'defeat': 2056, 'creator': 2057, 'sympathi': 2058, 'terrifi': 2059, 'indi': 2060, 'mini': 2061, 'expert': 2062, 'endur': 2063, 'task': 2064, 'tediou': 2065, 'prevent': 2066, 'tabl': 2067, 'rival': 2068, 'imit': 2069, 'trial': 2070, 'employ': 2071, 'offend': 2072, 'che': 2073, 'basebal': 2074, 'weekend': 2075, 'max': 2076, 'pitch': 2077, 'dig': 2078, 'fairi': 2079, 'beach': 2080, 'complaint': 2081, 'europ': 2082, 'murphi': 2083, 'format': 2084, 'risk': 2085, 'purchas': 2086, 'glimps': 2087, 'hype': 2088, 'harsh': 2089, 'bite': 2090, 'tini': 2091, 'powel': 2092, 'reminisc': 2093, 'titan': 2094, 'nois': 2095, 'prime': 2096, 'asleep': 2097, 'fals': 2098, 'north': 2099, 'strip': 2100, 'till': 2101, '14': 2102, 'texa': 2103, 'destruct': 2104, 'africa': 2105, 'descript': 2106, 'revel': 2107, 'arrest': 2108, 'uninterest': 2109, 'surfac': 2110, 'spin': 2111, 'excess': 2112, 'semi': 2113, 'sitcom': 2114, 'inner': 2115, 'dinosaur': 2116, 'massiv': 2117, 'controversi': 2118, 'hitchcock': 2119, 'twin': 2120, 'makeup': 2121, 'maintain': 2122, 'argu': 2123, 'ludicr': 2124, 'insist': 2125, 'reject': 2126, 'ideal': 2127, 'melodrama': 2128, 'expens': 2129, 'kim': 2130, 'stare': 2131, 'supernatur': 2132, 'press': 2133, 'host': 2134, 'atroci': 2135, 'columbo': 2136, 'subplot': 2137, 'ala': 2138, 'nail': 2139, 'erot': 2140, 'forest': 2141, 'ga': 2142, 'cant': 2143, 'presum': 2144, 'identifi': 2145, 'dude': 2146, 'notch': 2147, 'character': 2148, 'guest': 2149, 'forgett': 2150, 'method': 2151, 'crude': 2152, 'plagu': 2153, 'closer': 2154, 'landscap': 2155, 'lion': 2156, 'ear': 2157, 'princess': 2158, 'beast': 2159, 'foster': 2160, 'border': 2161, 'storytel': 2162, 'damag': 2163, 'birth': 2164, 'jungl': 2165, 'previous': 2166, 'bound': 2167, 'aunt': 2168, 'urban': 2169, 'accus': 2170, 'pacino': 2171, 'thirti': 2172, 'nude': 2173, 'guid': 2174, 'doll': 2175, 'chose': 2176, 'jess': 2177, 'emma': 2178, 'propaganda': 2179, 'warrior': 2180, 'mate': 2181, '25': 2182, 'mainstream': 2183, 'whoever': 2184, 'pet': 2185, 'poster': 2186, 'size': 2187, 'merit': 2188, 'cooper': 2189, 'latest': 2190, 'deadli': 2191, 'friday': 2192, 'upset': 2193, 'exact': 2194, 'gritti': 2195, 'contest': 2196, 'wilson': 2197, 'settl': 2198, 'sun': 2199, 'ton': 2200, 'buff': 2201, 'contact': 2202, 'popul': 2203, 'warner': 2204, 'blend': 2205, '1990': 2206, 'rough': 2207, 'citizen': 2208, 'corps': 2209, 'pitt': 2210, 'overcom': 2211, 'bu': 2212, 'select': 2213, 'environ': 2214, 'widow': 2215, 'rat': 2216, 'metal': 2217, 'mgm': 2218, 'alic': 2219, 'lift': 2220, 'guilti': 2221, 'particip': 2222, 'revolut': 2223, 'link': 2224, 'ted': 2225, 'matrix': 2226, 'johnson': 2227, 'corpor': 2228, 'afternoon': 2229, 'moron': 2230, 'corner': 2231, '1960': 2232, 'exagger': 2233, 'prostitut': 2234, 'accompani': 2235, 'leagu': 2236, 'multipl': 2237, 'sincer': 2238, 'instal': 2239, 'friendli': 2240, 'clair': 2241, 'doom': 2242, 'hood': 2243, 'holm': 2244, 'advis': 2245, 'junk': 2246, 'irish': 2247, 'string': 2248, 'blah': 2249, 'grim': 2250, 'hip': 2251, 'sunday': 2252, 'lugosi': 2253, 'defend': 2254, 'examin': 2255, 'aka': 2256, 'campi': 2257, 'shut': 2258, 'tight': 2259, 'icon': 2260, 'varieti': 2261, 'confid': 2262, 'shake': 2263, 'pro': 2264, 'rachel': 2265, 'goal': 2266, 'directli': 2267, 'denni': 2268, 'sullivan': 2269, 'medic': 2270, 'attach': 2271, 'mexican': 2272, 'jaw': 2273, 'duke': 2274, 'sentenc': 2275, 'truck': 2276, 'terrorist': 2277, 'vietnam': 2278, 'dean': 2279, 'legendari': 2280, 'courag': 2281, 'breast': 2282, 'sarah': 2283, 'bourn': 2284, 'prior': 2285, 'donald': 2286, 'yell': 2287, 'nose': 2288, 'behav': 2289, 'split': 2290, 'un': 2291, 'hong': 2292, 'proceed': 2293, 'entri': 2294, 'stolen': 2295, 'borrow': 2296, 'swim': 2297, 'jerk': 2298, 'gather': 2299, 'concentr': 2300, 'confess': 2301, 'forth': 2302, 'lifetim': 2303, 'buri': 2304, 'unconvinc': 2305, 'crush': 2306, 'everywher': 2307, 'lip': 2308, 'deliveri': 2309, 'turkey': 2310, 'california': 2311, 'spite': 2312, 'julia': 2313, 'pan': 2314, 'proud': 2315, 'downright': 2316, 'hoffman': 2317, 'flight': 2318, 'offici': 2319, 'quest': 2320, 'freeman': 2321, 'reward': 2322, 'china': 2323, 'sir': 2324, 'betray': 2325, 'encourag': 2326, 'fabul': 2327, 'worthwhil': 2328, 'inept': 2329, 'jon': 2330, 'fade': 2331, 'lazi': 2332, 'sink': 2333, 'jail': 2334, 'notori': 2335, 'susan': 2336, 'teeth': 2337, 'retard': 2338, 'shower': 2339, 'branagh': 2340, 'relev': 2341, 'storm': 2342, 'bag': 2343, 'survivor': 2344, 'bell': 2345, 'lisa': 2346, 'cousin': 2347, 'imageri': 2348, 'trade': 2349, 'facial': 2350, 'toler': 2351, 'finger': 2352, 'summari': 2353, 'tremend': 2354, 'quirki': 2355, 'shark': 2356, 'bride': 2357, 'stab': 2358, 'alright': 2359, 'mexico': 2360, 'hugh': 2361, 'bitter': 2362, 'von': 2363, 'blown': 2364, 'hyster': 2365, 'pose': 2366, 'ha': 2367, 'afterward': 2368, 'ned': 2369, 'christ': 2370, 'bone': 2371, 'cruel': 2372, 'larri': 2373, 'scheme': 2374, 'ron': 2375, 'address': 2376, 'distinct': 2377, 'screw': 2378, 'beg': 2379, 'thumb': 2380, 'feed': 2381, 'tour': 2382, 'pursu': 2383, 'swear': 2384, 'snake': 2385, 'traci': 2386, 'stomach': 2387, 'obscur': 2388, 'occas': 2389, 'raw': 2390, 'chair': 2391, 'photo': 2392, 'mechan': 2393, 'southern': 2394, 'cabin': 2395, 'argument': 2396, 'resist': 2397, 'gruesom': 2398, 'necessarili': 2399, 'heavili': 2400, 'chain': 2401, 'sidney': 2402, 'holiday': 2403, 'render': 2404, 'hardi': 2405, 'understood': 2406, 'philip': 2407, 'indulg': 2408, 'satan': 2409, 'india': 2410, 'racist': 2411, 'integr': 2412, 'stalk': 2413, 'lay': 2414, 'outfit': 2415, 'obnoxi': 2416, 'midnight': 2417, 'belov': 2418, 'forgot': 2419, 'tongu': 2420, 'fourth': 2421, 'pregnant': 2422, 'restor': 2423, 'inhabit': 2424, 'slapstick': 2425, '17': 2426, 'ticket': 2427, 'magazin': 2428, 'deeper': 2429, 'garden': 2430, 'carol': 2431, 'devot': 2432, 'shoe': 2433, 'brad': 2434, 'incid': 2435, 'lincoln': 2436, 'elizabeth': 2437, 'divorc': 2438, 'guarante': 2439, 'underground': 2440, 'benefit': 2441, 'maria': 2442, 'anticip': 2443, 'disbelief': 2444, 'sandler': 2445, 'lili': 2446, 'cring': 2447, 'explod': 2448, 'princip': 2449, 'creation': 2450, 'mildli': 2451, 'slave': 2452, 'capit': 2453, 'bbc': 2454, 'amazingli': 2455, 'greater': 2456, 'halfway': 2457, 'lesli': 2458, 'extraordinari': 2459, 'funnier': 2460, 'introduct': 2461, 'extent': 2462, 'advantag': 2463, 'overwhelm': 2464, 'wreck': 2465, 'tap': 2466, 'enhanc': 2467, 'transfer': 2468, 'text': 2469, 'punish': 2470, 'jessica': 2471, 'dynam': 2472, 'preview': 2473, 'lane': 2474, 'horrif': 2475, 'plant': 2476, 'lo': 2477, 'error': 2478, 'east': 2479, 'deliber': 2480, '2000': 2481, 'ensu': 2482, 'miscast': 2483, 'vincent': 2484, 'miller': 2485, 'basi': 2486, 'vacat': 2487, 'sophist': 2488, 'appli': 2489, 'homosexu': 2490, 'sleazi': 2491, 'bollywood': 2492, 'uncomfort': 2493, 'extend': 2494, 'elev': 2495, 'steel': 2496, 'via': 2497, 'measur': 2498, 'spoken': 2499, 'reed': 2500, 'mansion': 2501, 'blair': 2502, 'goofi': 2503, 'beer': 2504, 'dentist': 2505, 'fix': 2506, 'breathtak': 2507, 'conceiv': 2508, 'daili': 2509, 'mous': 2510, 'assign': 2511, 'stanley': 2512, 'alter': 2513, 'overact': 2514, 'cathol': 2515, 'savag': 2516, 'hippi': 2517, 'melt': 2518, 'properli': 2519, 'subsequ': 2520, 'sacrific': 2521, 'oppos': 2522, 'everyday': 2523, 'inspector': 2524, 'nowaday': 2525, 'succe': 2526, 'burt': 2527, 'carpent': 2528, 'massacr': 2529, 'circl': 2530, 'laura': 2531, 'neck': 2532, 'block': 2533, 'christi': 2534, 'mob': 2535, 'seagal': 2536, 'access': 2537, 'fay': 2538, 'lesser': 2539, 'portrait': 2540, 'concert': 2541, 'pool': 2542, 'grey': 2543, 'fallen': 2544, 'sinist': 2545, 'jake': 2546, 'usa': 2547, 'chees': 2548, 'competit': 2549, 'react': 2550, 'relax': 2551, 'isol': 2552, 'jewish': 2553, 'nonetheless': 2554, 'suitabl': 2555, 'stink': 2556, 'chop': 2557, 'creep': 2558, 'ironi': 2559, '2006': 2560, 'spiritu': 2561, 'nine': 2562, 'lyric': 2563, 'immens': 2564, 'appal': 2565, 'shirt': 2566, 'rage': 2567, 'nut': 2568, 'user': 2569, 'showcas': 2570, 'needless': 2571, 'franchis': 2572, 'reduc': 2573, 'adopt': 2574, 'spring': 2575, 'retir': 2576, 'navi': 2577, 'sold': 2578, 'luci': 2579, 'per': 2580, 'digit': 2581, 'jay': 2582, 'stanwyck': 2583, 'zone': 2584, 'uninspir': 2585, 'bath': 2586, 'bulli': 2587, 'asham': 2588, 'nurs': 2589, 'sutherland': 2590, 'illustr': 2591, '1940': 2592, 'broadcast': 2593, 'amongst': 2594, '2001': 2595, 'upper': 2596, 'oddli': 2597, 'laid': 2598, 'throat': 2599, 'disguis': 2600, 'aspir': 2601, 'stylish': 2602, 'fulfil': 2603, 'brando': 2604, 'baker': 2605, 'nobl': 2606, 'thief': 2607, 'pride': 2608, 'impli': 2609, 'wanna': 2610, 'pound': 2611, '18': 2612, 'em': 2613, 'endear': 2614, 'neighborhood': 2615, 'wwii': 2616, 'diseas': 2617, 'tens': 2618, 'shoulder': 2619, 'coher': 2620, 'dawn': 2621, 'distribut': 2622, 'shift': 2623, 'bett': 2624, 'bo': 2625, 'prop': 2626, 'albeit': 2627, 'rochest': 2628, 'cinematograph': 2629, '16': 2630, 'dinner': 2631, 'rebel': 2632, 'poignant': 2633, 'wash': 2634, 'snow': 2635, 'function': 2636, 'shout': 2637, 'forti': 2638, 'contract': 2639, 'silenc': 2640, 'surf': 2641, 'matthau': 2642, 'knife': 2643, 'height': 2644, 'derek': 2645, 'cancel': 2646, 'mindless': 2647, 'reunion': 2648, 'chuck': 2649, 'internet': 2650, 'instinct': 2651, 'eeri': 2652, 'proof': 2653, 'silver': 2654, 'heat': 2655, 'henc': 2656, 'widmark': 2657, 'elvira': 2658, 'duti': 2659, 'cannib': 2660, 'horrend': 2661, 'spielberg': 2662, 'greatli': 2663, 'incoher': 2664, 'mill': 2665, 'premier': 2666, 'innov': 2667, 'elvi': 2668, 'alik': 2669, 'etern': 2670, 'torn': 2671, 'musician': 2672, 'repetit': 2673, 'neat': 2674, 'glori': 2675, 'absorb': 2676, 'pie': 2677, 'redempt': 2678, 'itali': 2679, 'lovabl': 2680, 'infam': 2681, 'britain': 2682, 'nelson': 2683, 'trite': 2684, 'wealthi': 2685, 'homag': 2686, 'racism': 2687, 'announc': 2688, 'bang': 2689, 'crisi': 2690, 'precis': 2691, 'blank': 2692, 'horrifi': 2693, 'fbi': 2694, 'burton': 2695, 'diamond': 2696, 'parallel': 2697, 'resolut': 2698, 'wilder': 2699, 'ensembl': 2700, 'flop': 2701, 'chaplin': 2702, 'happili': 2703, 'dedic': 2704, 'helen': 2705, 'hammer': 2706, 'pat': 2707, 'streisand': 2708, 'st': 2709, 'factori': 2710, 'carter': 2711, 'broke': 2712, 'plastic': 2713, 'mar': 2714, 'triumph': 2715, 'cube': 2716, 'conclud': 2717, 'oil': 2718, 'disagre': 2719, 'climb': 2720, 'fighter': 2721, 'row': 2722, 'weight': 2723, 'march': 2724, 'rocket': 2725, 'vega': 2726, 'own': 2727, 'chuckl': 2728, 'bush': 2729, 'lust': 2730, 'mst3k': 2731, 'unforgett': 2732, 'kurt': 2733, 'meaning': 2734, 'thug': 2735, 'spare': 2736, 'boot': 2737, 'dane': 2738, 'sensibl': 2739, 'enorm': 2740, 'wherea': 2741, 'dump': 2742, 'luca': 2743, 'adequ': 2744, 'stress': 2745, 'caricatur': 2746, 'butt': 2747, 'fifti': 2748, 'threat': 2749, 'karloff': 2750, 'engin': 2751, 'rap': 2752, 'brand': 2753, 'difficulti': 2754, 'arnold': 2755, 'bobbi': 2756, 'dear': 2757, 'arrog': 2758, 'elabor': 2759, 'polish': 2760, 'ralph': 2761, 'swing': 2762, 'journalist': 2763, 'fest': 2764, 'ego': 2765, 'homeless': 2766, 'barri': 2767, 'secretari': 2768, 'hamlet': 2769, 'flynn': 2770, 'puppet': 2771, 'unbear': 2772, 'spike': 2773, 'resort': 2774, 'tool': 2775, 'arrang': 2776, 'grate': 2777, 'fanci': 2778, 'induc': 2779, 'float': 2780, 'conspiraci': 2781, 'simpson': 2782, 'cruis': 2783, 'tribut': 2784, 'basement': 2785, 'boll': 2786, 'phillip': 2787, 'pig': 2788, 'exercis': 2789, 'muppet': 2790, 'guilt': 2791, 'choreograph': 2792, 'layer': 2793, 'file': 2794, '24': 2795, 'ward': 2796, 'toilet': 2797, 'tower': 2798, 'puzzl': 2799, 'medium': 2800, 'korean': 2801, 'document': 2802, 'editor': 2803, 'stan': 2804, 'item': 2805, 'scarecrow': 2806, 'fianc': 2807, 'babe': 2808, 'ham': 2809, 'slip': 2810, 'transit': 2811, 'librari': 2812, 'persona': 2813, 'minim': 2814, 'assur': 2815, 'glover': 2816, 'larger': 2817, 'inexplic': 2818, 'catherin': 2819, 'denzel': 2820, 'portion': 2821, 'superfici': 2822, 'territori': 2823, 'slaughter': 2824, 'orient': 2825, 'spark': 2826, 'philosoph': 2827, 'doc': 2828, 'jeremi': 2829, 'financi': 2830, 'pg': 2831, 'wolf': 2832, 'owe': 2833, 'curti': 2834, 'sneak': 2835, 'walken': 2836, 'shi': 2837, 'boredom': 2838, 'dorothi': 2839, 'ban': 2840, 'jet': 2841, 'profound': 2842, 'backdrop': 2843, 'whale': 2844, 'cusack': 2845, 'eleph': 2846, 'multi': 2847, 'hudson': 2848, 'ambigu': 2849, 'metaphor': 2850, 'notion': 2851, 'implaus': 2852, 'rave': 2853, '2005': 2854, 'elsewher': 2855, 'stiff': 2856, 'union': 2857, 'hack': 2858, 'viru': 2859, 'gadget': 2860, 'birthday': 2861, 'ultra': 2862, 'slight': 2863, 'superhero': 2864, 'newspap': 2865, 'eva': 2866, 'pad': 2867, 'eastwood': 2868, 'urg': 2869, 'reader': 2870, 'bibl': 2871, 'disc': 2872, 'poison': 2873, 'afford': 2874, 'squar': 2875, 'hawk': 2876, 'canada': 2877, 'deriv': 2878, '1st': 2879, 'lloyd': 2880, 'distanc': 2881, 'charisma': 2882, 'drown': 2883, 'button': 2884, 'essenc': 2885, 'heston': 2886, 'montag': 2887, 'spread': 2888, 'cure': 2889, 'huh': 2890, 'restaur': 2891, 'skit': 2892, 'health': 2893, 'sadist': 2894, 'lab': 2895, 'invest': 2896, 'muslim': 2897, 'fetch': 2898, 'scoobi': 2899, 'dealt': 2900, 'companion': 2901, 'peak': 2902, 'gradual': 2903, 'estat': 2904, 'maniac': 2905, 'godfath': 2906, 'servant': 2907, 'cup': 2908, 'subtleti': 2909, 'countless': 2910, 'alli': 2911, 'gothic': 2912, 'kane': 2913, 'miik': 2914, 'tea': 2915, 'ritter': 2916, 'charismat': 2917, 'briefli': 2918, 'iii': 2919, 'electr': 2920, 'salli': 2921, 'heroic': 2922, 'elect': 2923, 'tender': 2924, 'reel': 2925, 'resourc': 2926, 'toss': 2927, 'bud': 2928, 'ingredi': 2929, 'wannab': 2930, 'grandmoth': 2931, 'admittedli': 2932, 'nuanc': 2933, 'cole': 2934, 'neil': 2935, 'stronger': 2936, 'mild': 2937, 'poverti': 2938, 'punk': 2939, 'shall': 2940, 'dawson': 2941, 'reev': 2942, 'stood': 2943, 'mafia': 2944, 'pit': 2945, 'pauli': 2946, 'label': 2947, 'gate': 2948, 'carrey': 2949, 'kubrick': 2950, 'cox': 2951, 'tag': 2952, 'smash': 2953, 'updat': 2954, 'smooth': 2955, 'useless': 2956, 'assault': 2957, 'outcom': 2958, 'burst': 2959, 'bakshi': 2960, 'astair': 2961, 'ian': 2962, 'fond': 2963, 'cardboard': 2964, 'terri': 2965, 'easier': 2966, 'fist': 2967, 'exchang': 2968, 'rex': 2969, 'samurai': 2970, 'vari': 2971, '2002': 2972, 'coincid': 2973, 'qualifi': 2974, 'melodramat': 2975, 'vulner': 2976, 'sketch': 2977, 'divers': 2978, 'resolv': 2979, 'increasingli': 2980, 'brillianc': 2981, 'conveni': 2982, 'suspend': 2983, 'templ': 2984, 'be': 2985, 'tame': 2986, 'luckili': 2987, 'insert': 2988, 'reynold': 2989, 'scratch': 2990, 'blast': 2991, 'hamilton': 2992, 'seventi': 2993, 'ambiti': 2994, 'soprano': 2995, 'strictli': 2996, 'meat': 2997, 'fisher': 2998, 'pin': 2999, 'farm': 3000, 'gotta': 3001, 'walker': 3002, 'jami': 3003, 'coach': 3004, 'matthew': 3005, 'nuclear': 3006, 'closet': 3007, 'instantli': 3008, 'monk': 3009, 'clock': 3010, 'grasp': 3011, 'recreat': 3012, 'convolut': 3013, 'timeless': 3014, 'discoveri': 3015, 'revers': 3016, 'cave': 3017, 'spooki': 3018, 'kudo': 3019, 'butcher': 3020, 'eccentr': 3021, 'struck': 3022, 'worthless': 3023, 'empir': 3024, 'joey': 3025, 'brosnan': 3026, 'ninja': 3027, 'clown': 3028, 'declar': 3029, 'inconsist': 3030, 'mitchel': 3031, 'gray': 3032, 'fifteen': 3033, 'bleak': 3034, 'sidekick': 3035, 'sloppi': 3036, 'communist': 3037, 'eighti': 3038, 'partli': 3039, 'wipe': 3040, 'evok': 3041, 'miracl': 3042, 'importantli': 3043, 'selfish': 3044, 'seller': 3045, 'pal': 3046, 'norman': 3047, 'cliff': 3048, 'debat': 3049, 'flawless': 3050, 'lifestyl': 3051, 'destin': 3052, 'cheek': 3053, 'chew': 3054, '45': 3055, 'superbl': 3056, 'seed': 3057, 'australia': 3058, 'websit': 3059, 'aforement': 3060, 'farc': 3061, 'enthusiast': 3062, 'ho': 3063, 'psychiatrist': 3064, 'piano': 3065, 'stoog': 3066, 'slice': 3067, 'pressur': 3068, 'dash': 3069, 'wrestl': 3070, 'anni': 3071, 'bash': 3072, 'drivel': 3073, 'emili': 3074, 'regardless': 3075, 'directori': 3076, 'soviet': 3077, 'incompet': 3078, 'dire': 3079, 'splatter': 3080, 'wick': 3081, 'kitchen': 3082, 'abc': 3083, 'akshay': 3084, 'suppli': 3085, 'flower': 3086, 'mann': 3087, 'ken': 3088, 'pleasantli': 3089, 'jar': 3090, 'helicopt': 3091, 'cia': 3092, 'boil': 3093, 'cameron': 3094, 'distant': 3095, 'artifici': 3096, 'cagney': 3097, 'beaten': 3098, 'glow': 3099, 'doo': 3100, 'duo': 3101, 'seduc': 3102, 'dave': 3103, 'increas': 3104, 'curios': 3105, 'chapter': 3106, 'prize': 3107, 'judi': 3108, 'recov': 3109, 'lou': 3110, 'blob': 3111, 'psychot': 3112, 'craig': 3113, 'goldberg': 3114, 'hop': 3115, 'splendid': 3116, 'panic': 3117, 'turner': 3118, 'ranger': 3119, 'glenn': 3120, 'ellen': 3121, 'drunken': 3122, 'eleg': 3123, 'laurel': 3124, 'perri': 3125, 'francisco': 3126, 'favour': 3127, 'web': 3128, 'combat': 3129, 'craven': 3130, 'fx': 3131, 'greek': 3132, 'flip': 3133, 'philosophi': 3134, 'ruth': 3135, 'falk': 3136, 'plausibl': 3137, '20th': 3138, 'graduat': 3139, 'min': 3140, 'wizard': 3141, 'shortli': 3142, 'alexand': 3143, 'rid': 3144, 'gentl': 3145, 'hatr': 3146, 'slightest': 3147, 'modesti': 3148, 'gandhi': 3149, 'harm': 3150, 'tall': 3151, 'holi': 3152, 'dracula': 3153, 'felix': 3154, 'unpleas': 3155, 'manhattan': 3156, 'preciou': 3157, 'we': 3158, 'jealou': 3159, 'fund': 3160, 'lend': 3161, 'futurist': 3162, 'ocean': 3163, 'legal': 3164, 'knight': 3165, 'digniti': 3166, 'mock': 3167, 'ami': 3168, 'childish': 3169, 'bless': 3170, 'tank': 3171, 'scientif': 3172, 'explicit': 3173, 'thread': 3174, 'reviv': 3175, 'nod': 3176, 'forbidden': 3177, 'overdon': 3178, 'giallo': 3179, 'mel': 3180, 'thick': 3181, 'unwatch': 3182, 'verhoeven': 3183, 'nerv': 3184, 'margaret': 3185, '2004': 3186, 'awaken': 3187, 'repeatedli': 3188, 'pirat': 3189, '99': 3190, 'yesterday': 3191, 'broad': 3192, 'awe': 3193, 'elderli': 3194, 'torment': 3195, 'fever': 3196, 'eve': 3197, 'acclaim': 3198, 'roman': 3199, 'automat': 3200, 'griffith': 3201, 'launch': 3202, 'lean': 3203, 'rivet': 3204, 'uniform': 3205, 'kay': 3206, 'stiller': 3207, 'publish': 3208, 'timothi': 3209, 'eas': 3210, 'romero': 3211, 'bin': 3212, 'politician': 3213, 'absenc': 3214, 'ambit': 3215, 'custom': 3216, 'ah': 3217, 'royal': 3218, 'termin': 3219, 'sunshin': 3220, 'purpl': 3221, 'transport': 3222, 'foul': 3223, 'antic': 3224, 'phrase': 3225, 'darker': 3226, 'wallac': 3227, 'homicid': 3228, 'tomato': 3229, 'gabriel': 3230, 'bathroom': 3231, 'stinker': 3232, 'warren': 3233, 'pulp': 3234, 'pierc': 3235, 'crook': 3236, 'brazil': 3237, 'choreographi': 3238, 'packag': 3239, 'hollow': 3240, 'viciou': 3241, 'rambo': 3242, 'kenneth': 3243, 'prom': 3244, 'donna': 3245, '2003': 3246, 'marin': 3247, 'awak': 3248, 'revolutionari': 3249, 'evolv': 3250, 'horrid': 3251, 'juvenil': 3252, 'ought': 3253, 'pray': 3254, 'saint': 3255, 'coloni': 3256, 'eyr': 3257, 'sixti': 3258, 'contrari': 3259, 'li': 3260, 'album': 3261, 'karen': 3262, 'q': 3263, 'blade': 3264, 'overr': 3265, 'defi': 3266, 'ireland': 3267, 'twelv': 3268, 'mummi': 3269, 'candid': 3270, 'option': 3271, 'mildr': 3272, 'nerd': 3273, 'conserv': 3274, 'beatti': 3275, 'boast': 3276, 'ramon': 3277, 'stole': 3278, 'kapoor': 3279, 'dose': 3280, 'detract': 3281, 'collabor': 3282, 'natali': 3283, 'global': 3284, 'flame': 3285, 'confirm': 3286, 'jazz': 3287, 'astonish': 3288, 'altman': 3289, 'funer': 3290, 'trio': 3291, 'fulci': 3292, 'protest': 3293, 'kirk': 3294, 'racial': 3295, 'audio': 3296, 'delici': 3297, 'spit': 3298, 'nicholson': 3299, 'blake': 3300, 'bull': 3301, 'tommi': 3302, 'yellow': 3303, 'bottl': 3304, 'whip': 3305, 'mystic': 3306, 'shade': 3307, 'enterpris': 3308, 'leap': 3309, 'destini': 3310, 'todd': 3311, 'harder': 3312, 'reunit': 3313, 'visibl': 3314, 'popcorn': 3315, 'neo': 3316, 'altogeth': 3317, 'pseudo': 3318, 'vivid': 3319, 'adolesc': 3320, 'enchant': 3321, 'staff': 3322, 'inherit': 3323, 'threw': 3324, 'meaningless': 3325, 'merci': 3326, 'bedroom': 3327, 'swedish': 3328, 'fonda': 3329, 'ruthless': 3330, 'uneven': 3331, 'decor': 3332, 'crocodil': 3333, 'voight': 3334, 'atlanti': 3335, 'fanat': 3336, 'tip': 3337, 'bust': 3338, 'respond': 3339, 'madonna': 3340, 'lawrenc': 3341, 'jew': 3342, 'await': 3343, 'synopsi': 3344, 'edi': 3345, 'kennedi': 3346, 'lemmon': 3347, 'exhibit': 3348, 'suspici': 3349, 'roommat': 3350, 'reserv': 3351, 'moodi': 3352, 'wire': 3353, 'befriend': 3354, 'leonard': 3355, 'clumsi': 3356, 'dimens': 3357, 'clint': 3358, 'rural': 3359, 'carl': 3360, '2007': 3361, 'holli': 3362, 'palma': 3363, 'incident': 3364, 'garner': 3365, 'centr': 3366, 'audit': 3367, 'chao': 3368, 'bold': 3369, 'ventur': 3370, 'bargain': 3371, 'unsettl': 3372, 'abysm': 3373, 'bradi': 3374, 'voyag': 3375, 'immigr': 3376, 'mall': 3377, 'versu': 3378, 'cd': 3379, 'imperson': 3380, 'trail': 3381, 'troop': 3382, 'neglect': 3383, 'acknowledg': 3384, 'wealth': 3385, 'poetic': 3386, '2nd': 3387, 'echo': 3388, 'daddi': 3389, 'lit': 3390, 'cari': 3391, 'characterist': 3392, 'cuba': 3393, 'timon': 3394, 'nearbi': 3395, 'ant': 3396, 'tiger': 3397, 'humili': 3398, 'hart': 3399, 'elimin': 3400, 'infect': 3401, 'jeffrey': 3402, 'paus': 3403, 'pun': 3404, 'solo': 3405, 'mistaken': 3406, 'homer': 3407, 'marshal': 3408, 'celluloid': 3409, 'repuls': 3410, 'prejudic': 3411, 'domest': 3412, 'collaps': 3413, 'mickey': 3414, 'saga': 3415, 'coat': 3416, 'hbo': 3417, 'undoubtedli': 3418, 'cake': 3419, 'gear': 3420, 'inappropri': 3421, 'pant': 3422, 'promin': 3423, 'apolog': 3424, 'chest': 3425, '1996': 3426, 'coffe': 3427, 'harvey': 3428, 'milk': 3429, 'equip': 3430, 'sore': 3431, 'leon': 3432, 'inan': 3433, 'interrupt': 3434, 'olivi': 3435, 'ginger': 3436, 'tribe': 3437, 'assembl': 3438, 'polanski': 3439, 'pen': 3440, 'instant': 3441, 'solut': 3442, 'florida': 3443, 'aveng': 3444, 'furthermor': 3445, 'devast': 3446, 'colonel': 3447, 'exot': 3448, 'retain': 3449, 'humbl': 3450, 'colleagu': 3451, 'consum': 3452, 'airplan': 3453, 'vulgar': 3454, 'maggi': 3455, 'brooklyn': 3456, 'jenni': 3457, 'embrac': 3458, 'trace': 3459, 'pot': 3460, 'highest': 3461, 'institut': 3462, 'primari': 3463, 'linda': 3464, 'disabl': 3465, 'dian': 3466, 'poke': 3467, 'descend': 3468, 'smaller': 3469, 'dutch': 3470, 'strain': 3471, 'seduct': 3472, 'sale': 3473, 'gender': 3474, 'bowl': 3475, 'principl': 3476, 'wive': 3477, 'cope': 3478, 'ya': 3479, 'rick': 3480, 'illog': 3481, '1999': 3482, 'godzilla': 3483, '3rd': 3484, 'outer': 3485, 'inferior': 3486, 'lol': 3487, 'dud': 3488, 'scope': 3489, 'devoid': 3490, 'dive': 3491, 'rabbit': 3492, 'cue': 3493, 'secondli': 3494, 'bubbl': 3495, 'primarili': 3496, 'gundam': 3497, 'blatant': 3498, 'vast': 3499, 'predecessor': 3500, 'glamor': 3501, 'mixtur': 3502, 'beneath': 3503, 'yard': 3504, 'hal': 3505, 'gloriou': 3506, 'domino': 3507, 'et': 3508, 'disjoint': 3509, 'alfr': 3510, 'breed': 3511, 'simplist': 3512, 'streep': 3513, 'z': 3514, 'hideou': 3515, 'aggress': 3516, 'shelf': 3517, 'invas': 3518, 'talki': 3519, 'arab': 3520, 'shirley': 3521, 'casual': 3522, 'senseless': 3523, 'myer': 3524, 'countrysid': 3525, 'april': 3526, 'museum': 3527, 'pearl': 3528, 'trademark': 3529, 'alert': 3530, 'garbo': 3531, 'grinch': 3532, 'stir': 3533, 'acid': 3534, 'boom': 3535, 'obtain': 3536, 'unhappi': 3537, 'slide': 3538, 'applaud': 3539, 'experiment': 3540, 'uwe': 3541, 'hopeless': 3542, 'oz': 3543, 'vanish': 3544, 'mail': 3545, 'robberi': 3546, 'robinson': 3547, 'rendit': 3548, 'illeg': 3549, 'defens': 3550, 'khan': 3551, 'mayor': 3552, 'hardcor': 3553, 'maci': 3554, 'loyal': 3555, 'disgrac': 3556, 'sh': 3557, 'stellar': 3558, 'stack': 3559, 'dismiss': 3560, 'soccer': 3561, 'tenant': 3562, 'hartley': 3563, 'span': 3564, 'amanda': 3565, 'incomprehens': 3566, 'blew': 3567, 'spider': 3568, 'berlin': 3569, 'declin': 3570, 'counter': 3571, 'wont': 3572, 'craze': 3573, 'scroog': 3574, 'psychic': 3575, 'tempt': 3576, 'topless': 3577, 'rifl': 3578, 'dicken': 3579, 'diana': 3580, 'grandfath': 3581, 'fri': 3582, 'recruit': 3583, 'emphasi': 3584, 'woo': 3585, 'ethnic': 3586, 'shaw': 3587, 'wet': 3588, 'sympath': 3589, 'justin': 3590, 'parad': 3591, 'lumet': 3592, 'trashi': 3593, 'revolt': 3594, 'ration': 3595, 'riot': 3596, 'porno': 3597, 'bitch': 3598, 'goer': 3599, 'sibl': 3600, 'shed': 3601, 'faster': 3602, 'niro': 3603, 'resurrect': 3604, 'intim': 3605, 'weakest': 3606, 'wheel': 3607, 'feminist': 3608, 'nephew': 3609, 'slick': 3610, 'gap': 3611, 'jonathan': 3612, 'wendi': 3613, 'honesti': 3614, 'farmer': 3615, '00': 3616, 'immort': 3617, 'ensur': 3618, 'hesit': 3619, 'biographi': 3620, 'patriot': 3621, 'lena': 3622, 'choru': 3623, 'commend': 3624, 'andr': 3625, 'mario': 3626, 'rider': 3627, 'hopper': 3628, 'unreal': 3629, 'ballet': 3630, 'partial': 3631, 'eager': 3632, 'dealer': 3633, 'enlighten': 3634, 'worm': 3635, 'steam': 3636, 'region': 3637, 'mutant': 3638, 'leo': 3639, 'psychopath': 3640, 'kingdom': 3641, 'victori': 3642, 'nostalg': 3643, 'hung': 3644, 'owen': 3645, 'util': 3646, 'vice': 3647, 'sappi': 3648, 'wore': 3649, 'similarli': 3650, 'charlott': 3651, 'repress': 3652, 'morri': 3653, 'blunt': 3654, 'snap': 3655, 'confin': 3656, 'safeti': 3657, 'composit': 3658, 'skull': 3659, 'properti': 3660, 'sandra': 3661, 'prequel': 3662, 'franco': 3663, 'macarthur': 3664, 'acquir': 3665, 'pattern': 3666, 'latin': 3667, 'dust': 3668, 'bergman': 3669, 'compens': 3670, 'farrel': 3671, 'bonu': 3672, 'tad': 3673, 'whoopi': 3674, 'thru': 3675, 'heartbreak': 3676, 'rope': 3677, 'valuabl': 3678, 'tail': 3679, 'repli': 3680, 'despair': 3681, 'nervou': 3682, 'rambl': 3683, 'speci': 3684, 'drain': 3685, 'rocki': 3686, 'hyde': 3687, '1972': 3688, 'bow': 3689, 'miseri': 3690, 'emperor': 3691, 'deed': 3692, 'snl': 3693, 'dalton': 3694, 'compass': 3695, 'bumbl': 3696, 'drum': 3697, 'del': 3698, 'recycl': 3699, 'exit': 3700, 'montana': 3701, 'campbel': 3702, 'strand': 3703, 'kyle': 3704, 'cg': 3705, 'roth': 3706, 'rotten': 3707, 'gimmick': 3708, 'percept': 3709, 'mistress': 3710, 'contempl': 3711, 'olli': 3712, 'rapist': 3713, 'bleed': 3714, 'carradin': 3715, 'orson': 3716, 'da': 3717, 'airport': 3718, 'romp': 3719, 'radic': 3720, 'oppress': 3721, 'pour': 3722, 'martian': 3723, 'wacki': 3724, 'slug': 3725, 'tonight': 3726, 'gal': 3727, 'downhil': 3728, 'chess': 3729, '35': 3730, 'taught': 3731, 'mislead': 3732, '1983': 3733, 'arguabl': 3734, 'programm': 3735, 'tooth': 3736, 'dazzl': 3737, 'heal': 3738, 'pursuit': 3739, 'champion': 3740, 'arc': 3741, 'stilt': 3742, 'shelley': 3743, 'attorney': 3744, 'banal': 3745, 'melodi': 3746, 'belt': 3747, 'pervers': 3748, 'unpredict': 3749, 'tackl': 3750, 'paltrow': 3751, 'preach': 3752, 'edgar': 3753, 'pervert': 3754, 'slash': 3755, 'graham': 3756, 'passeng': 3757, 'vocal': 3758, 'vengeanc': 3759, 'plight': 3760, 'rubi': 3761, 'chicken': 3762, 'employe': 3763, 'virginia': 3764, 'bela': 3765, 'sensat': 3766, 'uplift': 3767, 'orang': 3768, 'poem': 3769, 'mesmer': 3770, 'duval': 3771, 'maid': 3772, 'cleverli': 3773, 'conneri': 3774, 'tiresom': 3775, 'gambl': 3776, 'raymond': 3777, 'franki': 3778, 'marti': 3779, 'dixon': 3780, 'closest': 3781, 'scottish': 3782, 'inject': 3783, 'climact': 3784, 'whine': 3785, 'secretli': 3786, 'suffic': 3787, 'clone': 3788, 'swallow': 3789, 'amitabh': 3790, 'convincingli': 3791, 'bay': 3792, 'volum': 3793, 'paranoia': 3794, 'quarter': 3795, 'crystal': 3796, 'pokemon': 3797, 'lundgren': 3798, 'calm': 3799, 'mute': 3800, 'numb': 3801, 'tube': 3802, 'giggl': 3803, 'engross': 3804, 'outing': 3805, 'extens': 3806, 'gerard': 3807, 'yawn': 3808, 'iran': 3809, 'monologu': 3810, 'habit': 3811, 'abraham': 3812, '1968': 3813, 'profan': 3814, 'sirk': 3815, 'bend': 3816, 'backward': 3817, 'grotesqu': 3818, 'chicago': 3819, 'surpass': 3820, 'linger': 3821, 'expand': 3822, 'frankenstein': 3823, 'im': 3824, 'meander': 3825, 'dispos': 3826, 'fed': 3827, 'ethan': 3828, 'underst': 3829, 'trend': 3830, 'abort': 3831, 'poetri': 3832, 'taxi': 3833, 'profess': 3834, 'earl': 3835, 'septemb': 3836, 'plod': 3837, 'austen': 3838, 'junior': 3839, 'lowest': 3840, 'nichola': 3841, 'franci': 3842, 'richardson': 3843, 'spock': 3844, 'greedi': 3845, 'descent': 3846, 'stallon': 3847, 'nostalgia': 3848, 'sue': 3849, 'hum': 3850, 'instrument': 3851, 'spoke': 3852, 'mundan': 3853, 'cannon': 3854, 'literatur': 3855, 'muddl': 3856, 'household': 3857, 'tourist': 3858, 'waitress': 3859, 'simplic': 3860, 'der': 3861, 'rubber': 3862, 'dysfunct': 3863, 'rant': 3864, 'compliment': 3865, 'myth': 3866, 'lure': 3867, 'econom': 3868, 'catchi': 3869, 'eugen': 3870, 'lang': 3871, 'randi': 3872, 'firstli': 3873, 'cent': 3874, 'alongsid': 3875, 'dement': 3876, 'mankind': 3877, 'phantom': 3878, 'equival': 3879, 'furi': 3880, 'coast': 3881, 'recognis': 3882, 'june': 3883, 'recognit': 3884, 'crucial': 3885, 'duck': 3886, 'molli': 3887, 'irrelev': 3888, 'sissi': 3889, 'bacal': 3890, 'insur': 3891, 'flee': 3892, 'phoni': 3893, 'map': 3894, 'occupi': 3895, 'mortal': 3896, 'stale': 3897, 'eaten': 3898, 'hello': 3899, 'damon': 3900, 'carel': 3901, 'deaf': 3902, 'omen': 3903, 'louis': 3904, 'dictat': 3905, 'onlin': 3906, 'lengthi': 3907, 'daisi': 3908, 'reign': 3909, 'drake': 3910, 'twilight': 3911, 'labor': 3912, 'cyborg': 3913, 'loyalti': 3914, 'likewis': 3915, 'blackmail': 3916, 'antwon': 3917, 'distinguish': 3918, 'biko': 3919, 'rude': 3920, 'freez': 3921, 'wisdom': 3922, 'dreari': 3923, 'buffalo': 3924, 'heel': 3925, 'bump': 3926, 'damm': 3927, 'rooney': 3928, 'grayson': 3929, 'newli': 3930, '1973': 3931, 'ashley': 3932, 'bike': 3933, 'vein': 3934, 'unorigin': 3935, 'approv': 3936, 'interior': 3937, 'chronicl': 3938, 'keith': 3939, 'attribut': 3940, 'baddi': 3941, 'tunnel': 3942, 'inher': 3943, 'basketbal': 3944, 'pink': 3945, 'incorpor': 3946, 'butler': 3947, 'emphas': 3948, 'proce': 3949, 'prey': 3950, 'worn': 3951, 'provoc': 3952, 'barrymor': 3953, 'ridden': 3954, 'nineti': 3955, 'startl': 3956, 'exposur': 3957, 'analysi': 3958, 'sailor': 3959, 'boxer': 3960, 'fleet': 3961, 'mighti': 3962, 'predat': 3963, 'stalker': 3964, 'indiffer': 3965, 'drift': 3966, 'improvis': 3967, 'undeni': 3968, 'robbin': 3969, 'mormon': 3970, 'degrad': 3971, 'condemn': 3972, 'bunni': 3973, 'belushi': 3974, 'underli': 3975, 'hypnot': 3976, 'millionair': 3977, 'substitut': 3978, 'meg': 3979, 'nicol': 3980, 'carla': 3981, 'meyer': 3982, 'er': 3983, 'walsh': 3984, 'simmon': 3985, 'elm': 3986, 'barrel': 3987, 'unrel': 3988, 'othello': 3989, 'julian': 3990, 'lampoon': 3991, 'marion': 3992, 'nyc': 3993, 'unawar': 3994, 'warmth': 3995, 'reid': 3996, 'greed': 3997, 'rukh': 3998, 'mtv': 3999, 'vital': 4000, 'edgi': 4001, 'exquisit': 4002, 'firm': 4003, 'dolph': 4004, 'palac': 4005, 'roof': 4006, 'alarm': 4007, 'watson': 4008, 'hay': 4009, '3d': 4010, 'priceless': 4011, 'disord': 4012, 'novak': 4013, 'shove': 4014, 'alison': 4015, 'enthusiasm': 4016, 'errol': 4017, 'agenda': 4018, 'gestur': 4019, 'minimum': 4020, 'campaign': 4021, 'testament': 4022, 'unleash': 4023, 'session': 4024, 'randomli': 4025, '13th': 4026, 'profit': 4027, 'what': 4028, 'israel': 4029, 'spain': 4030, 'coup': 4031, 'petti': 4032, 'pamela': 4033, 'drip': 4034, 'nun': 4035, 'beatl': 4036, 'ponder': 4037, 'peril': 4038, 'glanc': 4039, 'orlean': 4040, 'distort': 4041, 'crown': 4042, 'simultan': 4043, 'showdown': 4044, 'cassidi': 4045, 'thompson': 4046, 'sergeant': 4047, 'eastern': 4048, 'angela': 4049, '1933': 4050, 'peck': 4051, 'iraq': 4052, 'championship': 4053, 'preserv': 4054, 'zizek': 4055, 'valentin': 4056, 'wig': 4057, 'crow': 4058, 'scotland': 4059, 'stake': 4060, 'quinn': 4061, 'cooki': 4062, 'empathi': 4063, 'mon': 4064, 'contradict': 4065, 'climat': 4066, 'perpetu': 4067, 'brenda': 4068, '1984': 4069, 'valley': 4070, 'bro': 4071, 'shootout': 4072, 'stroke': 4073, 'gentleman': 4074, 'crawl': 4075, 'unimagin': 4076, 'din': 4077, 'cream': 4078, 'fido': 4079, 'jan': 4080, 'buster': 4081, 'restrain': 4082, 'han': 4083, 'rout': 4084, 'reson': 4085, 'realm': 4086, 'kurosawa': 4087, 'exposit': 4088, 'travesti': 4089, 'represent': 4090, 'regist': 4091, 'sabrina': 4092, 'calib': 4093, 'miyazaki': 4094, 'cloud': 4095, 'abomin': 4096, 'perceiv': 4097, 'monoton': 4098, 'meryl': 4099, '1997': 4100, 'stargat': 4101, 'geek': 4102, 'crawford': 4103, 'unsatisfi': 4104, 'censor': 4105, 'delic': 4106, 'greg': 4107, 'painter': 4108, 'compromis': 4109, 'shaki': 4110, 'spacey': 4111, 'mclaglen': 4112, 'pole': 4113, 'sucker': 4114, 'pretens': 4115, 'femm': 4116, 'businessman': 4117, 'warrant': 4118, 'wax': 4119, 'josh': 4120, 'absent': 4121, 'unseen': 4122, 'derang': 4123, 'distress': 4124, 'tacki': 4125, 'ross': 4126, 'soderbergh': 4127, 'shoddi': 4128, 'baldwin': 4129, 'sammi': 4130, 'fuller': 4131, 'darren': 4132, 'passabl': 4133, 'demis': 4134, 'ustinov': 4135, 'dana': 4136, 'traumat': 4137, '1987': 4138, 'expedit': 4139, 'tech': 4140, 'dee': 4141, 'judgment': 4142, 'fenc': 4143, 'unravel': 4144, 'valid': 4145, 'nathan': 4146, 'deniro': 4147, 'primit': 4148, 'tarantino': 4149, 'exclus': 4150, 'verbal': 4151, 'sid': 4152, 'clash': 4153, 'accuraci': 4154, 'seal': 4155, 'uncov': 4156, 'norm': 4157, 'antonioni': 4158, 'deceas': 4159, 'anchor': 4160, 'reluct': 4161, '1993': 4162, 'polici': 4163, 'austin': 4164, 'jewel': 4165, 'fog': 4166, 'click': 4167, 'correctli': 4168, 'wholli': 4169, 'furiou': 4170, 'kumar': 4171, 'temper': 4172, 'enforc': 4173, 'sheet': 4174, 'patienc': 4175, 'murray': 4176, '2008': 4177, 'seldom': 4178, 'unfair': 4179, 'sunni': 4180, 'sand': 4181, '3000': 4182, 'debt': 4183, 'joel': 4184, 'alec': 4185, 'fabric': 4186, 'crippl': 4187, 'pocket': 4188, 'clerk': 4189, 'wang': 4190, 'sustain': 4191, 'fought': 4192, 'roller': 4193, '1995': 4194, 'bake': 4195, 'mode': 4196, '1971': 4197, 'slam': 4198, 'hallucin': 4199, 'trait': 4200, 'logan': 4201, 'conduct': 4202, 'tax': 4203, 'dreck': 4204, 'wretch': 4205, 'darn': 4206, 'ritual': 4207, 'fart': 4208, 'vanc': 4209, 'behold': 4210, 'nicola': 4211, 'malon': 4212, 'shanghai': 4213, 'robber': 4214, 'runner': 4215, 'preposter': 4216, 'phil': 4217, 'bias': 4218, 'canyon': 4219, 'conscious': 4220, 'sweep': 4221, 'schedul': 4222, 'scriptwrit': 4223, 'isabel': 4224, 'exhaust': 4225, 'penni': 4226, 'soup': 4227, 'tactic': 4228, 'technicolor': 4229, 'shell': 4230, 'critiqu': 4231, 'despis': 4232, 'stuart': 4233, 'preston': 4234, 'guitar': 4235, 'pete': 4236, 'divid': 4237, 'clau': 4238, 'fundament': 4239, 'rita': 4240, 'helpless': 4241, 'legaci': 4242, 'squad': 4243, 'grief': 4244, 'outlin': 4245, 'stark': 4246, 'bridget': 4247, 'bloom': 4248, 'passag': 4249, 'cigarett': 4250, 'alicia': 4251, 'sugar': 4252, 'delv': 4253, 'drove': 4254, 'alley': 4255, 'inabl': 4256, 'unexpectedli': 4257, 'connor': 4258, 'lacklust': 4259, 'culmin': 4260, 'rear': 4261, 'invad': 4262, 'russia': 4263, 'liberti': 4264, 'palanc': 4265, 'gregori': 4266, 'kansa': 4267, 'sniper': 4268, 'jacket': 4269, 'implic': 4270, 'restrict': 4271, 'jodi': 4272, 'boyl': 4273, 'rehash': 4274, 'vomit': 4275, 'marc': 4276, 'flair': 4277, 'propos': 4278, 'agenc': 4279, 'newman': 4280, 'sentinel': 4281, 'consciou': 4282, 'downey': 4283, 'tendenc': 4284, 'bacon': 4285, 'horn': 4286, 'arrow': 4287, 'ladder': 4288, 'chainsaw': 4289, '22': 4290, 'sharon': 4291, 'improb': 4292, '1936': 4293, 'rehears': 4294, 'awhil': 4295, 'rod': 4296, 'feat': 4297, 'vet': 4298, 'lush': 4299, 'behaviour': 4300, 'pale': 4301, 'rampag': 4302, 'tripe': 4303, 'delet': 4304, 'wrench': 4305, 'yeti': 4306, 'cap': 4307, 'mccoy': 4308, 'foxx': 4309, 'kolchak': 4310, 'karl': 4311, 'asylum': 4312, 'aesthet': 4313, 'aristocrat': 4314, 'hungri': 4315, 'minu': 4316, 'conscienc': 4317, 'hackney': 4318, 'fright': 4319, 'sung': 4320, 'coaster': 4321, 'loneli': 4322, 'tomorrow': 4323, 'suffici': 4324, 'rhythm': 4325, '1978': 4326, 'financ': 4327, 'el': 4328, 'suspicion': 4329, 'elit': 4330, 'stream': 4331, 'lurk': 4332, 'paradis': 4333, 'newcom': 4334, '1920': 4335, 'spice': 4336, 'wildli': 4337, 'tasteless': 4338, 'filler': 4339, 'weav': 4340, '19th': 4341, 'shortcom': 4342, 'basing': 4343, 'visitor': 4344, 'scoop': 4345, 'underneath': 4346, 'rumor': 4347, 'amazon': 4348, 'thunderbird': 4349, 'paramount': 4350, 'prank': 4351, 'hulk': 4352, '1988': 4353, 'wagner': 4354, 'globe': 4355, 'recogniz': 4356, '75': 4357, 'quietli': 4358, 'tierney': 4359, 'iv': 4360, 'abrupt': 4361, 'chamberlain': 4362, 'immers': 4363, 'beverli': 4364, 'heist': 4365, 'counterpart': 4366, 'cancer': 4367, '1989': 4368, 'posey': 4369, 'ram': 4370, 'en': 4371, 'penn': 4372, 'secondari': 4373, 'springer': 4374, 'wwe': 4375, 'curli': 4376, 'dirt': 4377, 'bread': 4378, 'minist': 4379, 'brit': 4380, 'standout': 4381, '1939': 4382, 'grudg': 4383, 'atroc': 4384, 'ingeni': 4385, 'rub': 4386, 'straightforward': 4387, 'leigh': 4388, 'naughti': 4389, 'inmat': 4390, 'couch': 4391, 'smell': 4392, 'literari': 4393, 'worship': 4394, 'paxton': 4395, 'entranc': 4396, 'hopkin': 4397, 'choppi': 4398, 'teas': 4399, 'impos': 4400, 'lectur': 4401, 'chavez': 4402, 'cattl': 4403, 'duel': 4404, 'ace': 4405, 'quaid': 4406, '1986': 4407, 'entitl': 4408, 'bernard': 4409, 'convert': 4410, 'missil': 4411, 'variat': 4412, 'transcend': 4413, 'yearn': 4414, 'net': 4415, 'geni': 4416, 'watcher': 4417, 'morbid': 4418, 'sublim': 4419, 'skeptic': 4420, 'laurenc': 4421, 'esther': 4422, 'enthral': 4423, 'lindsay': 4424, 'moreov': 4425, 'misguid': 4426, 'clan': 4427, 'nemesi': 4428, 'sassi': 4429, 'attenborough': 4430, 'heartfelt': 4431, 'injuri': 4432, 'policeman': 4433, 'nolan': 4434, 'ratso': 4435, 'graini': 4436, 'tyler': 4437, 'youngest': 4438, 'steadi': 4439, 'bean': 4440, 'cruelti': 4441, 'puppi': 4442, 'enabl': 4443, 'egg': 4444, '1979': 4445, 'buzz': 4446, 'facil': 4447, 'vader': 4448, 'reliabl': 4449, 'spiral': 4450, 'setup': 4451, 'obstacl': 4452, 'diari': 4453, 'uncut': 4454, 'kidman': 4455, 'unexplain': 4456, 'moder': 4457, 'artsi': 4458, 'grin': 4459, 'rosemari': 4460, 'characteris': 4461, 'mytholog': 4462, 'hopelessli': 4463, 'dont': 4464, 'carlito': 4465, 'hk': 4466, 'out': 4467, 'brood': 4468, 'kitti': 4469, 'bye': 4470, 'poe': 4471, 'baffl': 4472, 'brendan': 4473, 'oblig': 4474, 'hammi': 4475, 'preming': 4476, 'spontan': 4477, 'niec': 4478, 'exterior': 4479, 'disastr': 4480, 'despic': 4481, 'clueless': 4482, 'christin': 4483, 'martha': 4484, 'heap': 4485, 'effici': 4486, 'bewar': 4487, 'sweat': 4488, 'kline': 4489, 'athlet': 4490, 'underworld': 4491, 'patricia': 4492, 'narrow': 4493, 'gillian': 4494, 'acquaint': 4495, 'fuel': 4496, 'gina': 4497, 'bronson': 4498, 'weather': 4499, 'decept': 4500, 'bounc': 4501, '1969': 4502, 'hain': 4503, 'housewif': 4504, 'uh': 4505, '19': 4506, 'candl': 4507, 'circu': 4508, 'suprem': 4509, 'lester': 4510, 'enlist': 4511, 'loath': 4512, 'injur': 4513, 'harmless': 4514, 'mermaid': 4515, 'angst': 4516, 'sooner': 4517, 'goof': 4518, 'astound': 4519, 'trigger': 4520, 'rome': 4521, 'shatter': 4522, 'scar': 4523, 'analyz': 4524, 'fontain': 4525, 'insipid': 4526, 'headach': 4527, 'loi': 4528, 'viewpoint': 4529, 'outlaw': 4530, 'virtu': 4531, 'tick': 4532, 'biker': 4533, 'dilemma': 4534, 'taboo': 4535, 'sleepwalk': 4536, 'preachi': 4537, 'hepburn': 4538, '73': 4539, 'dandi': 4540, 'mayhem': 4541, 'renaiss': 4542, 'whore': 4543, 'immatur': 4544, 'boston': 4545, 'surgeri': 4546, 'cassavet': 4547, 'steer': 4548, 'camcord': 4549, 'idol': 4550, 'overlong': 4551, 'tripl': 4552, 'amor': 4553, 'gere': 4554, 'dismal': 4555, 'oldest': 4556, 'guin': 4557, 'slimi': 4558, 'redund': 4559, 'stair': 4560, 'claustrophob': 4561, 'ebert': 4562, 'phenomenon': 4563, 'salt': 4564, 'spade': 4565, 'sox': 4566, 'ariel': 4567, 'dish': 4568, 'glorifi': 4569, 'hooker': 4570, 'contempt': 4571, 'hokey': 4572, 'filth': 4573, 'bent': 4574, 'intric': 4575, 'fluff': 4576, 'foolish': 4577, 'macho': 4578, 'corbett': 4579, 'zoom': 4580, 'hostag': 4581, 'stimul': 4582, 'scorses': 4583, 'cow': 4584, 'dwarf': 4585, 'rhyme': 4586, 'preced': 4587, 'strongest': 4588, 'transplant': 4589, 'harold': 4590, 'assert': 4591, 'flag': 4592, 'spinal': 4593, 'gabl': 4594, 'keen': 4595, 'schlock': 4596, 'down': 4597, 'beard': 4598, 'joker': 4599, 'cohen': 4600, 'muscl': 4601, 'gasp': 4602, 'shred': 4603, 'mutual': 4604, 'remad': 4605, 'fascist': 4606, 'flirt': 4607, 'margin': 4608, '1981': 4609, 'spree': 4610, 'naschi': 4611, 'trivia': 4612, 'proport': 4613, 'alvin': 4614, 'messi': 4615, 'corman': 4616, 'conquer': 4617, '1976': 4618, 'cush': 4619, 'astronaut': 4620, 'flashi': 4621, 'shield': 4622, 'perman': 4623, 'frantic': 4624, 'zane': 4625, 'radiat': 4626, 'obligatori': 4627, 'faint': 4628, 'antagonist': 4629, 'widescreen': 4630, 'nolt': 4631, 'mount': 4632, 'instruct': 4633, 'claud': 4634, 'triangl': 4635, 'brush': 4636, 'archiv': 4637, 'barn': 4638, 'repris': 4639, 'discern': 4640, 'info': 4641, 'departur': 4642, '95': 4643, 'someday': 4644, 'mol': 4645, 'persuad': 4646, 'flock': 4647, 'www': 4648, 'neurot': 4649, 'wield': 4650, 'divin': 4651, 'carey': 4652, 'vaniti': 4653, 'raj': 4654, 'sensual': 4655, '1945': 4656, 'aborigin': 4657, 'scandal': 4658, 'fishburn': 4659, 'off': 4660, 'resum': 4661, 'bachelor': 4662, 'bitten': 4663, 'inflict': 4664, 'ritchi': 4665, 'danish': 4666, 'deer': 4667, 'boob': 4668, '28': 4669, 'interestingli': 4670, 'strive': 4671, 'hara': 4672, 'mobil': 4673, 'miracul': 4674, 'submit': 4675, 'heartwarm': 4676, 'earnest': 4677, 'vibrant': 4678, 'proclaim': 4679, 'fragil': 4680, 'dame': 4681, 'senior': 4682, 'neill': 4683, 'hilar': 4684, 'cycl': 4685, 'dylan': 4686, 'dim': 4687, 'pacif': 4688, 'clad': 4689, 'carlo': 4690, 'artwork': 4691, 'timberlak': 4692, 'cliffhang': 4693, 'cb': 4694, 'parson': 4695, 'kathryn': 4696, 'colin': 4697, 'europa': 4698, 'harrison': 4699, 'luka': 4700, 'rot': 4701, 'recit': 4702, 'traffic': 4703, 'prophet': 4704, 'mobster': 4705, 'bate': 4706, 'ish': 4707, 'biblic': 4708, 'pixar': 4709, 'jade': 4710, 'banter': 4711, 'helm': 4712, 'melissa': 4713, 'hug': 4714, 'axe': 4715, 'cher': 4716, 'hapless': 4717, 'wendigo': 4718, 'undermin': 4719, 'anton': 4720, 'loretta': 4721, 'pickford': 4722, 'frontier': 4723, 'casino': 4724, 'uma': 4725, 'token': 4726, 'trier': 4727, 'articl': 4728, 'holocaust': 4729, 'nope': 4730, 'estrang': 4731, 'redneck': 4732, 'akin': 4733, 'breakfast': 4734, 'isra': 4735, 'orphan': 4736, 'electron': 4737, 'jordan': 4738, 'http': 4739, 'toronto': 4740, 'mason': 4741, 'lui': 4742, 'bikini': 4743, 'shepherd': 4744, 'antholog': 4745, 'static': 4746, 'alexandr': 4747, 'lucil': 4748, 'razor': 4749, 'eli': 4750, 'blatantli': 4751, 'seedi': 4752, 'flavor': 4753, 'rooki': 4754, 'jo': 4755, 'marlon': 4756, 'vile': 4757, 'sicken': 4758, 'aris': 4759, 'pc': 4760, 'wardrob': 4761, 'foil': 4762, 'northern': 4763, 'mathieu': 4764, 'misfortun': 4765, 'illus': 4766, 'milo': 4767, 'legitim': 4768, 'feast': 4769, 'bondag': 4770, 'vanessa': 4771, 'venom': 4772, 'choke': 4773, 'cerebr': 4774, 'winchest': 4775, 'frog': 4776, 'highway': 4777, 'fifth': 4778, 'turd': 4779, 'nightclub': 4780, 'huston': 4781, 'tack': 4782, 'abund': 4783, 'smack': 4784, 'shorter': 4785, 'boyer': 4786, 'glare': 4787, 'dudley': 4788, 'gunga': 4789, 'ideolog': 4790, 'disregard': 4791, 'comprehend': 4792, 'styliz': 4793, 'linear': 4794, 'gilbert': 4795, 'feminin': 4796, 'clinic': 4797, 'psych': 4798, 'cartoonish': 4799, 'audrey': 4800, 'knightley': 4801, 'magician': 4802, 'swept': 4803, 'wrestler': 4804, 'ceremoni': 4805, 'affleck': 4806, 'peer': 4807, 'charlton': 4808, 'oppon': 4809, 'outdat': 4810, 'retriev': 4811, 'deem': 4812, 'howl': 4813, 'leather': 4814, 'bastard': 4815, 'braveheart': 4816, 'lighter': 4817, 'monument': 4818, 'summar': 4819, 'sleaz': 4820, 'bogu': 4821, '1994': 4822, 'einstein': 4823, 'breakdown': 4824, 'plate': 4825, 'corn': 4826, 'uniformli': 4827, 'toe': 4828, 'chip': 4829, 'phenomen': 4830, 'boo': 4831, 'btw': 4832, 'newer': 4833, 'deliver': 4834, 'moe': 4835, 'potter': 4836, 'durat': 4837, 'goldsworthi': 4838, '4th': 4839, 'spine': 4840, 'evolut': 4841, 'cemeteri': 4842, 'salman': 4843, 'collector': 4844, 'energet': 4845, 'tara': 4846, '1991': 4847, 'client': 4848, 'greet': 4849, 'lifeless': 4850, 'cuban': 4851, 'snatch': 4852, 'lavish': 4853, 'compris': 4854, 'mitch': 4855, 'spawn': 4856, 'senat': 4857, 'conrad': 4858, 'whack': 4859, 'fluid': 4860, 'gilliam': 4861, 'historian': 4862, 'jam': 4863, 'undead': 4864, 'belli': 4865, 'trauma': 4866, 'liu': 4867, 'embark': 4868, '1977': 4869, 'signal': 4870, 'creek': 4871, 'outright': 4872, 'randolph': 4873, 'bori': 4874, 'replay': 4875, 'alleg': 4876, 'constitut': 4877, 'undertak': 4878, 'cecil': 4879, 'ol': 4880, 'jedi': 4881, 'firmli': 4882, 'sorrow': 4883, 'occup': 4884, 'pronounc': 4885, 'appl': 4886, 'luxuri': 4887, 'kazan': 4888, 'capot': 4889, 'spectacl': 4890, 'eleven': 4891, 'jule': 4892, 'wtf': 4893, 'ie': 4894, 'armstrong': 4895, 'neatli': 4896, 'inaccuraci': 4897, 'bulk': 4898, 'judd': 4899, 'nina': 4900, 'clara': 4901, 'healthi': 4902, '1974': 4903, 'kent': 4904, 'lex': 4905, 'evelyn': 4906, 'jare': 4907, 'mcqueen': 4908, 'roar': 4909, 'unattract': 4910, 'pioneer': 4911, 'comb': 4912, 'miami': 4913, 'inaccur': 4914, '1985': 4915, 'forgiven': 4916, 'ash': 4917, 'palm': 4918, 'goldblum': 4919, 'truman': 4920, 'kiddi': 4921, 'galaxi': 4922, 'pepper': 4923, 'vain': 4924, 'antonio': 4925, 'blur': 4926, 'basket': 4927, 'conan': 4928, 'id': 4929, 'groan': 4930, 'relentless': 4931, 'rosario': 4932, 'porter': 4933, 'sacrif': 4934, 'knee': 4935, 'decapit': 4936, 'paula': 4937, 'meal': 4938, 'unsuspect': 4939, 'comprehens': 4940, 'mum': 4941, 'congratul': 4942, 'cape': 4943, 'walt': 4944, 'curtain': 4945, 'inclus': 4946, 'spray': 4947, 'abound': 4948, 'poker': 4949, 'bsg': 4950, 'subtli': 4951, 'genet': 4952, 'lanc': 4953, 'tokyo': 4954, 'lauren': 4955, 'bait': 4956, 'carmen': 4957, 'sidewalk': 4958, 'fruit': 4959, 'aussi': 4960, 'propheci': 4961, 'vignett': 4962, 'miniseri': 4963, 'monti': 4964, 'evan': 4965, 'reincarn': 4966, 'drone': 4967, 'sparkl': 4968, 'growth': 4969, 'epitom': 4970, 'substanti': 4971, 'weari': 4972, 'vastli': 4973, 'ghetto': 4974, 'weaker': 4975, 'dubiou': 4976, 'bravo': 4977, 'scariest': 4978, 'handicap': 4979, 'modest': 4980, 'verg': 4981, 'sophi': 4982, 'bach': 4983, 'casper': 4984, 'optimist': 4985, 'orchestr': 4986, 'omin': 4987, 'playboy': 4988, 'victorian': 4989, 'profil': 4990, 'motorcycl': 4991, 'mice': 4992, 'scarfac': 4993, 'ingrid': 4994, 'frontal': 4995, 'masterson': 4996, 'incorrect': 4997, 'spill': 4998, 'rapidli': 4999}\n"
     ]
    }
   ],
   "source": [
    "print(word_dict)"
   ]
  },
  {
   "cell_type": "markdown",
   "metadata": {},
   "source": [
    "**Question:** What are the five most frequently appearing (tokenized) words in the training set? Does it makes sense that these words appear frequently in the training set?"
   ]
  },
  {
   "cell_type": "markdown",
   "metadata": {},
   "source": [
    "**Answer:**\n",
    "The 10 most common words in reviews are printed belwo. They make sense given that the input data are movie reviews"
   ]
  },
  {
   "cell_type": "code",
   "execution_count": 14,
   "metadata": {},
   "outputs": [
    {
     "name": "stdout",
     "output_type": "stream",
     "text": [
      "[('movi', 51695), ('film', 48190), ('one', 27741), ('like', 22799), ('time', 16191), ('good', 15360), ('make', 15207), ('charact', 14178), ('get', 14141), ('see', 14111)]\n"
     ]
    }
   ],
   "source": [
    "# TODO: Use this space to determine the five most frequently appearing words in the training set.\n",
    "word_count = word_counter(train_X)\n",
    "print(word_count.most_common(10))"
   ]
  },
  {
   "cell_type": "markdown",
   "metadata": {},
   "source": [
    "### Save `word_dict`\n",
    "\n",
    "Later on when we construct an endpoint which processes a submitted review we will need to make use of the `word_dict` which we have created. As such, we will save it to a file now for future use."
   ]
  },
  {
   "cell_type": "code",
   "execution_count": 15,
   "metadata": {},
   "outputs": [],
   "source": [
    "data_dir = '../data/pytorch' # The folder we will use for storing data\n",
    "if not os.path.exists(data_dir): # Make sure that the folder exists\n",
    "    os.makedirs(data_dir)"
   ]
  },
  {
   "cell_type": "code",
   "execution_count": 16,
   "metadata": {},
   "outputs": [],
   "source": [
    "with open(os.path.join(data_dir, 'word_dict.pkl'), \"wb\") as f:\n",
    "    pickle.dump(word_dict, f)"
   ]
  },
  {
   "cell_type": "markdown",
   "metadata": {},
   "source": [
    "### Transform the reviews\n",
    "\n",
    "Now that we have our word dictionary which allows us to transform the words appearing in the reviews into integers, it is time to make use of it and convert our reviews to their integer sequence representation, making sure to pad or truncate to a fixed length, which in our case is `500`."
   ]
  },
  {
   "cell_type": "code",
   "execution_count": 17,
   "metadata": {},
   "outputs": [],
   "source": [
    "def convert_and_pad(word_dict, sentence, pad=500):\n",
    "    NOWORD = 0 # We will use 0 to represent the 'no word' category\n",
    "    INFREQ = 1 # and we use 1 to represent the infrequent words, i.e., words not appearing in word_dict\n",
    "    \n",
    "    working_sentence = [NOWORD] * pad\n",
    "    \n",
    "    for word_index, word in enumerate(sentence[:pad]):\n",
    "        if word in word_dict:\n",
    "            working_sentence[word_index] = word_dict[word]\n",
    "        else:\n",
    "            working_sentence[word_index] = INFREQ\n",
    "            \n",
    "    return working_sentence, min(len(sentence), pad)\n",
    "\n",
    "def convert_and_pad_data(word_dict, data, pad=500):\n",
    "    result = []\n",
    "    lengths = []\n",
    "    \n",
    "    for sentence in data:\n",
    "        converted, leng = convert_and_pad(word_dict, sentence, pad)\n",
    "        result.append(converted)\n",
    "        lengths.append(leng)\n",
    "        \n",
    "    return np.array(result), np.array(lengths)"
   ]
  },
  {
   "cell_type": "code",
   "execution_count": 18,
   "metadata": {},
   "outputs": [],
   "source": [
    "train_X, train_X_len = convert_and_pad_data(word_dict, train_X)\n",
    "test_X, test_X_len = convert_and_pad_data(word_dict, test_X)"
   ]
  },
  {
   "cell_type": "markdown",
   "metadata": {},
   "source": [
    "As a quick check to make sure that things are working as intended, check to see what one of the reviews in the training set looks like after having been processeed. Does this look reasonable? What is the length of a review in the training set?"
   ]
  },
  {
   "cell_type": "code",
   "execution_count": 19,
   "metadata": {},
   "outputs": [
    {
     "data": {
      "text/plain": [
       "array([2206, 2434, 2210,    1, 1733,  168,  107,  262,   33,  139,  147,\n",
       "         63,    1,  641, 1503,   73,  116,  166,    3,    1,   61, 2601,\n",
       "        308,  541,    1,   89,  132,  337, 1303, 1951,    1, 3686,  420,\n",
       "        330,  615,    1, 1088,  251,  154,   10,  202,  968, 1174,  327,\n",
       "        100,  111, 1398,    1,  664,   50,   25, 1077,  501, 1058, 1688,\n",
       "        335,  727, 1174,  327,    1,  922, 2712, 1457,    1,   31, 2830,\n",
       "       1038, 2434, 2210,    1, 1733, 1455,  486, 2394,  399,  718, 2290,\n",
       "       1156, 2142, 1077,  501,  984,   95, 2210, 1174,  327,  311,   52,\n",
       "       1535, 4253,  202,  201,  952, 4553,    1,  399,    3,  275,   25,\n",
       "        100,   32,  969, 2882, 2434, 2210,    8,   40,  713, 1833, 2210,\n",
       "        413,  300,    1, 2912,    1, 4834,   58,    1, 1733,   33,  295,\n",
       "        463,    1,  399,   39,   17,   12,   18,    1,  923, 1733,  773,\n",
       "        488, 1083,   49, 1733,  619,    1, 1331, 3253,  565,   32,  547,\n",
       "        110,  501,    5, 1005,  342,   45,   58,    1,    0,    0,    0,\n",
       "          0,    0,    0,    0,    0,    0,    0,    0,    0,    0,    0,\n",
       "          0,    0,    0,    0,    0,    0,    0,    0,    0,    0,    0,\n",
       "          0,    0,    0,    0,    0,    0,    0,    0,    0,    0,    0,\n",
       "          0,    0,    0,    0,    0,    0,    0,    0,    0,    0,    0,\n",
       "          0,    0,    0,    0,    0,    0,    0,    0,    0,    0,    0,\n",
       "          0,    0,    0,    0,    0,    0,    0,    0,    0,    0,    0,\n",
       "          0,    0,    0,    0,    0,    0,    0,    0,    0,    0,    0,\n",
       "          0,    0,    0,    0,    0,    0,    0,    0,    0,    0,    0,\n",
       "          0,    0,    0,    0,    0,    0,    0,    0,    0,    0,    0,\n",
       "          0,    0,    0,    0,    0,    0,    0,    0,    0,    0,    0,\n",
       "          0,    0,    0,    0,    0,    0,    0,    0,    0,    0,    0,\n",
       "          0,    0,    0,    0,    0,    0,    0,    0,    0,    0,    0,\n",
       "          0,    0,    0,    0,    0,    0,    0,    0,    0,    0,    0,\n",
       "          0,    0,    0,    0,    0,    0,    0,    0,    0,    0,    0,\n",
       "          0,    0,    0,    0,    0,    0,    0,    0,    0,    0,    0,\n",
       "          0,    0,    0,    0,    0,    0,    0,    0,    0,    0,    0,\n",
       "          0,    0,    0,    0,    0,    0,    0,    0,    0,    0,    0,\n",
       "          0,    0,    0,    0,    0,    0,    0,    0,    0,    0,    0,\n",
       "          0,    0,    0,    0,    0,    0,    0,    0,    0,    0,    0,\n",
       "          0,    0,    0,    0,    0,    0,    0,    0,    0,    0,    0,\n",
       "          0,    0,    0,    0,    0,    0,    0,    0,    0,    0,    0,\n",
       "          0,    0,    0,    0,    0,    0,    0,    0,    0,    0,    0,\n",
       "          0,    0,    0,    0,    0,    0,    0,    0,    0,    0,    0,\n",
       "          0,    0,    0,    0,    0,    0,    0,    0,    0,    0,    0,\n",
       "          0,    0,    0,    0,    0,    0,    0,    0,    0,    0,    0,\n",
       "          0,    0,    0,    0,    0,    0,    0,    0,    0,    0,    0,\n",
       "          0,    0,    0,    0,    0,    0,    0,    0,    0,    0,    0,\n",
       "          0,    0,    0,    0,    0,    0,    0,    0,    0,    0,    0,\n",
       "          0,    0,    0,    0,    0,    0,    0,    0,    0,    0,    0,\n",
       "          0,    0,    0,    0,    0,    0,    0,    0,    0,    0,    0,\n",
       "          0,    0,    0,    0,    0,    0,    0,    0,    0,    0,    0,\n",
       "          0,    0,    0,    0,    0])"
      ]
     },
     "execution_count": 19,
     "metadata": {},
     "output_type": "execute_result"
    }
   ],
   "source": [
    "# Use this cell to examine one of the processed reviews to make sure everything is working as intended.\n",
    "train_X[200]"
   ]
  },
  {
   "cell_type": "markdown",
   "metadata": {},
   "source": [
    "**Question:** In the cells above we use the `preprocess_data` and `convert_and_pad_data` methods to process both the training and testing set. Why or why not might this be a problem?"
   ]
  },
  {
   "cell_type": "markdown",
   "metadata": {},
   "source": [
    "**Answer:**\n",
    "The movie reviews are of varying lengths. In order to make all the input data to have the same size, we can pad or truncate the reviews to a prespecified length. For reviews that are shorter than 500 words, we pad with 0s and, for reviews that are longer than 500 words, we truncate at the first 500 words.\n"
   ]
  },
  {
   "cell_type": "markdown",
   "metadata": {},
   "source": [
    "## Step 3: Upload the data to S3\n",
    "\n",
    "As in the XGBoost notebook, we will need to upload the training dataset to S3 in order for our training code to access it. For now we will save it locally and we will upload to S3 later on.\n",
    "\n",
    "### Save the processed training dataset locally\n",
    "\n",
    "It is important to note the format of the data that we are saving as we will need to know it when we write the training code. In our case, each row of the dataset has the form `label`, `length`, `review[500]` where `review[500]` is a sequence of `500` integers representing the words in the review."
   ]
  },
  {
   "cell_type": "code",
   "execution_count": 20,
   "metadata": {},
   "outputs": [],
   "source": [
    "import pandas as pd\n",
    "    \n",
    "pd.concat([pd.DataFrame(train_y), pd.DataFrame(train_X_len), pd.DataFrame(train_X)], axis=1) \\\n",
    "        .to_csv(os.path.join(data_dir, 'train.csv'), header=False, index=False)"
   ]
  },
  {
   "cell_type": "markdown",
   "metadata": {},
   "source": [
    "### Uploading the training data\n",
    "\n",
    "\n",
    "Next, we need to upload the training data to the SageMaker default S3 bucket so that we can provide access to it while training our model."
   ]
  },
  {
   "cell_type": "code",
   "execution_count": 21,
   "metadata": {},
   "outputs": [],
   "source": [
    "import sagemaker\n",
    "\n",
    "sagemaker_session = sagemaker.Session()\n",
    "\n",
    "bucket = sagemaker_session.default_bucket()\n",
    "prefix = 'sagemaker/sentiment_rnn'\n",
    "\n",
    "role = sagemaker.get_execution_role()"
   ]
  },
  {
   "cell_type": "code",
   "execution_count": 22,
   "metadata": {},
   "outputs": [],
   "source": [
    "input_data = sagemaker_session.upload_data(path=data_dir, bucket=bucket, key_prefix=prefix)"
   ]
  },
  {
   "cell_type": "markdown",
   "metadata": {},
   "source": [
    "**NOTE:** The cell above uploads the entire contents of our data directory. This includes the `word_dict.pkl` file. This is fortunate as we will need this later on when we create an endpoint that accepts an arbitrary review. For now, we will just take note of the fact that it resides in the data directory (and so also in the S3 training bucket) and that we will need to make sure it gets saved in the model directory."
   ]
  },
  {
   "cell_type": "markdown",
   "metadata": {},
   "source": [
    "## Step 4: Build and Train the PyTorch Model\n",
    "\n",
    "In the XGBoost notebook we discussed what a model is in the SageMaker framework. In particular, a model comprises three objects\n",
    "\n",
    " - Model Artifacts,\n",
    " - Training Code, and\n",
    " - Inference Code,\n",
    " \n",
    "each of which interact with one another. In the XGBoost example we used training and inference code that was provided by Amazon. Here we will still be using containers provided by Amazon with the added benefit of being able to include our own custom code.\n",
    "\n",
    "We will start by implementing our own neural network in PyTorch along with a training script. For the purposes of this project we have provided the necessary model object in the `model.py` file, inside of the `train` folder. You can see the provided implementation by running the cell below."
   ]
  },
  {
   "cell_type": "code",
   "execution_count": 23,
   "metadata": {},
   "outputs": [
    {
     "name": "stdout",
     "output_type": "stream",
     "text": [
      "\u001b[34mimport\u001b[39;49;00m \u001b[04m\u001b[36mtorch.nn\u001b[39;49;00m \u001b[34mas\u001b[39;49;00m \u001b[04m\u001b[36mnn\u001b[39;49;00m\r\n",
      "\r\n",
      "\u001b[34mclass\u001b[39;49;00m \u001b[04m\u001b[32mLSTMClassifier\u001b[39;49;00m(nn.Module):\r\n",
      "    \u001b[33m\"\"\"\u001b[39;49;00m\r\n",
      "\u001b[33m    This is the simple RNN model we will be using to perform Sentiment Analysis.\u001b[39;49;00m\r\n",
      "\u001b[33m    \"\"\"\u001b[39;49;00m\r\n",
      "\r\n",
      "    \u001b[34mdef\u001b[39;49;00m \u001b[32m__init__\u001b[39;49;00m(\u001b[36mself\u001b[39;49;00m, embedding_dim, hidden_dim, vocab_size):\r\n",
      "        \u001b[33m\"\"\"\u001b[39;49;00m\r\n",
      "\u001b[33m        Initialize the model by settingg up the various layers.\u001b[39;49;00m\r\n",
      "\u001b[33m        \"\"\"\u001b[39;49;00m\r\n",
      "        \u001b[36msuper\u001b[39;49;00m(LSTMClassifier, \u001b[36mself\u001b[39;49;00m).\u001b[32m__init__\u001b[39;49;00m()\r\n",
      "\r\n",
      "        \u001b[36mself\u001b[39;49;00m.embedding = nn.Embedding(vocab_size, embedding_dim, padding_idx=\u001b[34m0\u001b[39;49;00m)\r\n",
      "        \u001b[36mself\u001b[39;49;00m.lstm = nn.LSTM(embedding_dim, hidden_dim)\r\n",
      "        \u001b[36mself\u001b[39;49;00m.dense = nn.Linear(in_features=hidden_dim, out_features=\u001b[34m1\u001b[39;49;00m)\r\n",
      "        \u001b[36mself\u001b[39;49;00m.sig = nn.Sigmoid()\r\n",
      "        \r\n",
      "        \u001b[36mself\u001b[39;49;00m.word_dict = \u001b[36mNone\u001b[39;49;00m\r\n",
      "\r\n",
      "    \u001b[34mdef\u001b[39;49;00m \u001b[32mforward\u001b[39;49;00m(\u001b[36mself\u001b[39;49;00m, x):\r\n",
      "        \u001b[33m\"\"\"\u001b[39;49;00m\r\n",
      "\u001b[33m        Perform a forward pass of our model on some input.\u001b[39;49;00m\r\n",
      "\u001b[33m        \"\"\"\u001b[39;49;00m\r\n",
      "        x = x.t()\r\n",
      "        lengths = x[\u001b[34m0\u001b[39;49;00m,:]\r\n",
      "        reviews = x[\u001b[34m1\u001b[39;49;00m:,:]\r\n",
      "        embeds = \u001b[36mself\u001b[39;49;00m.embedding(reviews)\r\n",
      "        lstm_out, _ = \u001b[36mself\u001b[39;49;00m.lstm(embeds)\r\n",
      "        out = \u001b[36mself\u001b[39;49;00m.dense(lstm_out)\r\n",
      "        out = out[lengths - \u001b[34m1\u001b[39;49;00m, \u001b[36mrange\u001b[39;49;00m(\u001b[36mlen\u001b[39;49;00m(lengths))]\r\n",
      "        \u001b[34mreturn\u001b[39;49;00m \u001b[36mself\u001b[39;49;00m.sig(out.squeeze())\r\n"
     ]
    }
   ],
   "source": [
    "!pygmentize train/model.py"
   ]
  },
  {
   "cell_type": "markdown",
   "metadata": {},
   "source": [
    "The important takeaway from the implementation provided is that there are three parameters that we may wish to tweak to improve the performance of our model. These are the embedding dimension, the hidden dimension and the size of the vocabulary. We will likely want to make these parameters configurable in the training script so that if we wish to modify them we do not need to modify the script itself. We will see how to do this later on. To start we will write some of the training code in the notebook so that we can more easily diagnose any issues that arise.\n",
    "\n",
    "First we will load a small portion of the training data set to use as a sample. It would be very time consuming to try and train the model completely in the notebook as we do not have access to a gpu and the compute instance that we are using is not particularly powerful. However, we can work on a small bit of the data to get a feel for how our training script is behaving."
   ]
  },
  {
   "cell_type": "code",
   "execution_count": 24,
   "metadata": {},
   "outputs": [
    {
     "name": "stdout",
     "output_type": "stream",
     "text": [
      "   0    1    2     3     4     5     6    7     8     9   ...   492  493  494  \\\n",
      "0    0   38  173  1373  1986   814  2967    2   466   346 ...     0    0    0   \n",
      "1    1  347  408     1  1272  3782   667  267  1187    52 ...     0    0    0   \n",
      "2    0  216  761   389    11     2    16  238   148    14 ...     0    0    0   \n",
      "3    1   64    4     6    26   976   809   40     1    99 ...     0    0    0   \n",
      "4    1   81  885   369   107  1534    55  488   421  1229 ...     0    0    0   \n",
      "\n",
      "   495  496  497  498  499  500  501  \n",
      "0    0    0    0    0    0    0    0  \n",
      "1    0    0    0    0    0    0    0  \n",
      "2    0    0    0    0    0    0    0  \n",
      "3    0    0    0    0    0    0    0  \n",
      "4    0    0    0    0    0    0    0  \n",
      "\n",
      "[5 rows x 502 columns]\n"
     ]
    }
   ],
   "source": [
    "import torch\n",
    "import torch.utils.data\n",
    "\n",
    "# Read in only the first 250 rows\n",
    "train_sample = pd.read_csv(os.path.join(data_dir, 'train.csv'), header=None, names=None, nrows=250)\n",
    "print(train_sample.head())\n",
    "# Turn the input pandas dataframe into tensors\n",
    "train_sample_y = torch.from_numpy(train_sample[[0]].values).float().squeeze()\n",
    "\n",
    "train_sample_X = torch.from_numpy(train_sample.drop([0], axis=1).values).long()\n",
    "\n",
    "# Build the dataset\n",
    "train_sample_ds = torch.utils.data.TensorDataset(train_sample_X, train_sample_y)\n",
    "# Build the dataloader\n",
    "train_sample_dl = torch.utils.data.DataLoader(train_sample_ds, batch_size=50)"
   ]
  },
  {
   "cell_type": "markdown",
   "metadata": {},
   "source": [
    "### (TODO) Writing the training method\n",
    "\n",
    "Next we need to write the training code itself. This should be very similar to training methods that you have written before to train PyTorch models. We will leave any difficult aspects such as model saving / loading and parameter loading until a little later."
   ]
  },
  {
   "cell_type": "code",
   "execution_count": 25,
   "metadata": {},
   "outputs": [],
   "source": [
    "def train(model, train_loader, epochs, optimizer, loss_fn, device):\n",
    "    for epoch in range(1, epochs + 1):\n",
    "        model.train()\n",
    "        total_loss = 0\n",
    "        for batch in train_loader:         \n",
    "            batch_X, batch_y = batch\n",
    "            \n",
    "            batch_X = batch_X.to(device)\n",
    "            batch_y = batch_y.to(device)\n",
    "            \n",
    "            optimizer.zero_grad()\n",
    "            output = model.forward(batch_X)\n",
    "            loss = loss_fn(output, batch_y)\n",
    "            loss.backward()\n",
    "            optimizer.step()            \n",
    "            \n",
    "            total_loss += loss.data.item()\n",
    "        print(\"Epoch: {}, BCELoss: {}\".format(epoch, total_loss / len(train_loader)))"
   ]
  },
  {
   "cell_type": "markdown",
   "metadata": {},
   "source": [
    "Supposing we have the training method above, we will test that it is working by writing a bit of code in the notebook that executes our training method on the small sample training set that we loaded earlier. The reason for doing this in the notebook is so that we have an opportunity to fix any errors that arise early when they are easier to diagnose."
   ]
  },
  {
   "cell_type": "code",
   "execution_count": 26,
   "metadata": {},
   "outputs": [
    {
     "name": "stdout",
     "output_type": "stream",
     "text": [
      "Epoch: 1, BCELoss: 0.6932787299156189\n",
      "Epoch: 2, BCELoss: 0.6844960927963257\n",
      "Epoch: 3, BCELoss: 0.6772742629051208\n",
      "Epoch: 4, BCELoss: 0.6696575045585632\n",
      "Epoch: 5, BCELoss: 0.6609631180763245\n"
     ]
    }
   ],
   "source": [
    "import torch.optim as optim\n",
    "from train.model import LSTMClassifier\n",
    "\n",
    "device = torch.device(\"cuda\" if torch.cuda.is_available() else \"cpu\")\n",
    "model = LSTMClassifier(32, 100, 5000).to(device)\n",
    "optimizer = optim.Adam(model.parameters())\n",
    "loss_fn = torch.nn.BCELoss()\n",
    "\n",
    "train(model, train_sample_dl, 5, optimizer, loss_fn, device)"
   ]
  },
  {
   "cell_type": "markdown",
   "metadata": {},
   "source": [
    "In order to construct a PyTorch model using SageMaker we must provide SageMaker with a training script. We may optionally include a directory which will be copied to the container and from which our training code will be run. When the training container is executed it will check the uploaded directory (if there is one) for a `requirements.txt` file and install any required Python libraries, after which the training script will be run."
   ]
  },
  {
   "cell_type": "markdown",
   "metadata": {},
   "source": [
    "### (TODO) Training the model\n",
    "\n",
    "When a PyTorch model is constructed in SageMaker, an entry point must be specified. This is the Python file which will be executed when the model is trained. Inside of the `train` directory is a file called `train.py` which has been provided and which contains most of the necessary code to train our model. The only thing that is missing is the implementation of the `train()` method which you wrote earlier in this notebook.\n",
    "\n",
    "**TODO**: Copy the `train()` method written above and paste it into the `train/train.py` file where required.\n",
    "\n",
    "The way that SageMaker passes hyperparameters to the training script is by way of arguments. These arguments can then be parsed and used in the training script. To see how this is done take a look at the provided `train/train.py` file."
   ]
  },
  {
   "cell_type": "code",
   "execution_count": 27,
   "metadata": {},
   "outputs": [],
   "source": [
    "from sagemaker.pytorch import PyTorch\n",
    "\n",
    "estimator = PyTorch(entry_point=\"train.py\",\n",
    "                    source_dir=\"train\",\n",
    "                    role=role,\n",
    "                    framework_version='0.4.0',\n",
    "                    train_instance_count=1,\n",
    "                    train_instance_type='ml.m4.xlarge',\n",
    "                    hyperparameters={\n",
    "                        'epochs': 10,\n",
    "                        'hidden_dim': 200,\n",
    "                    })"
   ]
  },
  {
   "cell_type": "code",
   "execution_count": 28,
   "metadata": {
    "scrolled": false
   },
   "outputs": [
    {
     "name": "stderr",
     "output_type": "stream",
     "text": [
      "INFO:sagemaker:Creating training-job with name: sagemaker-pytorch-2019-01-05-04-35-02-441\n"
     ]
    },
    {
     "name": "stdout",
     "output_type": "stream",
     "text": [
      "2019-01-05 04:35:04 Starting - Starting the training job...\n",
      "2019-01-05 04:35:06 Starting - Launching requested ML instances......\n",
      "2019-01-05 04:36:10 Starting - Preparing the instances for training......\n",
      "2019-01-05 04:37:20 Downloading - Downloading input data..\n",
      "\u001b[31mbash: cannot set terminal process group (-1): Inappropriate ioctl for device\u001b[0m\n",
      "\u001b[31mbash: no job control in this shell\u001b[0m\n",
      "\u001b[31m2019-01-05 04:37:46,912 sagemaker-containers INFO     Imported framework sagemaker_pytorch_container.training\u001b[0m\n",
      "\u001b[31m2019-01-05 04:37:46,914 sagemaker-containers INFO     No GPUs detected (normal if no gpus installed)\u001b[0m\n",
      "\u001b[31m2019-01-05 04:37:46,927 sagemaker_pytorch_container.training INFO     Block until all host DNS lookups succeed.\u001b[0m\n",
      "\u001b[31m2019-01-05 04:37:48,338 sagemaker_pytorch_container.training INFO     Invoking user training script.\u001b[0m\n",
      "\u001b[31m2019-01-05 04:37:48,583 sagemaker-containers INFO     Module train does not provide a setup.py. \u001b[0m\n",
      "\u001b[31mGenerating setup.py\u001b[0m\n",
      "\u001b[31m2019-01-05 04:37:48,583 sagemaker-containers INFO     Generating setup.cfg\u001b[0m\n",
      "\u001b[31m2019-01-05 04:37:48,583 sagemaker-containers INFO     Generating MANIFEST.in\u001b[0m\n",
      "\u001b[31m2019-01-05 04:37:48,583 sagemaker-containers INFO     Installing module with the following command:\u001b[0m\n",
      "\u001b[31m/usr/bin/python -m pip install -U . -r requirements.txt\u001b[0m\n",
      "\u001b[31mProcessing /opt/ml/code\u001b[0m\n",
      "\u001b[31mCollecting pandas (from -r requirements.txt (line 1))\n",
      "  Downloading https://files.pythonhosted.org/packages/5d/d4/6e9c56a561f1d27407bf29318ca43f36ccaa289271b805a30034eb3a8ec4/pandas-0.23.4-cp35-cp35m-manylinux1_x86_64.whl (8.7MB)\u001b[0m\n",
      "\u001b[31mRequirement already up-to-date: numpy in /usr/local/lib/python3.5/dist-packages (from -r requirements.txt (line 2)) (1.15.4)\u001b[0m\n",
      "\u001b[31mCollecting nltk (from -r requirements.txt (line 3))\n",
      "  Downloading https://files.pythonhosted.org/packages/6f/ed/9c755d357d33bc1931e157f537721efb5b88d2c583fe593cc09603076cc3/nltk-3.4.zip (1.4MB)\u001b[0m\n",
      "\u001b[31mCollecting beautifulsoup4 (from -r requirements.txt (line 4))\n",
      "  Downloading https://files.pythonhosted.org/packages/3f/ef/40271f62429deec36f2d040283e722856abcfd34bac063435a2213b77bef/beautifulsoup4-4.7.0-py3-none-any.whl (92kB)\u001b[0m\n",
      "\u001b[31mCollecting html5lib (from -r requirements.txt (line 5))\n",
      "  Downloading https://files.pythonhosted.org/packages/a5/62/bbd2be0e7943ec8504b517e62bab011b4946e1258842bc159e5dfde15b96/html5lib-1.0.1-py2.py3-none-any.whl (117kB)\u001b[0m\n",
      "\u001b[31mRequirement already satisfied, skipping upgrade: python-dateutil>=2.5.0 in /usr/local/lib/python3.5/dist-packages (from pandas->-r requirements.txt (line 1)) (2.7.5)\u001b[0m\n",
      "\u001b[31mCollecting pytz>=2011k (from pandas->-r requirements.txt (line 1))\u001b[0m\n",
      "\n",
      "2019-01-05 04:37:45 Training - Training image download completed. Training in progress.\u001b[31m  Downloading https://files.pythonhosted.org/packages/f8/0e/2365ddc010afb3d79147f1dd544e5ee24bf4ece58ab99b16fbb465ce6dc0/pytz-2018.7-py2.py3-none-any.whl (506kB)\u001b[0m\n",
      "\u001b[31mRequirement already satisfied, skipping upgrade: six in /usr/local/lib/python3.5/dist-packages (from nltk->-r requirements.txt (line 3)) (1.11.0)\u001b[0m\n",
      "\u001b[31mCollecting singledispatch (from nltk->-r requirements.txt (line 3))\n",
      "  Downloading https://files.pythonhosted.org/packages/c5/10/369f50bcd4621b263927b0a1519987a04383d4a98fb10438042ad410cf88/singledispatch-3.4.0.3-py2.py3-none-any.whl\u001b[0m\n",
      "\u001b[31mCollecting soupsieve>=1.2 (from beautifulsoup4->-r requirements.txt (line 4))\n",
      "  Downloading https://files.pythonhosted.org/packages/ef/06/53edcae4edea76b38a325980dd35aed3b39f9bd0ef27b9d33f2e6dc4c7f6/soupsieve-1.6.2-py2.py3-none-any.whl\u001b[0m\n",
      "\u001b[31mCollecting webencodings (from html5lib->-r requirements.txt (line 5))\n",
      "  Downloading https://files.pythonhosted.org/packages/f4/24/2a3e3df732393fed8b3ebf2ec078f05546de641fe1b667ee316ec1dcf3b7/webencodings-0.5.1-py2.py3-none-any.whl\u001b[0m\n",
      "\u001b[31mBuilding wheels for collected packages: nltk, train\n",
      "  Running setup.py bdist_wheel for nltk: started\n",
      "  Running setup.py bdist_wheel for nltk: finished with status 'done'\n",
      "  Stored in directory: /root/.cache/pip/wheels/4b/c8/24/b2343664bcceb7147efeb21c0b23703a05b23fcfeaceaa2a1e\u001b[0m\n",
      "\u001b[31m  Running setup.py bdist_wheel for train: started\n",
      "  Running setup.py bdist_wheel for train: finished with status 'done'\n",
      "  Stored in directory: /tmp/pip-ephem-wheel-cache-n8szf6zr/wheels/35/24/16/37574d11bf9bde50616c67372a334f94fa8356bc7164af8ca3\u001b[0m\n",
      "\u001b[31mSuccessfully built nltk train\u001b[0m\n",
      "\u001b[31mInstalling collected packages: pytz, pandas, singledispatch, nltk, soupsieve, beautifulsoup4, webencodings, html5lib, train\u001b[0m\n",
      "\u001b[31mSuccessfully installed beautifulsoup4-4.7.0 html5lib-1.0.1 nltk-3.4 pandas-0.23.4 pytz-2018.7 singledispatch-3.4.0.3 soupsieve-1.6.2 train-1.0.0 webencodings-0.5.1\u001b[0m\n",
      "\u001b[31m2019-01-05 04:37:56,234 sagemaker-containers INFO     No GPUs detected (normal if no gpus installed)\u001b[0m\n",
      "\u001b[31m2019-01-05 04:37:56,247 sagemaker-containers INFO     Invoking user script\n",
      "\u001b[0m\n",
      "\u001b[31mTraining Env:\n",
      "\u001b[0m\n",
      "\u001b[31m{\n",
      "    \"input_dir\": \"/opt/ml/input\",\n",
      "    \"hyperparameters\": {\n",
      "        \"epochs\": 10,\n",
      "        \"hidden_dim\": 200\n",
      "    },\n",
      "    \"network_interface_name\": \"ethwe\",\n",
      "    \"job_name\": \"sagemaker-pytorch-2019-01-05-04-35-02-441\",\n",
      "    \"channel_input_dirs\": {\n",
      "        \"training\": \"/opt/ml/input/data/training\"\n",
      "    },\n",
      "    \"hosts\": [\n",
      "        \"algo-1\"\n",
      "    ],\n",
      "    \"input_data_config\": {\n",
      "        \"training\": {\n",
      "            \"TrainingInputMode\": \"File\",\n",
      "            \"S3DistributionType\": \"FullyReplicated\",\n",
      "            \"RecordWrapperType\": \"None\"\n",
      "        }\n",
      "    },\n",
      "    \"output_intermediate_dir\": \"/opt/ml/output/intermediate\",\n",
      "    \"module_name\": \"train\",\n",
      "    \"module_dir\": \"s3://sagemaker-ap-northeast-1-017113284741/sagemaker-pytorch-2019-01-05-04-35-02-441/source/sourcedir.tar.gz\",\n",
      "    \"num_cpus\": 4,\n",
      "    \"framework_module\": \"sagemaker_pytorch_container.training:main\",\n",
      "    \"output_data_dir\": \"/opt/ml/output/data\",\n",
      "    \"input_config_dir\": \"/opt/ml/input/config\",\n",
      "    \"resource_config\": {\n",
      "        \"current_host\": \"algo-1\",\n",
      "        \"network_interface_name\": \"ethwe\",\n",
      "        \"hosts\": [\n",
      "            \"algo-1\"\n",
      "        ]\n",
      "    },\n",
      "    \"model_dir\": \"/opt/ml/model\",\n",
      "    \"current_host\": \"algo-1\",\n",
      "    \"additional_framework_parameters\": {},\n",
      "    \"num_gpus\": 0,\n",
      "    \"user_entry_point\": \"train.py\",\n",
      "    \"output_dir\": \"/opt/ml/output\",\n",
      "    \"log_level\": 20\u001b[0m\n",
      "\u001b[31m}\n",
      "\u001b[0m\n",
      "\u001b[31mEnvironment variables:\n",
      "\u001b[0m\n",
      "\u001b[31mSM_INPUT_CONFIG_DIR=/opt/ml/input/config\u001b[0m\n",
      "\u001b[31mPYTHONPATH=/usr/local/bin:/usr/lib/python35.zip:/usr/lib/python3.5:/usr/lib/python3.5/plat-x86_64-linux-gnu:/usr/lib/python3.5/lib-dynload:/usr/local/lib/python3.5/dist-packages:/usr/lib/python3/dist-packages\u001b[0m\n",
      "\u001b[31mSM_USER_ARGS=[\"--epochs\",\"10\",\"--hidden_dim\",\"200\"]\u001b[0m\n",
      "\u001b[31mSM_OUTPUT_INTERMEDIATE_DIR=/opt/ml/output/intermediate\u001b[0m\n",
      "\u001b[31mSM_RESOURCE_CONFIG={\"current_host\":\"algo-1\",\"hosts\":[\"algo-1\"],\"network_interface_name\":\"ethwe\"}\u001b[0m\n",
      "\u001b[31mSM_HPS={\"epochs\":10,\"hidden_dim\":200}\u001b[0m\n",
      "\u001b[31mSM_LOG_LEVEL=20\u001b[0m\n",
      "\u001b[31mSM_HOSTS=[\"algo-1\"]\u001b[0m\n",
      "\u001b[31mSM_FRAMEWORK_MODULE=sagemaker_pytorch_container.training:main\u001b[0m\n",
      "\u001b[31mSM_CHANNEL_TRAINING=/opt/ml/input/data/training\u001b[0m\n",
      "\u001b[31mSM_NUM_GPUS=0\u001b[0m\n",
      "\u001b[31mSM_NETWORK_INTERFACE_NAME=ethwe\u001b[0m\n",
      "\u001b[31mSM_INPUT_DATA_CONFIG={\"training\":{\"RecordWrapperType\":\"None\",\"S3DistributionType\":\"FullyReplicated\",\"TrainingInputMode\":\"File\"}}\u001b[0m\n",
      "\u001b[31mSM_HP_EPOCHS=10\u001b[0m\n",
      "\u001b[31mSM_CHANNELS=[\"training\"]\u001b[0m\n",
      "\u001b[31mSM_OUTPUT_DIR=/opt/ml/output\u001b[0m\n",
      "\u001b[31mSM_INPUT_DIR=/opt/ml/input\u001b[0m\n",
      "\u001b[31mSM_FRAMEWORK_PARAMS={}\u001b[0m\n",
      "\u001b[31mSM_MODULE_NAME=train\u001b[0m\n",
      "\u001b[31mSM_TRAINING_ENV={\"additional_framework_parameters\":{},\"channel_input_dirs\":{\"training\":\"/opt/ml/input/data/training\"},\"current_host\":\"algo-1\",\"framework_module\":\"sagemaker_pytorch_container.training:main\",\"hosts\":[\"algo-1\"],\"hyperparameters\":{\"epochs\":10,\"hidden_dim\":200},\"input_config_dir\":\"/opt/ml/input/config\",\"input_data_config\":{\"training\":{\"RecordWrapperType\":\"None\",\"S3DistributionType\":\"FullyReplicated\",\"TrainingInputMode\":\"File\"}},\"input_dir\":\"/opt/ml/input\",\"job_name\":\"sagemaker-pytorch-2019-01-05-04-35-02-441\",\"log_level\":20,\"model_dir\":\"/opt/ml/model\",\"module_dir\":\"s3://sagemaker-ap-northeast-1-017113284741/sagemaker-pytorch-2019-01-05-04-35-02-441/source/sourcedir.tar.gz\",\"module_name\":\"train\",\"network_interface_name\":\"ethwe\",\"num_cpus\":4,\"num_gpus\":0,\"output_data_dir\":\"/opt/ml/output/data\",\"output_dir\":\"/opt/ml/output\",\"output_intermediate_dir\":\"/opt/ml/output/intermediate\",\"resource_config\":{\"current_host\":\"algo-1\",\"hosts\":[\"algo-1\"],\"network_interface_name\":\"ethwe\"},\"user_entry_point\":\"train.py\"}\u001b[0m\n",
      "\u001b[31mSM_HP_HIDDEN_DIM=200\u001b[0m\n",
      "\u001b[31mSM_USER_ENTRY_POINT=train.py\u001b[0m\n",
      "\u001b[31mSM_MODEL_DIR=/opt/ml/model\u001b[0m\n",
      "\u001b[31mSM_NUM_CPUS=4\u001b[0m\n",
      "\u001b[31mSM_OUTPUT_DATA_DIR=/opt/ml/output/data\u001b[0m\n",
      "\u001b[31mSM_MODULE_DIR=s3://sagemaker-ap-northeast-1-017113284741/sagemaker-pytorch-2019-01-05-04-35-02-441/source/sourcedir.tar.gz\u001b[0m\n",
      "\u001b[31mSM_CURRENT_HOST=algo-1\n",
      "\u001b[0m\n",
      "\u001b[31mInvoking script with the following command:\n",
      "\u001b[0m\n",
      "\u001b[31m/usr/bin/python -m train --epochs 10 --hidden_dim 200\n",
      "\n",
      "\u001b[0m\n",
      "\u001b[31mUsing device cpu.\u001b[0m\n",
      "\u001b[31mGet train data loader.\u001b[0m\n",
      "\u001b[31mModel loaded with embedding_dim 32, hidden_dim 200, vocab_size 5000.\u001b[0m\n"
     ]
    },
    {
     "name": "stdout",
     "output_type": "stream",
     "text": [
      "\u001b[31mEpoch: 1, BCELoss: 0.6719143001400695\u001b[0m\n",
      "\u001b[31mEpoch: 2, BCELoss: 0.6179041083978147\u001b[0m\n",
      "\u001b[31mEpoch: 3, BCELoss: 0.5494013252306957\u001b[0m\n",
      "\u001b[31mEpoch: 4, BCELoss: 0.4593135824008864\u001b[0m\n",
      "\u001b[31mEpoch: 5, BCELoss: 0.4004565671998627\u001b[0m\n",
      "\u001b[31mEpoch: 6, BCELoss: 0.39174534106741143\u001b[0m\n",
      "\u001b[31mEpoch: 7, BCELoss: 0.35728263490054074\u001b[0m\n",
      "\u001b[31mEpoch: 8, BCELoss: 0.32294416245149105\u001b[0m\n",
      "\u001b[31mEpoch: 9, BCELoss: 0.29817244258462167\u001b[0m\n",
      "\n",
      "2019-01-05 06:21:00 Uploading - Uploading generated training model\n",
      "2019-01-05 06:21:00 Completed - Training job completed\n",
      "\u001b[31mEpoch: 10, BCELoss: 0.29515233909597205\u001b[0m\n",
      "\u001b[31m2019-01-05 06:20:51,584 sagemaker-containers INFO     Reporting training SUCCESS\u001b[0m\n",
      "Billable seconds: 6221\n"
     ]
    }
   ],
   "source": [
    "estimator.fit({'training': input_data})"
   ]
  },
  {
   "cell_type": "markdown",
   "metadata": {},
   "source": [
    "## Step 5: Testing the model\n",
    "\n",
    "As mentioned at the top of this notebook, we will be testing this model by first deploying it and then sending the testing data to the deployed endpoint. We will do this so that we can make sure that the deployed model is working correctly.\n",
    "\n",
    "## Step 6: Deploy the model for testing\n",
    "\n",
    "Now that we have trained our model, we would like to test it to see how it performs. Currently our model takes input of the form `review_length, review[500]` where `review[500]` is a sequence of `500` integers which describe the words present in the review, encoded using `word_dict`. Fortunately for us, SageMaker provides built-in inference code for models with simple inputs such as this.\n",
    "\n",
    "There is one thing that we need to provide, however, and that is a function which loads the saved model. This function must be called `model_fn()` and takes as its only parameter a path to the directory where the model artifacts are stored. This function must also be present in the python file which we specified as the entry point. In our case the model loading function has been provided and so no changes need to be made.\n",
    "\n",
    "**NOTE**: When the built-in inference code is run it must import the `model_fn()` method from the `train.py` file. This is why the training code is wrapped in a main guard ( ie, `if __name__ == '__main__':` )\n",
    "\n",
    "Since we don't need to change anything in the code that was uploaded during training, we can simply deploy the current model as-is.\n",
    "\n",
    "**NOTE:** When deploying a model you are asking SageMaker to launch an compute instance that will wait for data to be sent to it. As a result, this compute instance will continue to run until *you* shut it down. This is important to know since the cost of a deployed endpoint depends on how long it has been running for.\n",
    "\n",
    "In other words **If you are no longer using a deployed endpoint, shut it down!**\n",
    "\n",
    "**TODO:** Deploy the trained model."
   ]
  },
  {
   "cell_type": "code",
   "execution_count": 29,
   "metadata": {},
   "outputs": [
    {
     "name": "stderr",
     "output_type": "stream",
     "text": [
      "INFO:sagemaker:Creating model with name: sagemaker-pytorch-2019-01-05-04-35-02-441\n",
      "INFO:sagemaker:Creating endpoint with name sagemaker-pytorch-2019-01-05-04-35-02-441\n"
     ]
    },
    {
     "name": "stdout",
     "output_type": "stream",
     "text": [
      "----------------------------------------------------------------------------!"
     ]
    }
   ],
   "source": [
    "# TODO: Deploy the trained model\n",
    "predictor = estimator.deploy(initial_instance_count = 1, instance_type = 'ml.m4.xlarge')"
   ]
  },
  {
   "cell_type": "markdown",
   "metadata": {},
   "source": [
    "## Step 7 - Use the model for testing\n",
    "\n",
    "Once deployed, we can read in the test data and send it off to our deployed model to get some results. Once we collect all of the results we can determine how accurate our model is."
   ]
  },
  {
   "cell_type": "code",
   "execution_count": 30,
   "metadata": {},
   "outputs": [],
   "source": [
    "test_X = pd.concat([pd.DataFrame(test_X_len), pd.DataFrame(test_X)], axis=1)"
   ]
  },
  {
   "cell_type": "code",
   "execution_count": 31,
   "metadata": {},
   "outputs": [],
   "source": [
    "# We split the data into chunks and send each chunk seperately, accumulating the results.\n",
    "\n",
    "def predict(data, rows=512):\n",
    "    split_array = np.array_split(data, int(data.shape[0] / float(rows) + 1))\n",
    "    predictions = np.array([])\n",
    "    for array in split_array:\n",
    "        predictions = np.append(predictions, predictor.predict(array))\n",
    "    \n",
    "    return predictions"
   ]
  },
  {
   "cell_type": "code",
   "execution_count": 32,
   "metadata": {},
   "outputs": [],
   "source": [
    "predictions = predict(test_X.values)\n",
    "predictions = [round(num) for num in predictions]"
   ]
  },
  {
   "cell_type": "code",
   "execution_count": 33,
   "metadata": {},
   "outputs": [
    {
     "data": {
      "text/plain": [
       "0.83976"
      ]
     },
     "execution_count": 33,
     "metadata": {},
     "output_type": "execute_result"
    }
   ],
   "source": [
    "from sklearn.metrics import accuracy_score\n",
    "accuracy_score(test_y, predictions)"
   ]
  },
  {
   "cell_type": "markdown",
   "metadata": {},
   "source": [
    "**Question:** How does this model compare to the XGBoost model you created earlier? Why might these two models perform differently on this dataset? Which do *you* think is better for sentiment analysis?"
   ]
  },
  {
   "cell_type": "markdown",
   "metadata": {},
   "source": [
    "**Answer:**\n",
    "\n",
    "1. The LSTM model achieves a higher accuracy score.\n",
    "2. The reason is that word order does not matter to XGBoost as it does not capture past dependency. On the other hand, LSTM is designed to capture long dependencies to the prior output values of the network. Hence, the LSTM should be better for sentiment analysis.\n",
    "3. A example is that the phrase \"not good\" could be considered positive sentiment by XGBoost but it will be considered negative sentiment by the LSTM model."
   ]
  },
  {
   "cell_type": "markdown",
   "metadata": {},
   "source": [
    "### (TODO) More testing\n",
    "\n",
    "We now have a trained model which has been deployed and which we can send processed reviews to and which returns the predicted sentiment. However, ultimately we would like to be able to send our model an unprocessed review. That is, we would like to send the review itself as a string. For example, suppose we wish to send the following review to our model."
   ]
  },
  {
   "cell_type": "code",
   "execution_count": 34,
   "metadata": {},
   "outputs": [],
   "source": [
    "test_review = 'The simplest pleasures in life are the best, and this film is one of them. Combining a rather basic storyline of love and adventure this movie transcends the usual weekend fair with wit and unmitigated charm.'"
   ]
  },
  {
   "cell_type": "markdown",
   "metadata": {},
   "source": [
    "The question we now need to answer is, how do we send this review to our model?\n",
    "\n",
    "Recall in the first section of this notebook we did a bunch of data processing to the IMDb dataset. In particular, we did two specific things to the provided reviews.\n",
    " - Removed any html tags and stemmed the input\n",
    " - Encoded the review as a sequence of integers using `word_dict`\n",
    " \n",
    "In order process the review we will need to repeat these two steps.\n",
    "\n",
    "**TODO**: Using the `review_to_words` and `convert_and_pad` methods from section one, convert `test_review` into a numpy array `test_data` suitable to send to our model. Remember that our model expects input of the form `review_length, review[500]`."
   ]
  },
  {
   "cell_type": "code",
   "execution_count": 35,
   "metadata": {},
   "outputs": [],
   "source": [
    "# TODO: Convert test_review into a form usable by the model and save the results in test_data\n",
    "test_data = review_to_words(test_review)\n",
    "test_data = [np.array(convert_and_pad(word_dict, test_data)[0])]"
   ]
  },
  {
   "cell_type": "markdown",
   "metadata": {},
   "source": [
    "Now that we have processed the review, we can send the resulting array to our model to predict the sentiment of the review."
   ]
  },
  {
   "cell_type": "code",
   "execution_count": 36,
   "metadata": {},
   "outputs": [
    {
     "data": {
      "text/plain": [
       "array(0.7427271, dtype=float32)"
      ]
     },
     "execution_count": 36,
     "metadata": {},
     "output_type": "execute_result"
    }
   ],
   "source": [
    "predictor.predict(test_data)"
   ]
  },
  {
   "cell_type": "markdown",
   "metadata": {},
   "source": [
    "Since the return value of our model is close to `1`, we can be certain that the review we submitted is positive."
   ]
  },
  {
   "cell_type": "markdown",
   "metadata": {},
   "source": [
    "### Delete the endpoint\n",
    "\n",
    "Of course, just like in the XGBoost notebook, once we've deployed an endpoint it continues to run until we tell it to shut down. Since we are done using our endpoint for now, we can delete it."
   ]
  },
  {
   "cell_type": "code",
   "execution_count": 37,
   "metadata": {},
   "outputs": [
    {
     "name": "stderr",
     "output_type": "stream",
     "text": [
      "INFO:sagemaker:Deleting endpoint with name: sagemaker-pytorch-2019-01-05-04-35-02-441\n"
     ]
    }
   ],
   "source": [
    "estimator.delete_endpoint()"
   ]
  },
  {
   "cell_type": "markdown",
   "metadata": {},
   "source": [
    "## Step 6 (again) - Deploy the model for the web app\n",
    "\n",
    "Now that we know that our model is working, it's time to create some custom inference code so that we can send the model a review which has not been processed and have it determine the sentiment of the review.\n",
    "\n",
    "As we saw above, by default the estimator which we created, when deployed, will use the entry script and directory which we provided when creating the model. However, since we now wish to accept a string as input and our model expects a processed review, we need to write some custom inference code.\n",
    "\n",
    "We will store the code that we write in the `serve` directory. Provided in this directory is the `model.py` file that we used to construct our model, a `utils.py` file which contains the `review_to_words` and `convert_and_pad` pre-processing functions which we used during the initial data processing, and `predict.py`, the file which will contain our custom inference code. Note also that `requirements.txt` is present which will tell SageMaker what Python libraries are required by our custom inference code.\n",
    "\n",
    "When deploying a PyTorch model in SageMaker, you are expected to provide four functions which the SageMaker inference container will use.\n",
    " - `model_fn`: This function is the same function that we used in the training script and it tells SageMaker how to load our model.\n",
    " - `input_fn`: This function receives the raw serialized input that has been sent to the model's endpoint and its job is to de-serialize and make the input available for the inference code.\n",
    " - `output_fn`: This function takes the output of the inference code and its job is to serialize this output and return it to the caller of the model's endpoint.\n",
    " - `predict_fn`: The heart of the inference script, this is where the actual prediction is done and is the function which you will need to complete.\n",
    "\n",
    "For the simple website that we are constructing during this project, the `input_fn` and `output_fn` methods are relatively straightforward. We only require being able to accept a string as input and we expect to return a single value as output. You might imagine though that in a more complex application the input or output may be image data or some other binary data which would require some effort to serialize.\n",
    "\n",
    "### (TODO) Writing inference code\n",
    "\n",
    "Before writing our custom inference code, we will begin by taking a look at the code which has been provided."
   ]
  },
  {
   "cell_type": "code",
   "execution_count": 38,
   "metadata": {},
   "outputs": [
    {
     "name": "stdout",
     "output_type": "stream",
     "text": [
      "\u001b[34mimport\u001b[39;49;00m \u001b[04m\u001b[36margparse\u001b[39;49;00m\r\n",
      "\u001b[34mimport\u001b[39;49;00m \u001b[04m\u001b[36mjson\u001b[39;49;00m\r\n",
      "\u001b[34mimport\u001b[39;49;00m \u001b[04m\u001b[36mos\u001b[39;49;00m\r\n",
      "\u001b[34mimport\u001b[39;49;00m \u001b[04m\u001b[36mpickle\u001b[39;49;00m\r\n",
      "\u001b[34mimport\u001b[39;49;00m \u001b[04m\u001b[36msys\u001b[39;49;00m\r\n",
      "\u001b[34mimport\u001b[39;49;00m \u001b[04m\u001b[36msagemaker_containers\u001b[39;49;00m\r\n",
      "\u001b[34mimport\u001b[39;49;00m \u001b[04m\u001b[36mpandas\u001b[39;49;00m \u001b[34mas\u001b[39;49;00m \u001b[04m\u001b[36mpd\u001b[39;49;00m\r\n",
      "\u001b[34mimport\u001b[39;49;00m \u001b[04m\u001b[36mnumpy\u001b[39;49;00m \u001b[34mas\u001b[39;49;00m \u001b[04m\u001b[36mnp\u001b[39;49;00m\r\n",
      "\u001b[34mimport\u001b[39;49;00m \u001b[04m\u001b[36mtorch\u001b[39;49;00m\r\n",
      "\u001b[34mimport\u001b[39;49;00m \u001b[04m\u001b[36mtorch.nn\u001b[39;49;00m \u001b[34mas\u001b[39;49;00m \u001b[04m\u001b[36mnn\u001b[39;49;00m\r\n",
      "\u001b[34mimport\u001b[39;49;00m \u001b[04m\u001b[36mtorch.optim\u001b[39;49;00m \u001b[34mas\u001b[39;49;00m \u001b[04m\u001b[36moptim\u001b[39;49;00m\r\n",
      "\u001b[34mimport\u001b[39;49;00m \u001b[04m\u001b[36mtorch.utils.data\u001b[39;49;00m\r\n",
      "\r\n",
      "\u001b[34mfrom\u001b[39;49;00m \u001b[04m\u001b[36mmodel\u001b[39;49;00m \u001b[34mimport\u001b[39;49;00m LSTMClassifier\r\n",
      "\r\n",
      "\u001b[34mfrom\u001b[39;49;00m \u001b[04m\u001b[36mutils\u001b[39;49;00m \u001b[34mimport\u001b[39;49;00m review_to_words, convert_and_pad\r\n",
      "\r\n",
      "\u001b[34mdef\u001b[39;49;00m \u001b[32mmodel_fn\u001b[39;49;00m(model_dir):\r\n",
      "    \u001b[33m\"\"\"Load the PyTorch model from the `model_dir` directory.\"\"\"\u001b[39;49;00m\r\n",
      "    \u001b[34mprint\u001b[39;49;00m(\u001b[33m\"\u001b[39;49;00m\u001b[33mLoading model.\u001b[39;49;00m\u001b[33m\"\u001b[39;49;00m)\r\n",
      "\r\n",
      "    \u001b[37m# First, load the parameters used to create the model.\u001b[39;49;00m\r\n",
      "    model_info = {}\r\n",
      "    model_info_path = os.path.join(model_dir, \u001b[33m'\u001b[39;49;00m\u001b[33mmodel_info.pth\u001b[39;49;00m\u001b[33m'\u001b[39;49;00m)\r\n",
      "    \u001b[34mwith\u001b[39;49;00m \u001b[36mopen\u001b[39;49;00m(model_info_path, \u001b[33m'\u001b[39;49;00m\u001b[33mrb\u001b[39;49;00m\u001b[33m'\u001b[39;49;00m) \u001b[34mas\u001b[39;49;00m f:\r\n",
      "        model_info = torch.load(f)\r\n",
      "\r\n",
      "    \u001b[34mprint\u001b[39;49;00m(\u001b[33m\"\u001b[39;49;00m\u001b[33mmodel_info: {}\u001b[39;49;00m\u001b[33m\"\u001b[39;49;00m.format(model_info))\r\n",
      "\r\n",
      "    \u001b[37m# Determine the device and construct the model.\u001b[39;49;00m\r\n",
      "    device = torch.device(\u001b[33m\"\u001b[39;49;00m\u001b[33mcuda\u001b[39;49;00m\u001b[33m\"\u001b[39;49;00m \u001b[34mif\u001b[39;49;00m torch.cuda.is_available() \u001b[34melse\u001b[39;49;00m \u001b[33m\"\u001b[39;49;00m\u001b[33mcpu\u001b[39;49;00m\u001b[33m\"\u001b[39;49;00m)\r\n",
      "    model = LSTMClassifier(model_info[\u001b[33m'\u001b[39;49;00m\u001b[33membedding_dim\u001b[39;49;00m\u001b[33m'\u001b[39;49;00m], model_info[\u001b[33m'\u001b[39;49;00m\u001b[33mhidden_dim\u001b[39;49;00m\u001b[33m'\u001b[39;49;00m], model_info[\u001b[33m'\u001b[39;49;00m\u001b[33mvocab_size\u001b[39;49;00m\u001b[33m'\u001b[39;49;00m])\r\n",
      "\r\n",
      "    \u001b[37m# Load the store model parameters.\u001b[39;49;00m\r\n",
      "    model_path = os.path.join(model_dir, \u001b[33m'\u001b[39;49;00m\u001b[33mmodel.pth\u001b[39;49;00m\u001b[33m'\u001b[39;49;00m)\r\n",
      "    \u001b[34mwith\u001b[39;49;00m \u001b[36mopen\u001b[39;49;00m(model_path, \u001b[33m'\u001b[39;49;00m\u001b[33mrb\u001b[39;49;00m\u001b[33m'\u001b[39;49;00m) \u001b[34mas\u001b[39;49;00m f:\r\n",
      "        model.load_state_dict(torch.load(f))\r\n",
      "\r\n",
      "    \u001b[37m# Load the saved word_dict.\u001b[39;49;00m\r\n",
      "    word_dict_path = os.path.join(model_dir, \u001b[33m'\u001b[39;49;00m\u001b[33mword_dict.pkl\u001b[39;49;00m\u001b[33m'\u001b[39;49;00m)\r\n",
      "    \u001b[34mwith\u001b[39;49;00m \u001b[36mopen\u001b[39;49;00m(word_dict_path, \u001b[33m'\u001b[39;49;00m\u001b[33mrb\u001b[39;49;00m\u001b[33m'\u001b[39;49;00m) \u001b[34mas\u001b[39;49;00m f:\r\n",
      "        model.word_dict = pickle.load(f)\r\n",
      "\r\n",
      "    model.to(device).eval()\r\n",
      "\r\n",
      "    \u001b[34mprint\u001b[39;49;00m(\u001b[33m\"\u001b[39;49;00m\u001b[33mDone loading model.\u001b[39;49;00m\u001b[33m\"\u001b[39;49;00m)\r\n",
      "    \u001b[34mreturn\u001b[39;49;00m model\r\n",
      "\r\n",
      "\u001b[34mdef\u001b[39;49;00m \u001b[32minput_fn\u001b[39;49;00m(serialized_input_data, content_type):\r\n",
      "    \u001b[34mprint\u001b[39;49;00m(\u001b[33m'\u001b[39;49;00m\u001b[33mDeserializing the input data.\u001b[39;49;00m\u001b[33m'\u001b[39;49;00m)\r\n",
      "    \u001b[34mif\u001b[39;49;00m content_type == \u001b[33m'\u001b[39;49;00m\u001b[33mtext/plain\u001b[39;49;00m\u001b[33m'\u001b[39;49;00m:\r\n",
      "        data = serialized_input_data.decode(\u001b[33m'\u001b[39;49;00m\u001b[33mutf-8\u001b[39;49;00m\u001b[33m'\u001b[39;49;00m)\r\n",
      "        \u001b[34mreturn\u001b[39;49;00m data\r\n",
      "    \u001b[34mraise\u001b[39;49;00m \u001b[36mException\u001b[39;49;00m(\u001b[33m'\u001b[39;49;00m\u001b[33mRequested unsupported ContentType in content_type: \u001b[39;49;00m\u001b[33m'\u001b[39;49;00m + content_type)\r\n",
      "\r\n",
      "\u001b[34mdef\u001b[39;49;00m \u001b[32moutput_fn\u001b[39;49;00m(prediction_output, accept):\r\n",
      "    \u001b[34mprint\u001b[39;49;00m(\u001b[33m'\u001b[39;49;00m\u001b[33mSerializing the generated output.\u001b[39;49;00m\u001b[33m'\u001b[39;49;00m)\r\n",
      "    \u001b[34mreturn\u001b[39;49;00m \u001b[36mstr\u001b[39;49;00m(prediction_output)\r\n",
      "\r\n",
      "\u001b[34mdef\u001b[39;49;00m \u001b[32mpredict_fn\u001b[39;49;00m(input_data, model):\r\n",
      "    \u001b[34mprint\u001b[39;49;00m(\u001b[33m'\u001b[39;49;00m\u001b[33mInferring sentiment of input data.\u001b[39;49;00m\u001b[33m'\u001b[39;49;00m)\r\n",
      "\r\n",
      "    device = torch.device(\u001b[33m\"\u001b[39;49;00m\u001b[33mcuda\u001b[39;49;00m\u001b[33m\"\u001b[39;49;00m \u001b[34mif\u001b[39;49;00m torch.cuda.is_available() \u001b[34melse\u001b[39;49;00m \u001b[33m\"\u001b[39;49;00m\u001b[33mcpu\u001b[39;49;00m\u001b[33m\"\u001b[39;49;00m)\r\n",
      "    \r\n",
      "    \u001b[34mif\u001b[39;49;00m model.word_dict \u001b[35mis\u001b[39;49;00m \u001b[36mNone\u001b[39;49;00m:\r\n",
      "        \u001b[34mraise\u001b[39;49;00m \u001b[36mException\u001b[39;49;00m(\u001b[33m'\u001b[39;49;00m\u001b[33mModel has not been loaded properly, no word_dict.\u001b[39;49;00m\u001b[33m'\u001b[39;49;00m)\r\n",
      "    \r\n",
      "    data_X, data_len = convert_and_pad(model.word_dict, review_to_words(input_data))\r\n",
      "\r\n",
      "    \u001b[37m# Using data_X and data_len we construct an appropriate input tensor. Remember\u001b[39;49;00m\r\n",
      "    \u001b[37m# that our model expects input data of the form 'len, review[500]'.\u001b[39;49;00m\r\n",
      "    data_pack = np.hstack((data_len, data_X))\r\n",
      "    data_pack = data_pack.reshape(\u001b[34m1\u001b[39;49;00m, -\u001b[34m1\u001b[39;49;00m)\r\n",
      "    \r\n",
      "    data = torch.from_numpy(data_pack)\r\n",
      "    data = data.to(device)\r\n",
      "\r\n",
      "    \u001b[37m# Make sure to put the model into evaluation mode\u001b[39;49;00m\r\n",
      "    model.eval()\r\n",
      "\r\n",
      "    \u001b[37m# TODO: Compute the result of applying the model to the input data. The variable `result` should\u001b[39;49;00m\r\n",
      "    \u001b[37m#       be a numpy array which contains a single integer which is either 1 or 0\u001b[39;49;00m\r\n",
      "\r\n",
      "    \u001b[34mwith\u001b[39;49;00m torch.no_grad():\r\n",
      "        output = model.forward(data)        \r\n",
      "    result = np.round(output.numpy())\r\n",
      "\r\n",
      "    \u001b[34mreturn\u001b[39;49;00m result\r\n"
     ]
    }
   ],
   "source": [
    "!pygmentize serve/predict.py"
   ]
  },
  {
   "cell_type": "markdown",
   "metadata": {},
   "source": [
    "As mentioned earlier, the `model_fn` method is the same as the one provided in the training code and the `input_fn` and `output_fn` methods are very simple and your task will be to complete the `predict_fn` method. Make sure that you save the completed file as `predict.py` in the `serve` directory.\n",
    "\n",
    "**TODO**: Complete the `predict_fn()` method in the `serve/predict.py` file."
   ]
  },
  {
   "cell_type": "markdown",
   "metadata": {},
   "source": [
    "### Deploying the model\n",
    "\n",
    "Now that the custom inference code has been written, we will create and deploy our model. To begin with, we need to construct a new PyTorchModel object which points to the model artifacts created during training and also points to the inference code that we wish to use. Then we can call the deploy method to launch the deployment container.\n",
    "\n",
    "**NOTE**: The default behaviour for a deployed PyTorch model is to assume that any input passed to the predictor is a `numpy` array. In our case we want to send a string so we need to construct a simple wrapper around the `RealTimePredictor` class to accomodate simple strings. In a more complicated situation you may want to provide a serialization object, for example if you wanted to sent image data."
   ]
  },
  {
   "cell_type": "code",
   "execution_count": 39,
   "metadata": {},
   "outputs": [
    {
     "name": "stderr",
     "output_type": "stream",
     "text": [
      "INFO:sagemaker:Creating model with name: sagemaker-pytorch-2019-01-05-06-31-31-501\n",
      "INFO:sagemaker:Creating endpoint with name sagemaker-pytorch-2019-01-05-06-31-31-501\n"
     ]
    },
    {
     "name": "stdout",
     "output_type": "stream",
     "text": [
      "----------------------------------------------------------------------------!"
     ]
    }
   ],
   "source": [
    "from sagemaker.predictor import RealTimePredictor\n",
    "from sagemaker.pytorch import PyTorchModel\n",
    "\n",
    "class StringPredictor(RealTimePredictor):\n",
    "    def __init__(self, endpoint_name, sagemaker_session):\n",
    "        super(StringPredictor, self).__init__(endpoint_name, sagemaker_session, content_type='text/plain')\n",
    "\n",
    "model = PyTorchModel(model_data=estimator.model_data,\n",
    "                     role = role,\n",
    "                     framework_version='0.4.0',\n",
    "                     entry_point='predict.py',\n",
    "                     source_dir='serve',\n",
    "                     predictor_cls=StringPredictor)\n",
    "predictor = model.deploy(initial_instance_count=1, instance_type='ml.m4.xlarge')"
   ]
  },
  {
   "cell_type": "markdown",
   "metadata": {},
   "source": [
    "### Testing the model\n",
    "\n",
    "Now that we have deployed our model with the custom inference code, we should test to see if everything is working. Here we test our model by loading the first `250` positive and negative reviews and send them to the endpoint, then collect the results. The reason for only sending some of the data is that the amount of time it takes for our model to process the input and then perform inference is quite long and so testing the entire data set would be prohibitive."
   ]
  },
  {
   "cell_type": "code",
   "execution_count": 44,
   "metadata": {},
   "outputs": [],
   "source": [
    "import glob\n",
    "\n",
    "def test_reviews(data_dir='../data/aclImdb', stop=250):\n",
    "    \n",
    "    results = []\n",
    "    ground = []\n",
    "    \n",
    "    # We make sure to test both positive and negative reviews    \n",
    "    for sentiment in ['pos', 'neg']:\n",
    "        \n",
    "        path = os.path.join(data_dir, 'test', sentiment, '*.txt')\n",
    "        files = glob.glob(path)\n",
    "        \n",
    "        files_read = 0\n",
    "        \n",
    "        print('Starting ', sentiment, ' files')\n",
    "        \n",
    "        # Iterate through the files and send them to the predictor\n",
    "        for f in files:\n",
    "            with open(f) as review:\n",
    "                # First, we store the ground truth (was the review positive or negative)\n",
    "                if sentiment == 'pos':\n",
    "                    ground.append(1)\n",
    "                else:\n",
    "                    ground.append(0)\n",
    "                # Read in the review and convert to 'utf-8' for transmission via HTTP\n",
    "                review_input = review.read().encode('utf-8')\n",
    "                # Send the review to the predictor and store the results\n",
    "                \n",
    "                results.append(float(predictor.predict(review_input)))\n",
    "                \n",
    "            # Sending reviews to our endpoint one at a time takes a while so we\n",
    "            # only send a small number of reviews\n",
    "            files_read += 1\n",
    "            if files_read == stop:\n",
    "                break\n",
    "            \n",
    "    return ground, results"
   ]
  },
  {
   "cell_type": "code",
   "execution_count": 45,
   "metadata": {},
   "outputs": [
    {
     "name": "stdout",
     "output_type": "stream",
     "text": [
      "Starting  pos  files\n",
      "Starting  neg  files\n"
     ]
    }
   ],
   "source": [
    "ground, results = test_reviews()"
   ]
  },
  {
   "cell_type": "code",
   "execution_count": 46,
   "metadata": {},
   "outputs": [
    {
     "data": {
      "text/plain": [
       "0.818"
      ]
     },
     "execution_count": 46,
     "metadata": {},
     "output_type": "execute_result"
    }
   ],
   "source": [
    "from sklearn.metrics import accuracy_score\n",
    "accuracy_score(ground, results)"
   ]
  },
  {
   "cell_type": "markdown",
   "metadata": {},
   "source": [
    "As an additional test, we can try sending the `test_review` that we looked at earlier."
   ]
  },
  {
   "cell_type": "code",
   "execution_count": 47,
   "metadata": {},
   "outputs": [
    {
     "data": {
      "text/plain": [
       "b'1.0'"
      ]
     },
     "execution_count": 47,
     "metadata": {},
     "output_type": "execute_result"
    }
   ],
   "source": [
    "predictor.predict(test_review)"
   ]
  },
  {
   "cell_type": "markdown",
   "metadata": {},
   "source": [
    "Now that we know our endpoint is working as expected, we can set up the web page that will interact with it. If you don't have time to finish the project now, make sure to skip down to the end of this notebook and shut down your endpoint. You can deploy it again when you come back."
   ]
  },
  {
   "cell_type": "markdown",
   "metadata": {},
   "source": [
    "## Step 7 (again): Use the model for the web app\n",
    "\n",
    "> **TODO:** This entire section and the next contain tasks for you to complete, mostly using the AWS console.\n",
    "\n",
    "So far we have been accessing our model endpoint by constructing a predictor object which uses the endpoint and then just using the predictor object to perform inference. What if we wanted to create a web app which accessed our model? The way things are set up currently makes that not possible since in order to access a SageMaker endpoint the app would first have to authenticate with AWS using an IAM role which included access to SageMaker endpoints. However, there is an easier way! We just need to use some additional AWS services.\n",
    "\n",
    "<img src=\"Web App Diagram.svg\">\n",
    "\n",
    "The diagram above gives an overview of how the various services will work together. On the far right is the model which we trained above and which is deployed using SageMaker. On the far left is our web app that collects a user's movie review, sends it off and expects a positive or negative sentiment in return.\n",
    "\n",
    "In the middle is where some of the magic happens. We will construct a Lambda function, which you can think of as a straightforward Python function that can be executed whenever a specified event occurs. We will give this function permission to send and recieve data from a SageMaker endpoint.\n",
    "\n",
    "Lastly, the method we will use to execute the Lambda function is a new endpoint that we will create using API Gateway. This endpoint will be a url that listens for data to be sent to it. Once it gets some data it will pass that data on to the Lambda function and then return whatever the Lambda function returns. Essentially it will act as an interface that lets our web app communicate with the Lambda function.\n",
    "\n",
    "### Setting up a Lambda function\n",
    "\n",
    "The first thing we are going to do is set up a Lambda function. This Lambda function will be executed whenever our public API has data sent to it. When it is executed it will receive the data, perform any sort of processing that is required, send the data (the review) to the SageMaker endpoint we've created and then return the result.\n",
    "\n",
    "#### Part A: Create an IAM Role for the Lambda function\n",
    "\n",
    "Since we want the Lambda function to call a SageMaker endpoint, we need to make sure that it has permission to do so. To do this, we will construct a role that we can later give the Lambda function.\n",
    "\n",
    "Using the AWS Console, navigate to the **IAM** page and click on **Roles**. Then, click on **Create role**. Make sure that the **AWS service** is the type of trusted entity selected and choose **Lambda** as the service that will use this role, then click **Next: Permissions**.\n",
    "\n",
    "In the search box type `sagemaker` and select the check box next to the **AmazonSageMakerFullAccess** policy. Then, click on **Next: Review**.\n",
    "\n",
    "Lastly, give this role a name. Make sure you use a name that you will remember later on, for example `LambdaSageMakerRole`. Then, click on **Create role**.\n",
    "\n",
    "#### Part B: Create a Lambda function\n",
    "\n",
    "Now it is time to actually create the Lambda function.\n",
    "\n",
    "Using the AWS Console, navigate to the AWS Lambda page and click on **Create a function**. When you get to the next page, make sure that **Author from scratch** is selected. Now, name your Lambda function, using a name that you will remember later on, for example `sentiment_analysis_func`. Make sure that the **Python 3.6** runtime is selected and then choose the role that you created in the previous part. Then, click on **Create Function**.\n",
    "\n",
    "On the next page you will see some information about the Lambda function you've just created. If you scroll down you should see an editor in which you can write the code that will be executed when your Lambda function is triggered. In our example, we will use the code below. \n",
    "\n",
    "```python\n",
    "# We need to use the low-level library to interact with SageMaker since the SageMaker API\n",
    "# is not available natively through Lambda.\n",
    "import boto3\n",
    "\n",
    "def lambda_handler(event, context):\n",
    "\n",
    "    # The SageMaker runtime is what allows us to invoke the endpoint that we've created.\n",
    "    runtime = boto3.Session().client('sagemaker-runtime')\n",
    "\n",
    "    # Now we use the SageMaker runtime to invoke our endpoint, sending the review we were given\n",
    "    response = runtime.invoke_endpoint(EndpointName = '**ENDPOINT NAME HERE**',    # The name of the endpoint we created\n",
    "                                       ContentType = 'text/plain',                 # The data format that is expected\n",
    "                                       Body = event['body'])                       # The actual review\n",
    "\n",
    "    # The response is an HTTP response whose body contains the result of our inference\n",
    "    result = response['Body'].read().decode('utf-8')\n",
    "\n",
    "    return {\n",
    "        'statusCode' : 200,\n",
    "        'headers' : { 'Content-Type' : 'text/plain', 'Access-Control-Allow-Origin' : '*' },\n",
    "        'body' : result\n",
    "    }\n",
    "```\n",
    "\n",
    "Once you have copy and pasted the code above into the Lambda code editor, replace the `**ENDPOINT NAME HERE**` portion with the name of the endpoint that we deployed earlier. You can determine the name of the endpoint using the code cell below."
   ]
  },
  {
   "cell_type": "code",
   "execution_count": 50,
   "metadata": {},
   "outputs": [
    {
     "data": {
      "text/plain": [
       "'sagemaker-pytorch-2019-01-05-06-31-31-501'"
      ]
     },
     "execution_count": 50,
     "metadata": {},
     "output_type": "execute_result"
    }
   ],
   "source": [
    "predictor.endpoint"
   ]
  },
  {
   "cell_type": "markdown",
   "metadata": {},
   "source": [
    "Once you have added the endpoint name to the Lambda function, click on **Save**. Your Lambda function is now up and running. Next we need to create a way for our web app to execute the Lambda function.\n",
    "\n",
    "### Setting up API Gateway\n",
    "\n",
    "Now that our Lambda function is set up, it is time to create a new API using API Gateway that will trigger the Lambda function we have just created.\n",
    "\n",
    "Using AWS Console, navigate to **Amazon API Gateway** and then click on **Get started**.\n",
    "\n",
    "On the next page, make sure that **New API** is selected and give the new api a name, for example, `sentiment_analysis_api`. Then, click on **Create API**.\n",
    "\n",
    "Now we have created an API, however it doesn't currently do anything. What we want it to do is to trigger the Lambda function that we created earlier.\n",
    "\n",
    "Select the **Actions** dropdown menu and click **Create Method**. A new blank method will be created, select its dropdown menu and select **POST**, then click on the check mark beside it.\n",
    "\n",
    "For the integration point, make sure that **Lambda Function** is selected and click on the **Use Lambda Proxy integration**. This option makes sure that the data that is sent to the API is then sent directly to the Lambda function with no processing. It also means that the return value must be a proper response object as it will also not be processed by API Gateway.\n",
    "\n",
    "Type the name of the Lambda function you created earlier into the **Lambda Function** text entry box and then click on **Save**. Click on **OK** in the pop-up box that then appears, giving permission to API Gateway to invoke the Lambda function you created.\n",
    "\n",
    "The last step in creating the API Gateway is to select the **Actions** dropdown and click on **Deploy API**. You will need to create a new Deployment stage and name it anything you like, for example `prod`.\n",
    "\n",
    "You have now successfully set up a public API to access your SageMaker model. Make sure to copy or write down the URL provided to invoke your newly created public API as this will be needed in the next step. This URL can be found at the top of the page, highlighted in blue next to the text **Invoke URL**."
   ]
  },
  {
   "cell_type": "markdown",
   "metadata": {},
   "source": [
    "## Step 4: Deploying our web app\n",
    "\n",
    "Now that we have a publicly available API, we can start using it in a web app. For our purposes, we have provided a simple static html file which can make use of the public api you created earlier.\n",
    "\n",
    "In the `website` folder there should be a file called `index.html`. Download the file to your computer and open that file up in a text editor of your choice. There should be a line which contains **\\*\\*REPLACE WITH PUBLIC API URL\\*\\***. Replace this string with the url that you wrote down in the last step and then save the file.\n",
    "\n",
    "Now, if you open `index.html` on your local computer, your browser will behave as a local web server and you can use the provided site to interact with your SageMaker model.\n",
    "\n",
    "If you'd like to go further, you can host this html file anywhere you'd like, for example using github or hosting a static site on Amazon's S3. Once you have done this you can share the link with anyone you'd like and have them play with it too!\n",
    "\n",
    "> **Important Note** In order for the web app to communicate with the SageMaker endpoint, the endpoint has to actually be deployed and running. This means that you are paying for it. Make sure that the endpoint is running when you want to use the web app but that you shut it down when you don't need it, otherwise you will end up with a surprisingly large AWS bill.\n",
    "\n",
    "**TODO:** Make sure that you include the edited `index.html` file in your project submission."
   ]
  },
  {
   "cell_type": "markdown",
   "metadata": {},
   "source": [
    "Now that your web app is working, trying playing around with it and see how well it works.\n",
    "\n",
    "**Question**: Give an example of a review that you entered into your web app. What was the predicted sentiment of your example review?"
   ]
  },
  {
   "cell_type": "markdown",
   "metadata": {},
   "source": [
    "**Answer:**\n",
    "\n",
    "**The review below was predicted to be positive.**\n",
    "\n",
    "Good: The time period 1969 provides a great stylistic approach to a hotel that has property on both California and Nevada, which adds to the idea of having a good side and a bad side and the hotel also creates a sense of entrapment. The cinematography is great as it makes slow pans to unveil the secrets of the characters and the El Royale. The hotel, costume design, and soundtrack help create a nostalgic setting. The directing and editing are also well done when incorporating sound/music to scenes especially when Cynthia Ervio sings. Erivo's musical performance is filled with heart and soul and helps develop the character and conveys her emotions. Other standouts are Jeff Bridges and Chris Hemsworth. Hemsworth just has a charming presence and provides the slight dark tone of his character. Bridges plays his character well as he connects with Erivo and tries to execute his actions. However, the rest of the cast have trouble making their appearance known...\n",
    "\n",
    "Bad: At a whopping 2h 20m runtime, the film is a slow burn where it takes a painstakingly long time to make it to the end and even the finale becomes a disappointment. At times it tries to be funny, but the humor is not a standout in this film. There is a lack of emotional pull to the characters which is evident in the finale where the characters are still not fully developed. The concept was there, but the creativity lacked, which ended up in poor execution. \n",
    "\n",
    "Overall: Style over substance. I wanted to like this movie for the trailer was great with its editing, soundtrack, and cast, but does not live up to Drew Godard's directing predecessor \"The Cabin in the Woods,\" or have the writing creativity from \"The Martian.\" The film reminded me a lot of Quentin Tarantino films as it was divided into chapters and had the same style with flashback stories to gain background, however, I would rather watch \"Hateful Eight,\" or any of Tarantino films that have excellent dialogue and action."
   ]
  },
  {
   "cell_type": "markdown",
   "metadata": {},
   "source": [
    "### Delete the endpoint\n",
    "\n",
    "Remember to always shut down your endpoint if you are no longer using it. You are charged for the length of time that the endpoint is running so if you forget and leave it on you could end up with an unexpectedly large bill."
   ]
  },
  {
   "cell_type": "code",
   "execution_count": null,
   "metadata": {
    "scrolled": false
   },
   "outputs": [],
   "source": [
    "predictor.delete_endpoint()"
   ]
  },
  {
   "cell_type": "code",
   "execution_count": null,
   "metadata": {},
   "outputs": [],
   "source": []
  }
 ],
 "metadata": {
  "kernelspec": {
   "display_name": "conda_pytorch_p36",
   "language": "python",
   "name": "conda_pytorch_p36"
  },
  "language_info": {
   "codemirror_mode": {
    "name": "ipython",
    "version": 3
   },
   "file_extension": ".py",
   "mimetype": "text/x-python",
   "name": "python",
   "nbconvert_exporter": "python",
   "pygments_lexer": "ipython3",
   "version": "3.6.5"
  }
 },
 "nbformat": 4,
 "nbformat_minor": 2
}
